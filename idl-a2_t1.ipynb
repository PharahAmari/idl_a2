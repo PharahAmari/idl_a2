{
 "cells": [
  {
   "cell_type": "markdown",
   "metadata": {},
   "source": [
    "## libraries"
   ]
  },
  {
   "cell_type": "code",
   "execution_count": 4,
   "metadata": {},
   "outputs": [],
   "source": [
    "import tensorflow as tf\n",
    "from tensorflow import keras \n",
    "from tensorflow.keras.datasets import mnist, fashion_mnist\n",
    "from tensorflow.keras.models import Sequential\n",
    "from tensorflow.keras.layers import Dense, Dropout\n",
    "from tensorflow.keras.optimizers import RMSprop\n",
    "from sklearn.model_selection import train_test_split\n",
    "import numpy as np\n",
    "import matplotlib.pyplot as plt\n",
    "import seaborn as sns\n",
    "import pandas as pd\n",
    "from functools import partial"
   ]
  },
  {
   "cell_type": "markdown",
   "metadata": {},
   "source": [
    "## initial settings"
   ]
  },
  {
   "cell_type": "code",
   "execution_count": 5,
   "metadata": {},
   "outputs": [],
   "source": [
    "num_classes = 10 #defined from datasets\n",
    "epochs = 10\n",
    "validation_size = 0.1"
   ]
  },
  {
   "cell_type": "markdown",
   "metadata": {},
   "source": [
    "## define functions"
   ]
  },
  {
   "cell_type": "markdown",
   "metadata": {},
   "source": [
    "### train test split"
   ]
  },
  {
   "cell_type": "code",
   "execution_count": 6,
   "metadata": {},
   "outputs": [],
   "source": [
    "def splitData(dataset):\n",
    "  (X_train, y_train), (X_test, y_test) = dataset.load_data()\n",
    "\n",
    "  X_train, X_valid, y_train, y_valid = train_test_split(X_train, y_train, test_size=validation_size)\n",
    "\n",
    "  X_train = X_train.reshape(int(60000 * (1.0 - validation_size)), 28, 28, 1)\n",
    "  X_test = X_test.reshape(10000, 28, 28, 1)\n",
    "  X_valid = X_valid.reshape(int(60000 * validation_size), 28, 28, 1)\n",
    "\n",
    "  X_train = X_train.astype('float32')\n",
    "  X_test = X_test.astype('float32')\n",
    "  X_valid = X_valid.astype('float32')\n",
    "\n",
    "  X_train /= 255\n",
    "  X_test /= 255\n",
    "  X_valid /= 255\n",
    "\n",
    "  # convert class vectors to binary class matrices\n",
    "  y_train = keras.utils.to_categorical(y_train, num_classes)\n",
    "  y_test = keras.utils.to_categorical(y_test, num_classes)\n",
    "  y_valid = keras.utils.to_categorical(y_valid, num_classes)\n",
    "\n",
    "  return X_train, y_train, X_test, y_test, X_valid, y_valid"
   ]
  },
  {
   "cell_type": "markdown",
   "metadata": {},
   "source": [
    "### train model"
   ]
  },
  {
   "cell_type": "code",
   "execution_count": 7,
   "metadata": {},
   "outputs": [],
   "source": [
    "def trainModel(model, X_train, y_train, X_valid, y_valid, optim='sgd'):\n",
    "    model.compile(loss=\"categorical_crossentropy\",\n",
    "    optimizer=\"sgd\",\n",
    "    metrics=[\"accuracy\"])\n",
    "    \n",
    "    #track epoch loss history\n",
    "    history = model.fit(X_train, y_train, epochs=epochs,\n",
    "                        validation_data=(X_valid, y_valid))\n",
    "    \n",
    "    return history"
   ]
  },
  {
   "cell_type": "markdown",
   "metadata": {},
   "source": [
    "### plot loss over epochs"
   ]
  },
  {
   "cell_type": "code",
   "execution_count": 12,
   "metadata": {},
   "outputs": [],
   "source": [
    "def pltHistory(history):\n",
    "  pd.DataFrame(history.history).plot(figsize=(8, 5))\n",
    "  plt.grid(True)\n",
    "  plt.gca().set_ylim(0, 1) # set the vertical range to [0-1]\n",
    "  plt.title(\"Loss and Accuracy over Epochs\")\n",
    "  plt.xlabel('Epochs')\n",
    "  plt.ylabel('Loss/Accuracy')\n",
    "  plt.show()"
   ]
  },
  {
   "cell_type": "markdown",
   "metadata": {},
   "source": [
    "### execute experiments for a given model and dataset"
   ]
  },
  {
   "cell_type": "code",
   "execution_count": 22,
   "metadata": {},
   "outputs": [],
   "source": [
    "def doExperiment(model, dataset, plot_hist=True, optim='sgd'):\n",
    "  X_train, y_train, X_test, y_test, X_valid, y_valid = splitData(dataset)\n",
    "  # print(\"--- Training Model ...\")\n",
    "  history = trainModel(model, X_train, y_train, X_valid, y_valid)\n",
    "  if plot_hist == True:\n",
    "    print(\"\\n\\n ========= History =========\")\n",
    "    pltHistory(history)\n",
    "  print(\"\\n\\n ========= Evaluation (Loss, Accuracy) ========= \")\n",
    "  return model.evaluate(X_test, y_test)"
   ]
  },
  {
   "cell_type": "markdown",
   "metadata": {},
   "source": [
    "## mlp"
   ]
  },
  {
   "cell_type": "code",
   "execution_count": 10,
   "metadata": {},
   "outputs": [],
   "source": [
    "mlp_model = keras.models.Sequential([\n",
    "  keras.layers.Flatten(input_shape=[28, 28, 1]),\n",
    "  keras.layers.Dense(300, activation=\"relu\"),\n",
    "  keras.layers.Dense(100, activation=\"relu\"),\n",
    "  keras.layers.Dense(10, activation=\"softmax\")\n",
    "])"
   ]
  },
  {
   "cell_type": "markdown",
   "metadata": {},
   "source": [
    "### mnist dataset"
   ]
  },
  {
   "cell_type": "code",
   "execution_count": 13,
   "metadata": {},
   "outputs": [
    {
     "name": "stdout",
     "output_type": "stream",
     "text": [
      "Epoch 1/10\n",
      "1688/1688 [==============================] - 6s 3ms/step - loss: 0.1018 - accuracy: 0.9707 - val_loss: 0.0945 - val_accuracy: 0.9738\n",
      "Epoch 2/10\n",
      "1688/1688 [==============================] - 5s 3ms/step - loss: 0.0898 - accuracy: 0.9746 - val_loss: 0.0939 - val_accuracy: 0.9735\n",
      "Epoch 3/10\n",
      "1688/1688 [==============================] - 5s 3ms/step - loss: 0.0840 - accuracy: 0.9768 - val_loss: 0.0873 - val_accuracy: 0.9750\n",
      "Epoch 4/10\n",
      "1688/1688 [==============================] - 5s 3ms/step - loss: 0.0758 - accuracy: 0.9791 - val_loss: 0.0849 - val_accuracy: 0.9755\n",
      "Epoch 5/10\n",
      "1688/1688 [==============================] - 5s 3ms/step - loss: 0.0683 - accuracy: 0.9815 - val_loss: 0.0873 - val_accuracy: 0.9740\n",
      "Epoch 6/10\n",
      "1688/1688 [==============================] - 5s 3ms/step - loss: 0.0640 - accuracy: 0.9824 - val_loss: 0.0790 - val_accuracy: 0.9762\n",
      "Epoch 7/10\n",
      "1688/1688 [==============================] - 5s 3ms/step - loss: 0.0618 - accuracy: 0.9830 - val_loss: 0.0761 - val_accuracy: 0.9775\n",
      "Epoch 8/10\n",
      "1688/1688 [==============================] - 5s 3ms/step - loss: 0.0583 - accuracy: 0.9849 - val_loss: 0.0744 - val_accuracy: 0.9775\n",
      "Epoch 9/10\n",
      "1688/1688 [==============================] - 5s 3ms/step - loss: 0.0532 - accuracy: 0.9862 - val_loss: 0.0751 - val_accuracy: 0.9760\n",
      "Epoch 10/10\n",
      "1688/1688 [==============================] - 5s 3ms/step - loss: 0.0506 - accuracy: 0.9871 - val_loss: 0.0702 - val_accuracy: 0.9780\n",
      "\n",
      "\n",
      " ========= History =========\n"
     ]
    },
    {
     "data": {
      "image/png": "[encoded data removed]",
      "text/plain": [
       "<Figure size 576x360 with 1 Axes>"
      ]
     },
     "metadata": {
      "needs_background": "light"
     },
     "output_type": "display_data"
    },
    {
     "name": "stdout",
     "output_type": "stream",
     "text": [
      "\n",
      "\n",
      " ========= Evaluation (Loss, Accuracy) ========= \n",
      "313/313 [==============================] - 1s 2ms/step - loss: 0.0766 - accuracy: 0.9763\n"
     ]
    },
    {
     "data": {
      "text/plain": [
       "[0.07656044512987137, 0.9763000011444092]"
      ]
     },
     "execution_count": 13,
     "metadata": {},
     "output_type": "execute_result"
    }
   ],
   "source": [
    "doExperiment(mlp_model, mnist, plot_hist=True)"
   ]
  },
  {
   "cell_type": "markdown",
   "metadata": {},
   "source": [
    "### fashion mnist"
   ]
  },
  {
   "cell_type": "code",
   "execution_count": 14,
   "metadata": {},
   "outputs": [
    {
     "name": "stdout",
     "output_type": "stream",
     "text": [
      "Downloading data from https://storage.googleapis.com/tensorflow/tf-keras-datasets/train-labels-idx1-ubyte.gz\n",
      "32768/29515 [=================================] - 0s 0us/step\n",
      "Downloading data from https://storage.googleapis.com/tensorflow/tf-keras-datasets/train-images-idx3-ubyte.gz\n",
      "26427392/26421880 [==============================] - 1s 0us/step\n",
      "Downloading data from https://storage.googleapis.com/tensorflow/tf-keras-datasets/t10k-labels-idx1-ubyte.gz\n",
      "8192/5148 [===============================================] - 0s 1us/step\n",
      "Downloading data from https://storage.googleapis.com/tensorflow/tf-keras-datasets/t10k-images-idx3-ubyte.gz\n",
      "4423680/4422102 [==============================] - 0s 0us/step: \n",
      "Epoch 1/10\n",
      "1688/1688 [==============================] - 8s 4ms/step - loss: 0.9534 - accuracy: 0.7255 - val_loss: 0.4855 - val_accuracy: 0.8370\n",
      "Epoch 2/10\n",
      "1688/1688 [==============================] - 6s 4ms/step - loss: 0.4532 - accuracy: 0.8394 - val_loss: 0.4604 - val_accuracy: 0.8280\n",
      "Epoch 3/10\n",
      "1688/1688 [==============================] - 7s 4ms/step - loss: 0.4075 - accuracy: 0.8582 - val_loss: 0.4100 - val_accuracy: 0.8585\n",
      "Epoch 4/10\n",
      "1688/1688 [==============================] - 8s 5ms/step - loss: 0.3750 - accuracy: 0.8656 - val_loss: 0.3729 - val_accuracy: 0.8735\n",
      "Epoch 5/10\n",
      "1688/1688 [==============================] - 6s 4ms/step - loss: 0.3560 - accuracy: 0.8723 - val_loss: 0.3628 - val_accuracy: 0.8780\n",
      "Epoch 6/10\n",
      "1688/1688 [==============================] - 6s 4ms/step - loss: 0.3418 - accuracy: 0.8782 - val_loss: 0.3555 - val_accuracy: 0.8757\n",
      "Epoch 7/10\n",
      "1688/1688 [==============================] - 7s 4ms/step - loss: 0.3285 - accuracy: 0.8824 - val_loss: 0.3315 - val_accuracy: 0.8813\n",
      "Epoch 8/10\n",
      "1688/1688 [==============================] - 6s 4ms/step - loss: 0.3146 - accuracy: 0.8861 - val_loss: 0.3244 - val_accuracy: 0.8870\n",
      "Epoch 9/10\n",
      "1688/1688 [==============================] - 7s 4ms/step - loss: 0.3025 - accuracy: 0.8909 - val_loss: 0.3467 - val_accuracy: 0.8765\n",
      "Epoch 10/10\n",
      "1688/1688 [==============================] - 7s 4ms/step - loss: 0.3008 - accuracy: 0.8913 - val_loss: 0.3531 - val_accuracy: 0.8727\n",
      "\n",
      "\n",
      " ========= History =========\n"
     ]
    },
    {
     "data": {
      "image/png": "[encoded data removed]",
      "text/plain": [
       "<Figure size 576x360 with 1 Axes>"
      ]
     },
     "metadata": {
      "needs_background": "light"
     },
     "output_type": "display_data"
    },
    {
     "name": "stdout",
     "output_type": "stream",
     "text": [
      "\n",
      "\n",
      " ========= Evaluation (Loss, Accuracy) ========= \n",
      "313/313 [==============================] - 1s 3ms/step - loss: 0.3974 - accuracy: 0.8581\n"
     ]
    },
    {
     "data": {
      "text/plain": [
       "[0.39744359254837036, 0.8580999970436096]"
      ]
     },
     "execution_count": 14,
     "metadata": {},
     "output_type": "execute_result"
    }
   ],
   "source": [
    "doExperiment(mlp_model, fashion_mnist, plot_hist=True)"
   ]
  },
  {
   "cell_type": "markdown",
   "metadata": {},
   "source": [
    "### experiments"
   ]
  },
  {
   "cell_type": "markdown",
   "metadata": {},
   "source": [
    "#### number of layers (mnist dataset and relu activation)"
   ]
  },
  {
   "cell_type": "code",
   "execution_count": 15,
   "metadata": {},
   "outputs": [
    {
     "name": "stdout",
     "output_type": "stream",
     "text": [
      "Epoch 1/10\n",
      "1688/1688 [==============================] - 5s 3ms/step - loss: 1.0321 - accuracy: 0.7391 - val_loss: 0.3848 - val_accuracy: 0.8933\n",
      "Epoch 2/10\n",
      "1688/1688 [==============================] - 4s 2ms/step - loss: 0.3547 - accuracy: 0.9018 - val_loss: 0.3151 - val_accuracy: 0.9107\n",
      "Epoch 3/10\n",
      "1688/1688 [==============================] - 4s 2ms/step - loss: 0.3036 - accuracy: 0.9154 - val_loss: 0.2793 - val_accuracy: 0.9207\n",
      "Epoch 4/10\n",
      "1688/1688 [==============================] - 4s 3ms/step - loss: 0.2660 - accuracy: 0.9268 - val_loss: 0.2551 - val_accuracy: 0.9275\n",
      "Epoch 5/10\n",
      "1688/1688 [==============================] - 4s 2ms/step - loss: 0.2447 - accuracy: 0.9327 - val_loss: 0.2346 - val_accuracy: 0.9332\n",
      "Epoch 6/10\n",
      "1688/1688 [==============================] - 4s 2ms/step - loss: 0.2186 - accuracy: 0.9400 - val_loss: 0.2187 - val_accuracy: 0.9372\n",
      "Epoch 7/10\n",
      "1688/1688 [==============================] - 4s 2ms/step - loss: 0.2092 - accuracy: 0.9418 - val_loss: 0.2047 - val_accuracy: 0.9417\n",
      "Epoch 8/10\n",
      "1688/1688 [==============================] - 4s 2ms/step - loss: 0.1870 - accuracy: 0.9483 - val_loss: 0.1943 - val_accuracy: 0.9422\n",
      "Epoch 9/10\n",
      "1688/1688 [==============================] - 4s 2ms/step - loss: 0.1778 - accuracy: 0.9502 - val_loss: 0.1820 - val_accuracy: 0.9488\n",
      "Epoch 10/10\n",
      "1688/1688 [==============================] - 4s 2ms/step - loss: 0.1667 - accuracy: 0.9537 - val_loss: 0.1737 - val_accuracy: 0.9512\n",
      "\n",
      "\n",
      " ========= History =========\n"
     ]
    },
    {
     "data": {
      "image/png": "[encoded data removed]",
      "text/plain": [
       "<Figure size 576x360 with 1 Axes>"
      ]
     },
     "metadata": {
      "needs_background": "light"
     },
     "output_type": "display_data"
    },
    {
     "name": "stdout",
     "output_type": "stream",
     "text": [
      "\n",
      "\n",
      " ========= Evaluation (Loss, Accuracy) ========= \n",
      "313/313 [==============================] - 1s 2ms/step - loss: 0.1643 - accuracy: 0.9532\n"
     ]
    },
    {
     "data": {
      "text/plain": [
       "[0.16428984701633453, 0.9531999826431274]"
      ]
     },
     "execution_count": 15,
     "metadata": {},
     "output_type": "execute_result"
    }
   ],
   "source": [
    "# single layer\n",
    "exp_mlp_model = keras.models.Sequential([\n",
    "  keras.layers.Flatten(input_shape=[28, 28, 1]),\n",
    "  keras.layers.Dense(300, activation=\"relu\"),\n",
    "  keras.layers.Dense(10, activation=\"softmax\")\n",
    "])\n",
    "\n",
    "doExperiment(exp_mlp_model, mnist, plot_hist=True)"
   ]
  },
  {
   "cell_type": "code",
   "execution_count": 16,
   "metadata": {},
   "outputs": [
    {
     "name": "stdout",
     "output_type": "stream",
     "text": [
      "Epoch 1/10\n",
      "1688/1688 [==============================] - 5s 3ms/step - loss: 1.0228 - accuracy: 0.7276 - val_loss: 0.3451 - val_accuracy: 0.8983\n",
      "Epoch 2/10\n",
      "1688/1688 [==============================] - 5s 3ms/step - loss: 0.3102 - accuracy: 0.9113 - val_loss: 0.2796 - val_accuracy: 0.9153\n",
      "Epoch 3/10\n",
      "1688/1688 [==============================] - 5s 3ms/step - loss: 0.2468 - accuracy: 0.9301 - val_loss: 0.2476 - val_accuracy: 0.9233\n",
      "Epoch 4/10\n",
      "1688/1688 [==============================] - 5s 3ms/step - loss: 0.2077 - accuracy: 0.9420 - val_loss: 0.2131 - val_accuracy: 0.9353\n",
      "Epoch 5/10\n",
      "1688/1688 [==============================] - 5s 3ms/step - loss: 0.1811 - accuracy: 0.9482 - val_loss: 0.1918 - val_accuracy: 0.9415\n",
      "Epoch 6/10\n",
      "1688/1688 [==============================] - 5s 3ms/step - loss: 0.1603 - accuracy: 0.9549 - val_loss: 0.1744 - val_accuracy: 0.9458\n",
      "Epoch 7/10\n",
      "1688/1688 [==============================] - 5s 3ms/step - loss: 0.1405 - accuracy: 0.9603 - val_loss: 0.1597 - val_accuracy: 0.9497\n",
      "Epoch 8/10\n",
      "1688/1688 [==============================] - 5s 3ms/step - loss: 0.1290 - accuracy: 0.9639 - val_loss: 0.1491 - val_accuracy: 0.9538\n",
      "Epoch 9/10\n",
      "1688/1688 [==============================] - 5s 3ms/step - loss: 0.1182 - accuracy: 0.9664 - val_loss: 0.1409 - val_accuracy: 0.9580\n",
      "Epoch 10/10\n",
      "1688/1688 [==============================] - 5s 3ms/step - loss: 0.1093 - accuracy: 0.9704 - val_loss: 0.1290 - val_accuracy: 0.9603\n",
      "\n",
      "\n",
      " ========= History =========\n"
     ]
    },
    {
     "data": {
      "image/png": "[encoded data removed]",
      "text/plain": [
       "<Figure size 576x360 with 1 Axes>"
      ]
     },
     "metadata": {
      "needs_background": "light"
     },
     "output_type": "display_data"
    },
    {
     "name": "stdout",
     "output_type": "stream",
     "text": [
      "\n",
      "\n",
      " ========= Evaluation (Loss, Accuracy) ========= \n",
      "313/313 [==============================] - 1s 2ms/step - loss: 0.1094 - accuracy: 0.9675\n"
     ]
    },
    {
     "data": {
      "text/plain": [
       "[0.10941637307405472, 0.9674999713897705]"
      ]
     },
     "execution_count": 16,
     "metadata": {},
     "output_type": "execute_result"
    }
   ],
   "source": [
    "# 2 layers\n",
    "exp_mlp_model = keras.models.Sequential([\n",
    "  keras.layers.Flatten(input_shape=[28, 28, 1]),\n",
    "  keras.layers.Dense(300, activation=\"relu\"),\n",
    "  keras.layers.Dense(100, activation=\"relu\"),\n",
    "  keras.layers.Dense(10, activation=\"softmax\")\n",
    "])\n",
    "\n",
    "doExperiment(exp_mlp_model, mnist, plot_hist=True)"
   ]
  },
  {
   "cell_type": "code",
   "execution_count": 17,
   "metadata": {},
   "outputs": [
    {
     "name": "stdout",
     "output_type": "stream",
     "text": [
      "Epoch 1/10\n",
      "1688/1688 [==============================] - 7s 4ms/step - loss: 1.0736 - accuracy: 0.7014 - val_loss: 0.2957 - val_accuracy: 0.9108\n",
      "Epoch 2/10\n",
      "1688/1688 [==============================] - 6s 4ms/step - loss: 0.2759 - accuracy: 0.9187 - val_loss: 0.2260 - val_accuracy: 0.9318\n",
      "Epoch 3/10\n",
      "1688/1688 [==============================] - 6s 4ms/step - loss: 0.2088 - accuracy: 0.9391 - val_loss: 0.1891 - val_accuracy: 0.9442\n",
      "Epoch 4/10\n",
      "1688/1688 [==============================] - 6s 4ms/step - loss: 0.1716 - accuracy: 0.9500 - val_loss: 0.1628 - val_accuracy: 0.9517\n",
      "Epoch 5/10\n",
      "1688/1688 [==============================] - 6s 4ms/step - loss: 0.1453 - accuracy: 0.9594 - val_loss: 0.1445 - val_accuracy: 0.9578\n",
      "Epoch 6/10\n",
      "1688/1688 [==============================] - 6s 4ms/step - loss: 0.1238 - accuracy: 0.9629 - val_loss: 0.1296 - val_accuracy: 0.9595\n",
      "Epoch 7/10\n",
      "1688/1688 [==============================] - 6s 4ms/step - loss: 0.1111 - accuracy: 0.9686 - val_loss: 0.1256 - val_accuracy: 0.9615\n",
      "Epoch 8/10\n",
      "1688/1688 [==============================] - 6s 4ms/step - loss: 0.0954 - accuracy: 0.9722 - val_loss: 0.1185 - val_accuracy: 0.9637\n",
      "Epoch 9/10\n",
      "1688/1688 [==============================] - 6s 4ms/step - loss: 0.0887 - accuracy: 0.9746 - val_loss: 0.1066 - val_accuracy: 0.9672\n",
      "Epoch 10/10\n",
      "1688/1688 [==============================] - 6s 4ms/step - loss: 0.0767 - accuracy: 0.9787 - val_loss: 0.0989 - val_accuracy: 0.9720\n",
      "\n",
      "\n",
      " ========= History =========\n"
     ]
    },
    {
     "data": {
      "image/png": "[encoded data removed]",
      "text/plain": [
       "<Figure size 576x360 with 1 Axes>"
      ]
     },
     "metadata": {
      "needs_background": "light"
     },
     "output_type": "display_data"
    },
    {
     "name": "stdout",
     "output_type": "stream",
     "text": [
      "\n",
      "\n",
      " ========= Evaluation (Loss, Accuracy) ========= \n",
      "313/313 [==============================] - 1s 2ms/step - loss: 0.0930 - accuracy: 0.9709\n"
     ]
    },
    {
     "data": {
      "text/plain": [
       "[0.09298780560493469, 0.9708999991416931]"
      ]
     },
     "execution_count": 17,
     "metadata": {},
     "output_type": "execute_result"
    }
   ],
   "source": [
    "# 3 layers\n",
    "exp_mlp_model = keras.models.Sequential([\n",
    "  keras.layers.Flatten(input_shape=[28, 28, 1]),\n",
    "  keras.layers.Dense(300, activation=\"relu\"),\n",
    "  keras.layers.Dense(300, activation=\"relu\"),\n",
    "  keras.layers.Dense(100, activation=\"relu\"),\n",
    "  keras.layers.Dense(10, activation=\"softmax\")\n",
    "])\n",
    "\n",
    "doExperiment(exp_mlp_model, mnist, plot_hist=True)"
   ]
  },
  {
   "cell_type": "code",
   "execution_count": 19,
   "metadata": {},
   "outputs": [
    {
     "name": "stdout",
     "output_type": "stream",
     "text": [
      "Epoch 1/10\n",
      "1688/1688 [==============================] - 9s 5ms/step - loss: 1.2589 - accuracy: 0.6369 - val_loss: 0.2953 - val_accuracy: 0.9138\n",
      "Epoch 2/10\n",
      "1688/1688 [==============================] - 8s 5ms/step - loss: 0.2686 - accuracy: 0.9200 - val_loss: 0.2243 - val_accuracy: 0.9283\n",
      "Epoch 3/10\n",
      "1688/1688 [==============================] - 8s 5ms/step - loss: 0.1867 - accuracy: 0.9453 - val_loss: 0.1622 - val_accuracy: 0.9518\n",
      "Epoch 4/10\n",
      "1688/1688 [==============================] - 8s 5ms/step - loss: 0.1431 - accuracy: 0.9573 - val_loss: 0.1288 - val_accuracy: 0.9620\n",
      "Epoch 5/10\n",
      "1688/1688 [==============================] - 9s 5ms/step - loss: 0.1136 - accuracy: 0.9659 - val_loss: 0.1171 - val_accuracy: 0.9667\n",
      "Epoch 6/10\n",
      "1688/1688 [==============================] - 9s 5ms/step - loss: 0.0954 - accuracy: 0.9714 - val_loss: 0.1070 - val_accuracy: 0.9687\n",
      "Epoch 7/10\n",
      "1688/1688 [==============================] - 9s 5ms/step - loss: 0.0802 - accuracy: 0.9766 - val_loss: 0.1060 - val_accuracy: 0.9662\n",
      "Epoch 8/10\n",
      "1688/1688 [==============================] - 9s 5ms/step - loss: 0.0681 - accuracy: 0.9796 - val_loss: 0.1050 - val_accuracy: 0.9670\n",
      "Epoch 9/10\n",
      "1688/1688 [==============================] - 9s 5ms/step - loss: 0.0602 - accuracy: 0.9831 - val_loss: 0.0977 - val_accuracy: 0.9698\n",
      "Epoch 10/10\n",
      "1688/1688 [==============================] - 9s 5ms/step - loss: 0.0508 - accuracy: 0.9851 - val_loss: 0.1774 - val_accuracy: 0.9492\n",
      "\n",
      "\n",
      " ========= History =========\n"
     ]
    },
    {
     "data": {
      "image/png": "[encoded data removed]",
      "text/plain": [
       "<Figure size 576x360 with 1 Axes>"
      ]
     },
     "metadata": {
      "needs_background": "light"
     },
     "output_type": "display_data"
    },
    {
     "name": "stdout",
     "output_type": "stream",
     "text": [
      "\n",
      "\n",
      " ========= Evaluation (Loss, Accuracy) ========= \n",
      "313/313 [==============================] - 1s 2ms/step - loss: 0.1663 - accuracy: 0.9497\n"
     ]
    },
    {
     "data": {
      "text/plain": [
       "[0.1662842333316803, 0.9496999979019165]"
      ]
     },
     "execution_count": 19,
     "metadata": {},
     "output_type": "execute_result"
    }
   ],
   "source": [
    "# 5 layers\n",
    "exp_mlp_model = keras.models.Sequential([\n",
    "  keras.layers.Flatten(input_shape=[28, 28, 1]),\n",
    "  keras.layers.Dense(300, activation=\"relu\"),\n",
    "  keras.layers.Dense(300, activation=\"relu\"),\n",
    "  keras.layers.Dense(300, activation=\"relu\"),\n",
    "  keras.layers.Dense(300, activation=\"relu\"),\n",
    "  keras.layers.Dense(100, activation=\"relu\"),\n",
    "  keras.layers.Dense(10, activation=\"softmax\")\n",
    "])\n",
    "\n",
    "doExperiment(exp_mlp_model, mnist, plot_hist=True)"
   ]
  },
  {
   "cell_type": "markdown",
   "metadata": {},
   "source": [
    "#### optimizers"
   ]
  },
  {
   "cell_type": "code",
   "execution_count": 24,
   "metadata": {
    "scrolled": true
   },
   "outputs": [
    {
     "name": "stdout",
     "output_type": "stream",
     "text": [
      "-------  sgd  -------\n",
      "Epoch 1/10\n",
      "1688/1688 [==============================] - 5s 3ms/step - loss: 0.0261 - accuracy: 0.9941 - val_loss: 0.0221 - val_accuracy: 0.9947\n",
      "Epoch 2/10\n",
      "1688/1688 [==============================] - 5s 3ms/step - loss: 0.0223 - accuracy: 0.9957 - val_loss: 0.0233 - val_accuracy: 0.9948\n",
      "Epoch 3/10\n",
      "1688/1688 [==============================] - 5s 3ms/step - loss: 0.0213 - accuracy: 0.9956 - val_loss: 0.0250 - val_accuracy: 0.9928\n",
      "Epoch 4/10\n",
      "1688/1688 [==============================] - 5s 3ms/step - loss: 0.0209 - accuracy: 0.9963 - val_loss: 0.0248 - val_accuracy: 0.9935\n",
      "Epoch 5/10\n",
      "1688/1688 [==============================] - 5s 3ms/step - loss: 0.0179 - accuracy: 0.9969 - val_loss: 0.0242 - val_accuracy: 0.9942\n",
      "Epoch 6/10\n",
      "1688/1688 [==============================] - 5s 3ms/step - loss: 0.0181 - accuracy: 0.9971 - val_loss: 0.0247 - val_accuracy: 0.9933\n",
      "Epoch 7/10\n",
      "1688/1688 [==============================] - 5s 3ms/step - loss: 0.0162 - accuracy: 0.9974 - val_loss: 0.0254 - val_accuracy: 0.9930\n",
      "Epoch 8/10\n",
      "1688/1688 [==============================] - 5s 3ms/step - loss: 0.0168 - accuracy: 0.9973 - val_loss: 0.0241 - val_accuracy: 0.9932\n",
      "Epoch 9/10\n",
      "1688/1688 [==============================] - 5s 3ms/step - loss: 0.0150 - accuracy: 0.9978 - val_loss: 0.0248 - val_accuracy: 0.9928\n",
      "Epoch 10/10\n",
      "1688/1688 [==============================] - 5s 3ms/step - loss: 0.0140 - accuracy: 0.9983 - val_loss: 0.0269 - val_accuracy: 0.9907\n",
      "\n",
      "\n",
      " ========= Evaluation (Loss, Accuracy) ========= \n",
      "313/313 [==============================] - 1s 2ms/step - loss: 0.0645 - accuracy: 0.9786\n",
      "-------  Adam  -------\n",
      "Epoch 1/10\n",
      "1688/1688 [==============================] - 5s 3ms/step - loss: 0.0147 - accuracy: 0.9975 - val_loss: 0.0135 - val_accuracy: 0.9977\n",
      "Epoch 2/10\n",
      "1688/1688 [==============================] - 5s 3ms/step - loss: 0.0141 - accuracy: 0.9976 - val_loss: 0.0154 - val_accuracy: 0.9960\n",
      "Epoch 3/10\n",
      "1688/1688 [==============================] - 5s 3ms/step - loss: 0.0128 - accuracy: 0.9981 - val_loss: 0.0140 - val_accuracy: 0.9968\n",
      "Epoch 4/10\n",
      "1688/1688 [==============================] - 5s 3ms/step - loss: 0.0120 - accuracy: 0.9986 - val_loss: 0.0139 - val_accuracy: 0.9968\n",
      "Epoch 5/10\n",
      "1688/1688 [==============================] - 5s 3ms/step - loss: 0.0108 - accuracy: 0.9989 - val_loss: 0.0151 - val_accuracy: 0.9967\n",
      "Epoch 6/10\n",
      "1688/1688 [==============================] - 5s 3ms/step - loss: 0.0103 - accuracy: 0.9990 - val_loss: 0.0144 - val_accuracy: 0.9962\n",
      "Epoch 7/10\n",
      "1688/1688 [==============================] - 5s 3ms/step - loss: 0.0095 - accuracy: 0.9990 - val_loss: 0.0154 - val_accuracy: 0.9953\n",
      "Epoch 8/10\n",
      "1688/1688 [==============================] - 5s 3ms/step - loss: 0.0093 - accuracy: 0.9992 - val_loss: 0.0155 - val_accuracy: 0.9962\n",
      "Epoch 9/10\n",
      "1688/1688 [==============================] - 5s 3ms/step - loss: 0.0089 - accuracy: 0.9992 - val_loss: 0.0153 - val_accuracy: 0.9957\n",
      "Epoch 10/10\n",
      "1688/1688 [==============================] - 5s 3ms/step - loss: 0.0096 - accuracy: 0.9992 - val_loss: 0.0154 - val_accuracy: 0.9957\n",
      "\n",
      "\n",
      " ========= Evaluation (Loss, Accuracy) ========= \n",
      "313/313 [==============================] - 1s 2ms/step - loss: 0.0640 - accuracy: 0.9798\n",
      "-------  RMSprop  -------\n",
      "Epoch 1/10\n",
      "1688/1688 [==============================] - 5s 3ms/step - loss: 0.0089 - accuracy: 0.9990 - val_loss: 0.0081 - val_accuracy: 0.9987\n",
      "Epoch 2/10\n",
      "1688/1688 [==============================] - 5s 3ms/step - loss: 0.0084 - accuracy: 0.9990 - val_loss: 0.0088 - val_accuracy: 0.9987\n",
      "Epoch 3/10\n",
      "1688/1688 [==============================] - 5s 3ms/step - loss: 0.0079 - accuracy: 0.9992 - val_loss: 0.0089 - val_accuracy: 0.9988\n",
      "Epoch 4/10\n",
      "1688/1688 [==============================] - 5s 3ms/step - loss: 0.0076 - accuracy: 0.9996 - val_loss: 0.0094 - val_accuracy: 0.9987\n",
      "Epoch 5/10\n",
      "1688/1688 [==============================] - 5s 3ms/step - loss: 0.0072 - accuracy: 0.9995 - val_loss: 0.0092 - val_accuracy: 0.9990\n",
      "Epoch 6/10\n",
      "1688/1688 [==============================] - 5s 3ms/step - loss: 0.0070 - accuracy: 0.9995 - val_loss: 0.0094 - val_accuracy: 0.9987\n",
      "Epoch 7/10\n",
      "1688/1688 [==============================] - 5s 3ms/step - loss: 0.0062 - accuracy: 0.9997 - val_loss: 0.0096 - val_accuracy: 0.9987\n",
      "Epoch 8/10\n",
      "1688/1688 [==============================] - 5s 3ms/step - loss: 0.0063 - accuracy: 0.9997 - val_loss: 0.0098 - val_accuracy: 0.9983\n",
      "Epoch 9/10\n",
      "1688/1688 [==============================] - 5s 3ms/step - loss: 0.0056 - accuracy: 0.9998 - val_loss: 0.0100 - val_accuracy: 0.9983\n",
      "Epoch 10/10\n",
      "1688/1688 [==============================] - 5s 3ms/step - loss: 0.0060 - accuracy: 0.9997 - val_loss: 0.0097 - val_accuracy: 0.9987\n",
      "\n",
      "\n",
      " ========= Evaluation (Loss, Accuracy) ========= \n",
      "313/313 [==============================] - 1s 2ms/step - loss: 0.0638 - accuracy: 0.9799\n",
      "-------  Adamax  -------\n",
      "Epoch 1/10\n",
      "1688/1688 [==============================] - 5s 3ms/step - loss: 0.0064 - accuracy: 0.9994 - val_loss: 0.0058 - val_accuracy: 0.9997\n",
      "Epoch 2/10\n",
      "1688/1688 [==============================] - 5s 3ms/step - loss: 0.0058 - accuracy: 0.9997 - val_loss: 0.0060 - val_accuracy: 0.9995\n",
      "Epoch 3/10\n",
      "1688/1688 [==============================] - 5s 3ms/step - loss: 0.0055 - accuracy: 0.9997 - val_loss: 0.0061 - val_accuracy: 0.9992\n",
      "Epoch 4/10\n",
      "1688/1688 [==============================] - 5s 3ms/step - loss: 0.0049 - accuracy: 0.9999 - val_loss: 0.0064 - val_accuracy: 0.9992\n",
      "Epoch 5/10\n",
      "1688/1688 [==============================] - 5s 3ms/step - loss: 0.0047 - accuracy: 0.9999 - val_loss: 0.0066 - val_accuracy: 0.9993\n",
      "Epoch 6/10\n",
      "1688/1688 [==============================] - 5s 3ms/step - loss: 0.0049 - accuracy: 0.9998 - val_loss: 0.0065 - val_accuracy: 0.9992\n",
      "Epoch 7/10\n",
      "1688/1688 [==============================] - 5s 3ms/step - loss: 0.0043 - accuracy: 0.9999 - val_loss: 0.0068 - val_accuracy: 0.9992\n",
      "Epoch 8/10\n",
      "1688/1688 [==============================] - 5s 3ms/step - loss: 0.0041 - accuracy: 0.9999 - val_loss: 0.0069 - val_accuracy: 0.9992\n",
      "Epoch 9/10\n",
      "1688/1688 [==============================] - 5s 3ms/step - loss: 0.0040 - accuracy: 0.9999 - val_loss: 0.0069 - val_accuracy: 0.9990\n",
      "Epoch 10/10\n",
      "1688/1688 [==============================] - 5s 3ms/step - loss: 0.0040 - accuracy: 0.9999 - val_loss: 0.0071 - val_accuracy: 0.9988\n",
      "\n",
      "\n",
      " ========= Evaluation (Loss, Accuracy) ========= \n",
      "313/313 [==============================] - 0s 2ms/step - loss: 0.0659 - accuracy: 0.9800\n"
     ]
    }
   ],
   "source": [
    "# mnist\n",
    "optims = ['sgd', 'Adam', 'RMSprop', 'Adamax']\n",
    "\n",
    "for optim in optims:\n",
    "    print('------- ', optim, ' -------')\n",
    "    doExperiment(mlp_model, mnist, optim=optim, plot_hist=False)"
   ]
  },
  {
   "cell_type": "code",
   "execution_count": 25,
   "metadata": {},
   "outputs": [
    {
     "name": "stdout",
     "output_type": "stream",
     "text": [
      "-------  sgd  -------\n",
      "Epoch 1/10\n",
      "1688/1688 [==============================] - 5s 3ms/step - loss: 0.4711 - accuracy: 0.8562 - val_loss: 0.3509 - val_accuracy: 0.8758\n",
      "Epoch 2/10\n",
      "1688/1688 [==============================] - 5s 3ms/step - loss: 0.2960 - accuracy: 0.8910 - val_loss: 0.3317 - val_accuracy: 0.8797\n",
      "Epoch 3/10\n",
      "1688/1688 [==============================] - 5s 3ms/step - loss: 0.2917 - accuracy: 0.8911 - val_loss: 0.3214 - val_accuracy: 0.8827\n",
      "Epoch 4/10\n",
      "1688/1688 [==============================] - 5s 3ms/step - loss: 0.2754 - accuracy: 0.8996 - val_loss: 0.3208 - val_accuracy: 0.8832\n",
      "Epoch 5/10\n",
      "1688/1688 [==============================] - 5s 3ms/step - loss: 0.2660 - accuracy: 0.9035 - val_loss: 0.3036 - val_accuracy: 0.8888\n",
      "Epoch 6/10\n",
      "1688/1688 [==============================] - 5s 3ms/step - loss: 0.2610 - accuracy: 0.9073 - val_loss: 0.2949 - val_accuracy: 0.8915\n",
      "Epoch 7/10\n",
      "1688/1688 [==============================] - 5s 3ms/step - loss: 0.2512 - accuracy: 0.9085 - val_loss: 0.2951 - val_accuracy: 0.8910\n",
      "Epoch 8/10\n",
      "1688/1688 [==============================] - 5s 3ms/step - loss: 0.2488 - accuracy: 0.9110 - val_loss: 0.2983 - val_accuracy: 0.8878\n",
      "Epoch 9/10\n",
      "1688/1688 [==============================] - 5s 3ms/step - loss: 0.2355 - accuracy: 0.9149 - val_loss: 0.3265 - val_accuracy: 0.8822\n",
      "Epoch 10/10\n",
      "1688/1688 [==============================] - 5s 3ms/step - loss: 0.2354 - accuracy: 0.9156 - val_loss: 0.2863 - val_accuracy: 0.8927\n",
      "\n",
      "\n",
      " ========= Evaluation (Loss, Accuracy) ========= \n",
      "313/313 [==============================] - 1s 2ms/step - loss: 0.3311 - accuracy: 0.8838\n",
      "-------  Adam  -------\n",
      "Epoch 1/10\n",
      "1688/1688 [==============================] - 5s 3ms/step - loss: 0.2289 - accuracy: 0.9163 - val_loss: 0.2336 - val_accuracy: 0.9178\n",
      "Epoch 2/10\n",
      "1688/1688 [==============================] - 5s 3ms/step - loss: 0.2255 - accuracy: 0.9183 - val_loss: 0.2515 - val_accuracy: 0.9117\n",
      "Epoch 3/10\n",
      "1688/1688 [==============================] - 5s 3ms/step - loss: 0.2226 - accuracy: 0.9171 - val_loss: 0.2484 - val_accuracy: 0.9120\n",
      "Epoch 4/10\n",
      "1688/1688 [==============================] - 5s 3ms/step - loss: 0.2222 - accuracy: 0.9200 - val_loss: 0.2362 - val_accuracy: 0.9135\n",
      "Epoch 5/10\n",
      "1688/1688 [==============================] - 5s 3ms/step - loss: 0.2095 - accuracy: 0.9253 - val_loss: 0.2385 - val_accuracy: 0.9143\n",
      "Epoch 6/10\n",
      "1688/1688 [==============================] - 5s 3ms/step - loss: 0.2059 - accuracy: 0.9258 - val_loss: 0.2489 - val_accuracy: 0.9102\n",
      "Epoch 7/10\n",
      "1688/1688 [==============================] - 5s 3ms/step - loss: 0.2045 - accuracy: 0.9251 - val_loss: 0.3091 - val_accuracy: 0.8847\n",
      "Epoch 8/10\n",
      "1688/1688 [==============================] - 5s 3ms/step - loss: 0.1960 - accuracy: 0.9298 - val_loss: 0.2330 - val_accuracy: 0.9167\n",
      "Epoch 9/10\n",
      "1688/1688 [==============================] - 5s 3ms/step - loss: 0.1980 - accuracy: 0.9277 - val_loss: 0.2469 - val_accuracy: 0.9115\n",
      "Epoch 10/10\n",
      "1688/1688 [==============================] - 5s 3ms/step - loss: 0.1889 - accuracy: 0.9312 - val_loss: 0.3054 - val_accuracy: 0.8848\n",
      "\n",
      "\n",
      " ========= Evaluation (Loss, Accuracy) ========= \n",
      "313/313 [==============================] - 1s 2ms/step - loss: 0.3871 - accuracy: 0.8625\n",
      "-------  RMSprop  -------\n",
      "Epoch 1/10\n",
      "1688/1688 [==============================] - 5s 3ms/step - loss: 0.1947 - accuracy: 0.9306 - val_loss: 0.1970 - val_accuracy: 0.9303\n",
      "Epoch 2/10\n",
      "1688/1688 [==============================] - 5s 3ms/step - loss: 0.1862 - accuracy: 0.9331 - val_loss: 0.2144 - val_accuracy: 0.9228\n",
      "Epoch 3/10\n",
      "1688/1688 [==============================] - 5s 3ms/step - loss: 0.1833 - accuracy: 0.9320 - val_loss: 0.2049 - val_accuracy: 0.9265\n",
      "Epoch 4/10\n",
      "1688/1688 [==============================] - 5s 3ms/step - loss: 0.1795 - accuracy: 0.9340 - val_loss: 0.2126 - val_accuracy: 0.9205\n",
      "Epoch 5/10\n",
      "1688/1688 [==============================] - 5s 3ms/step - loss: 0.1801 - accuracy: 0.9368 - val_loss: 0.2082 - val_accuracy: 0.9265\n",
      "Epoch 6/10\n",
      "1688/1688 [==============================] - 5s 3ms/step - loss: 0.1747 - accuracy: 0.9374 - val_loss: 0.2182 - val_accuracy: 0.9233\n",
      "Epoch 7/10\n",
      "1688/1688 [==============================] - 5s 3ms/step - loss: 0.1664 - accuracy: 0.9391 - val_loss: 0.2177 - val_accuracy: 0.9243\n",
      "Epoch 8/10\n",
      "1688/1688 [==============================] - 5s 3ms/step - loss: 0.1678 - accuracy: 0.9388 - val_loss: 0.2480 - val_accuracy: 0.9087\n",
      "Epoch 9/10\n",
      "1688/1688 [==============================] - 5s 3ms/step - loss: 0.1587 - accuracy: 0.9440 - val_loss: 0.2271 - val_accuracy: 0.9168\n",
      "Epoch 10/10\n",
      "1688/1688 [==============================] - 5s 3ms/step - loss: 0.1628 - accuracy: 0.9406 - val_loss: 0.2067 - val_accuracy: 0.9253\n",
      "\n",
      "\n",
      " ========= Evaluation (Loss, Accuracy) ========= \n",
      "313/313 [==============================] - 1s 2ms/step - loss: 0.3190 - accuracy: 0.8924\n",
      "-------  Adamax  -------\n",
      "Epoch 1/10\n",
      "1688/1688 [==============================] - 5s 3ms/step - loss: 0.1643 - accuracy: 0.9417 - val_loss: 0.1976 - val_accuracy: 0.9258\n",
      "Epoch 2/10\n",
      "1688/1688 [==============================] - 5s 3ms/step - loss: 0.1584 - accuracy: 0.9442 - val_loss: 0.1745 - val_accuracy: 0.9322\n",
      "Epoch 3/10\n",
      "1688/1688 [==============================] - 5s 3ms/step - loss: 0.1563 - accuracy: 0.9451 - val_loss: 0.1753 - val_accuracy: 0.9327\n",
      "Epoch 4/10\n",
      "1688/1688 [==============================] - 5s 3ms/step - loss: 0.1560 - accuracy: 0.9445 - val_loss: 0.1623 - val_accuracy: 0.9382\n",
      "Epoch 5/10\n",
      "1688/1688 [==============================] - 5s 3ms/step - loss: 0.1483 - accuracy: 0.9474 - val_loss: 0.1961 - val_accuracy: 0.9252\n",
      "Epoch 6/10\n",
      "1688/1688 [==============================] - 5s 3ms/step - loss: 0.1474 - accuracy: 0.9481 - val_loss: 0.1944 - val_accuracy: 0.9253\n",
      "Epoch 7/10\n",
      "1688/1688 [==============================] - 5s 3ms/step - loss: 0.1435 - accuracy: 0.9493 - val_loss: 0.1791 - val_accuracy: 0.9298\n",
      "Epoch 8/10\n",
      "1688/1688 [==============================] - 5s 3ms/step - loss: 0.1412 - accuracy: 0.9501 - val_loss: 0.1987 - val_accuracy: 0.9247\n",
      "Epoch 9/10\n",
      "1688/1688 [==============================] - 5s 3ms/step - loss: 0.1360 - accuracy: 0.9529 - val_loss: 0.1757 - val_accuracy: 0.9323\n",
      "Epoch 10/10\n",
      "1688/1688 [==============================] - 5s 3ms/step - loss: 0.1390 - accuracy: 0.9503 - val_loss: 0.1746 - val_accuracy: 0.9315\n",
      "\n",
      "\n",
      " ========= Evaluation (Loss, Accuracy) ========= \n",
      "313/313 [==============================] - 1s 2ms/step - loss: 0.3348 - accuracy: 0.8936\n"
     ]
    }
   ],
   "source": [
    "# fashion mnist\n",
    "optims = ['sgd', 'Adam', 'RMSprop', 'Adamax']\n",
    "\n",
    "for optim in optims:\n",
    "    print('------- ', optim,    ' -------')\n",
    "    doExperiment(mlp_model, fashion_mnist, optim=optim, plot_hist=False)"
   ]
  },
  {
   "cell_type": "markdown",
   "metadata": {},
   "source": [
    "#### activation"
   ]
  },
  {
   "cell_type": "code",
   "execution_count": 26,
   "metadata": {},
   "outputs": [
    {
     "name": "stdout",
     "output_type": "stream",
     "text": [
      "-------  relu  -------\n",
      "Epoch 1/10\n",
      "1688/1688 [==============================] - 5s 3ms/step - loss: 0.9890 - accuracy: 0.7503 - val_loss: 0.3419 - val_accuracy: 0.8985\n",
      "Epoch 2/10\n",
      "1688/1688 [==============================] - 5s 3ms/step - loss: 0.3000 - accuracy: 0.9140 - val_loss: 0.2660 - val_accuracy: 0.9205\n",
      "Epoch 3/10\n",
      "1688/1688 [==============================] - 5s 3ms/step - loss: 0.2435 - accuracy: 0.9316 - val_loss: 0.2317 - val_accuracy: 0.9318\n",
      "Epoch 4/10\n",
      "1688/1688 [==============================] - 5s 3ms/step - loss: 0.2053 - accuracy: 0.9417 - val_loss: 0.2045 - val_accuracy: 0.9372\n",
      "Epoch 5/10\n",
      "1688/1688 [==============================] - 5s 3ms/step - loss: 0.1741 - accuracy: 0.9498 - val_loss: 0.1850 - val_accuracy: 0.9428\n",
      "Epoch 6/10\n",
      "1688/1688 [==============================] - 5s 3ms/step - loss: 0.1565 - accuracy: 0.9563 - val_loss: 0.1691 - val_accuracy: 0.9477\n",
      "Epoch 7/10\n",
      "1688/1688 [==============================] - 5s 3ms/step - loss: 0.1369 - accuracy: 0.9617 - val_loss: 0.1583 - val_accuracy: 0.9512\n",
      "Epoch 8/10\n",
      "1688/1688 [==============================] - 5s 3ms/step - loss: 0.1253 - accuracy: 0.9653 - val_loss: 0.1472 - val_accuracy: 0.9558\n",
      "Epoch 9/10\n",
      "1688/1688 [==============================] - 5s 3ms/step - loss: 0.1127 - accuracy: 0.9682 - val_loss: 0.1403 - val_accuracy: 0.9557\n",
      "Epoch 10/10\n",
      "1688/1688 [==============================] - 5s 3ms/step - loss: 0.1041 - accuracy: 0.9709 - val_loss: 0.1321 - val_accuracy: 0.9572\n",
      "\n",
      "\n",
      " ========= Evaluation (Loss, Accuracy) ========= \n",
      "313/313 [==============================] - 0s 2ms/step - loss: 0.1121 - accuracy: 0.9662\n",
      "-------  sigmoid  -------\n",
      "Epoch 1/10\n",
      "1688/1688 [==============================] - 5s 3ms/step - loss: 2.2465 - accuracy: 0.2437 - val_loss: 1.9499 - val_accuracy: 0.5777\n",
      "Epoch 2/10\n",
      "1688/1688 [==============================] - 5s 3ms/step - loss: 1.7672 - accuracy: 0.6208 - val_loss: 1.2356 - val_accuracy: 0.7308\n",
      "Epoch 3/10\n",
      "1688/1688 [==============================] - 5s 3ms/step - loss: 1.1006 - accuracy: 0.7611 - val_loss: 0.8293 - val_accuracy: 0.7988\n",
      "Epoch 4/10\n",
      "1688/1688 [==============================] - 5s 3ms/step - loss: 0.7703 - accuracy: 0.8164 - val_loss: 0.6503 - val_accuracy: 0.8310\n",
      "Epoch 5/10\n",
      "1688/1688 [==============================] - 5s 3ms/step - loss: 0.6160 - accuracy: 0.8432 - val_loss: 0.5502 - val_accuracy: 0.8562\n",
      "Epoch 6/10\n",
      "1688/1688 [==============================] - 5s 3ms/step - loss: 0.5243 - accuracy: 0.8628 - val_loss: 0.4897 - val_accuracy: 0.8692\n",
      "Epoch 7/10\n",
      "1688/1688 [==============================] - 5s 3ms/step - loss: 0.4673 - accuracy: 0.8746 - val_loss: 0.4489 - val_accuracy: 0.8787\n",
      "Epoch 8/10\n",
      "1688/1688 [==============================] - 5s 3ms/step - loss: 0.4278 - accuracy: 0.8843 - val_loss: 0.4209 - val_accuracy: 0.8857\n",
      "Epoch 9/10\n",
      "1688/1688 [==============================] - 5s 3ms/step - loss: 0.4033 - accuracy: 0.8895 - val_loss: 0.3999 - val_accuracy: 0.8887\n",
      "Epoch 10/10\n",
      "1688/1688 [==============================] - 5s 3ms/step - loss: 0.3871 - accuracy: 0.8903 - val_loss: 0.3853 - val_accuracy: 0.8932\n",
      "\n",
      "\n",
      " ========= Evaluation (Loss, Accuracy) ========= \n",
      "313/313 [==============================] - 1s 2ms/step - loss: 0.3615 - accuracy: 0.8983\n",
      "-------  softmax  -------\n",
      "Epoch 1/10\n",
      "1688/1688 [==============================] - 5s 3ms/step - loss: 2.3018 - accuracy: 0.1103 - val_loss: 2.3015 - val_accuracy: 0.1105\n",
      "Epoch 2/10\n",
      "1688/1688 [==============================] - 5s 3ms/step - loss: 2.3014 - accuracy: 0.1127 - val_loss: 2.3015 - val_accuracy: 0.1105\n",
      "Epoch 3/10\n",
      "1688/1688 [==============================] - 5s 3ms/step - loss: 2.3008 - accuracy: 0.1148 - val_loss: 2.3015 - val_accuracy: 0.1105\n",
      "Epoch 4/10\n",
      "1688/1688 [==============================] - 5s 3ms/step - loss: 2.3014 - accuracy: 0.1107 - val_loss: 2.3015 - val_accuracy: 0.1105\n",
      "Epoch 5/10\n",
      "1688/1688 [==============================] - 5s 3ms/step - loss: 2.3014 - accuracy: 0.1108 - val_loss: 2.3016 - val_accuracy: 0.1105\n",
      "Epoch 6/10\n",
      "1688/1688 [==============================] - 5s 3ms/step - loss: 2.3004 - accuracy: 0.1152 - val_loss: 2.3015 - val_accuracy: 0.1105\n",
      "Epoch 7/10\n",
      "1688/1688 [==============================] - 5s 3ms/step - loss: 2.3014 - accuracy: 0.1112 - val_loss: 2.3015 - val_accuracy: 0.1105\n",
      "Epoch 8/10\n",
      "1688/1688 [==============================] - 5s 3ms/step - loss: 2.3012 - accuracy: 0.1137 - val_loss: 2.3015 - val_accuracy: 0.1105\n",
      "Epoch 9/10\n",
      "1688/1688 [==============================] - 5s 3ms/step - loss: 2.3015 - accuracy: 0.1110 - val_loss: 2.3014 - val_accuracy: 0.1105\n",
      "Epoch 10/10\n",
      "1688/1688 [==============================] - 5s 3ms/step - loss: 2.3016 - accuracy: 0.1107 - val_loss: 2.3015 - val_accuracy: 0.1105\n",
      "\n",
      "\n",
      " ========= Evaluation (Loss, Accuracy) ========= \n",
      "313/313 [==============================] - 1s 2ms/step - loss: 2.3010 - accuracy: 0.1135\n",
      "-------  tanh  -------\n",
      "Epoch 1/10\n",
      "1688/1688 [==============================] - 5s 3ms/step - loss: 0.8507 - accuracy: 0.7830 - val_loss: 0.3446 - val_accuracy: 0.9065\n",
      "Epoch 2/10\n",
      "1688/1688 [==============================] - 5s 3ms/step - loss: 0.3257 - accuracy: 0.9085 - val_loss: 0.2912 - val_accuracy: 0.9160\n",
      "Epoch 3/10\n",
      "1688/1688 [==============================] - 5s 3ms/step - loss: 0.2762 - accuracy: 0.9200 - val_loss: 0.2638 - val_accuracy: 0.9228\n",
      "Epoch 4/10\n",
      "1688/1688 [==============================] - 5s 3ms/step - loss: 0.2464 - accuracy: 0.9289 - val_loss: 0.2402 - val_accuracy: 0.9297\n",
      "Epoch 5/10\n",
      "1688/1688 [==============================] - 5s 3ms/step - loss: 0.2223 - accuracy: 0.9371 - val_loss: 0.2232 - val_accuracy: 0.9350\n",
      "Epoch 6/10\n",
      "1688/1688 [==============================] - 5s 3ms/step - loss: 0.2004 - accuracy: 0.9428 - val_loss: 0.2096 - val_accuracy: 0.9403\n",
      "Epoch 7/10\n",
      "1688/1688 [==============================] - 5s 3ms/step - loss: 0.1914 - accuracy: 0.9466 - val_loss: 0.1968 - val_accuracy: 0.9425\n",
      "Epoch 8/10\n",
      "1688/1688 [==============================] - 5s 3ms/step - loss: 0.1772 - accuracy: 0.9498 - val_loss: 0.1866 - val_accuracy: 0.9462\n",
      "Epoch 9/10\n",
      "1688/1688 [==============================] - 5s 3ms/step - loss: 0.1645 - accuracy: 0.9532 - val_loss: 0.1794 - val_accuracy: 0.9478\n",
      "Epoch 10/10\n",
      "1688/1688 [==============================] - 5s 3ms/step - loss: 0.1503 - accuracy: 0.9565 - val_loss: 0.1701 - val_accuracy: 0.9507\n",
      "\n",
      "\n",
      " ========= Evaluation (Loss, Accuracy) ========= \n",
      "313/313 [==============================] - 1s 2ms/step - loss: 0.1545 - accuracy: 0.9551\n",
      "-------  exponential  -------\n",
      "Epoch 1/10\n",
      "1688/1688 [==============================] - 5s 3ms/step - loss: nan - accuracy: 0.0984 - val_loss: nan - val_accuracy: 0.1018\n",
      "Epoch 2/10\n",
      "1688/1688 [==============================] - 5s 3ms/step - loss: nan - accuracy: 0.0986 - val_loss: nan - val_accuracy: 0.1018\n",
      "Epoch 3/10\n",
      "1688/1688 [==============================] - 5s 3ms/step - loss: nan - accuracy: 0.0978 - val_loss: nan - val_accuracy: 0.1018\n",
      "Epoch 4/10\n",
      "1688/1688 [==============================] - 5s 3ms/step - loss: nan - accuracy: 0.0984 - val_loss: nan - val_accuracy: 0.1018\n",
      "Epoch 5/10\n",
      "1688/1688 [==============================] - 5s 3ms/step - loss: nan - accuracy: 0.0995 - val_loss: nan - val_accuracy: 0.1018\n",
      "Epoch 6/10\n",
      "1688/1688 [==============================] - 5s 3ms/step - loss: nan - accuracy: 0.0972 - val_loss: nan - val_accuracy: 0.1018\n",
      "Epoch 7/10\n",
      "1688/1688 [==============================] - 5s 3ms/step - loss: nan - accuracy: 0.0975 - val_loss: nan - val_accuracy: 0.1018\n",
      "Epoch 8/10\n",
      "1688/1688 [==============================] - 5s 3ms/step - loss: nan - accuracy: 0.0989 - val_loss: nan - val_accuracy: 0.1018\n",
      "Epoch 9/10\n",
      "1688/1688 [==============================] - 5s 3ms/step - loss: nan - accuracy: 0.1003 - val_loss: nan - val_accuracy: 0.1018\n",
      "Epoch 10/10\n",
      "1688/1688 [==============================] - 5s 3ms/step - loss: nan - accuracy: 0.0994 - val_loss: nan - val_accuracy: 0.1018\n",
      "\n",
      "\n",
      " ========= Evaluation (Loss, Accuracy) ========= \n",
      "313/313 [==============================] - 1s 2ms/step - loss: nan - accuracy: 0.0980\n"
     ]
    }
   ],
   "source": [
    "activations = ['relu', 'sigmoid', 'softmax', 'tanh', 'exponential']\n",
    "\n",
    "for activ in activations:\n",
    "    print('------- ', activ, ' -------')\n",
    "    activ_mlp_model = keras.models.Sequential([\n",
    "    keras.layers.Flatten(input_shape=[28, 28, 1]),\n",
    "    keras.layers.Dense(300, activation=activ),\n",
    "    keras.layers.Dense(100, activation=activ),\n",
    "    keras.layers.Dense(10, activation=\"softmax\")\n",
    "    ])\n",
    "\n",
    "    doExperiment(activ_mlp_model, mnist, plot_hist=False)"
   ]
  },
  {
   "cell_type": "markdown",
   "metadata": {},
   "source": [
    "#### initializers"
   ]
  },
  {
   "cell_type": "code",
   "execution_count": 27,
   "metadata": {},
   "outputs": [
    {
     "name": "stdout",
     "output_type": "stream",
     "text": [
      "-------  RandomNormal  -------\n",
      "Epoch 1/10\n",
      "1688/1688 [==============================] - 5s 3ms/step - loss: 1.1236 - accuracy: 0.7101 - val_loss: 0.3345 - val_accuracy: 0.9048\n",
      "Epoch 2/10\n",
      "1688/1688 [==============================] - 5s 3ms/step - loss: 0.3261 - accuracy: 0.9089 - val_loss: 0.2707 - val_accuracy: 0.9233\n",
      "Epoch 3/10\n",
      "1688/1688 [==============================] - 5s 3ms/step - loss: 0.2617 - accuracy: 0.9256 - val_loss: 0.2357 - val_accuracy: 0.9312\n",
      "Epoch 4/10\n",
      "1688/1688 [==============================] - 5s 3ms/step - loss: 0.2353 - accuracy: 0.9347 - val_loss: 0.2073 - val_accuracy: 0.9405\n",
      "Epoch 5/10\n",
      "1688/1688 [==============================] - 5s 3ms/step - loss: 0.1998 - accuracy: 0.9435 - val_loss: 0.1813 - val_accuracy: 0.9482\n",
      "Epoch 6/10\n",
      "1688/1688 [==============================] - 5s 3ms/step - loss: 0.1740 - accuracy: 0.9501 - val_loss: 0.1672 - val_accuracy: 0.9507\n",
      "Epoch 7/10\n",
      "1688/1688 [==============================] - 5s 3ms/step - loss: 0.1621 - accuracy: 0.9542 - val_loss: 0.1547 - val_accuracy: 0.9545\n",
      "Epoch 8/10\n",
      "1688/1688 [==============================] - 5s 3ms/step - loss: 0.1470 - accuracy: 0.9569 - val_loss: 0.1427 - val_accuracy: 0.9595\n",
      "Epoch 9/10\n",
      "1688/1688 [==============================] - 5s 3ms/step - loss: 0.1327 - accuracy: 0.9623 - val_loss: 0.1289 - val_accuracy: 0.9625\n",
      "Epoch 10/10\n",
      "1688/1688 [==============================] - 5s 3ms/step - loss: 0.1229 - accuracy: 0.9657 - val_loss: 0.1220 - val_accuracy: 0.9648\n",
      "\n",
      "\n",
      " ========= Evaluation (Loss, Accuracy) ========= \n",
      "313/313 [==============================] - 1s 2ms/step - loss: 0.1227 - accuracy: 0.9645\n",
      "-------  RandomUniform  -------\n",
      "Epoch 1/10\n",
      "1688/1688 [==============================] - 5s 3ms/step - loss: 1.1091 - accuracy: 0.7060 - val_loss: 0.3535 - val_accuracy: 0.8950\n",
      "Epoch 2/10\n",
      "1688/1688 [==============================] - 5s 3ms/step - loss: 0.3220 - accuracy: 0.9073 - val_loss: 0.2787 - val_accuracy: 0.9207\n",
      "Epoch 3/10\n",
      "1688/1688 [==============================] - 5s 3ms/step - loss: 0.2619 - accuracy: 0.9240 - val_loss: 0.2426 - val_accuracy: 0.9292\n",
      "Epoch 4/10\n",
      "1688/1688 [==============================] - 5s 3ms/step - loss: 0.2220 - accuracy: 0.9356 - val_loss: 0.2129 - val_accuracy: 0.9377\n",
      "Epoch 5/10\n",
      "1688/1688 [==============================] - 5s 3ms/step - loss: 0.1963 - accuracy: 0.9444 - val_loss: 0.1903 - val_accuracy: 0.9453\n",
      "Epoch 6/10\n",
      "1688/1688 [==============================] - 5s 3ms/step - loss: 0.1719 - accuracy: 0.9501 - val_loss: 0.1699 - val_accuracy: 0.9507\n",
      "Epoch 7/10\n",
      "1688/1688 [==============================] - 5s 3ms/step - loss: 0.1513 - accuracy: 0.9571 - val_loss: 0.1565 - val_accuracy: 0.9557\n",
      "Epoch 8/10\n",
      "1688/1688 [==============================] - 5s 3ms/step - loss: 0.1300 - accuracy: 0.9635 - val_loss: 0.1449 - val_accuracy: 0.9575\n",
      "Epoch 9/10\n",
      "1688/1688 [==============================] - 5s 3ms/step - loss: 0.1234 - accuracy: 0.9650 - val_loss: 0.1439 - val_accuracy: 0.9588\n",
      "Epoch 10/10\n",
      "1688/1688 [==============================] - 5s 3ms/step - loss: 0.1133 - accuracy: 0.9683 - val_loss: 0.1280 - val_accuracy: 0.9625\n",
      "\n",
      "\n",
      " ========= Evaluation (Loss, Accuracy) ========= \n",
      "313/313 [==============================] - 0s 1ms/step - loss: 0.1209 - accuracy: 0.9649\n",
      "-------  Zeros  -------\n",
      "Epoch 1/10\n",
      "1688/1688 [==============================] - 5s 3ms/step - loss: 1.1362 - accuracy: 0.6987 - val_loss: 0.3601 - val_accuracy: 0.8965\n",
      "Epoch 2/10\n",
      "1688/1688 [==============================] - 5s 3ms/step - loss: 0.3165 - accuracy: 0.9088 - val_loss: 0.2878 - val_accuracy: 0.9187\n",
      "Epoch 3/10\n",
      "1688/1688 [==============================] - 5s 3ms/step - loss: 0.2591 - accuracy: 0.9269 - val_loss: 0.2488 - val_accuracy: 0.9305\n",
      "Epoch 4/10\n",
      "1688/1688 [==============================] - 5s 3ms/step - loss: 0.2168 - accuracy: 0.9390 - val_loss: 0.2214 - val_accuracy: 0.9387\n",
      "Epoch 5/10\n",
      "1688/1688 [==============================] - 5s 3ms/step - loss: 0.1908 - accuracy: 0.9454 - val_loss: 0.2050 - val_accuracy: 0.9413\n",
      "Epoch 6/10\n",
      "1688/1688 [==============================] - 5s 3ms/step - loss: 0.1689 - accuracy: 0.9518 - val_loss: 0.1864 - val_accuracy: 0.9457\n",
      "Epoch 7/10\n",
      "1688/1688 [==============================] - 4s 3ms/step - loss: 0.1533 - accuracy: 0.9558 - val_loss: 0.1658 - val_accuracy: 0.9525\n",
      "Epoch 8/10\n",
      "1688/1688 [==============================] - 5s 3ms/step - loss: 0.1345 - accuracy: 0.9612 - val_loss: 0.1583 - val_accuracy: 0.9545\n",
      "Epoch 9/10\n",
      "1688/1688 [==============================] - 5s 3ms/step - loss: 0.1198 - accuracy: 0.9663 - val_loss: 0.1468 - val_accuracy: 0.9595\n",
      "Epoch 10/10\n",
      "1688/1688 [==============================] - 5s 3ms/step - loss: 0.1119 - accuracy: 0.9690 - val_loss: 0.1387 - val_accuracy: 0.9642\n",
      "\n",
      "\n",
      " ========= Evaluation (Loss, Accuracy) ========= \n",
      "313/313 [==============================] - 0s 2ms/step - loss: 0.1218 - accuracy: 0.9632\n",
      "-------  Ones  -------\n",
      "Epoch 1/10\n",
      "1688/1688 [==============================] - 5s 3ms/step - loss: 1.1586 - accuracy: 0.6912 - val_loss: 0.3469 - val_accuracy: 0.9038\n",
      "Epoch 2/10\n",
      "1688/1688 [==============================] - 5s 3ms/step - loss: 0.3187 - accuracy: 0.9092 - val_loss: 0.2918 - val_accuracy: 0.9148\n",
      "Epoch 3/10\n",
      "1688/1688 [==============================] - 5s 3ms/step - loss: 0.2636 - accuracy: 0.9256 - val_loss: 0.2452 - val_accuracy: 0.9312\n",
      "Epoch 4/10\n",
      "1688/1688 [==============================] - 5s 3ms/step - loss: 0.2267 - accuracy: 0.9351 - val_loss: 0.2217 - val_accuracy: 0.9368\n",
      "Epoch 5/10\n",
      "1688/1688 [==============================] - 5s 3ms/step - loss: 0.2002 - accuracy: 0.9427 - val_loss: 0.1994 - val_accuracy: 0.9427\n",
      "Epoch 6/10\n",
      "1688/1688 [==============================] - 5s 3ms/step - loss: 0.1747 - accuracy: 0.9501 - val_loss: 0.1832 - val_accuracy: 0.9475\n",
      "Epoch 7/10\n",
      "1688/1688 [==============================] - 5s 3ms/step - loss: 0.1616 - accuracy: 0.9530 - val_loss: 0.1667 - val_accuracy: 0.9530\n",
      "Epoch 8/10\n",
      "1688/1688 [==============================] - 5s 3ms/step - loss: 0.1399 - accuracy: 0.9600 - val_loss: 0.1600 - val_accuracy: 0.9543\n",
      "Epoch 9/10\n",
      "1688/1688 [==============================] - 5s 3ms/step - loss: 0.1276 - accuracy: 0.9639 - val_loss: 0.1515 - val_accuracy: 0.9552\n",
      "Epoch 10/10\n",
      "1688/1688 [==============================] - 5s 3ms/step - loss: 0.1202 - accuracy: 0.9662 - val_loss: 0.1411 - val_accuracy: 0.9592\n",
      "\n",
      "\n",
      " ========= Evaluation (Loss, Accuracy) ========= \n",
      "313/313 [==============================] - 0s 2ms/step - loss: 0.1226 - accuracy: 0.9634\n"
     ]
    }
   ],
   "source": [
    "initializers = ['RandomNormal', 'RandomUniform', 'Zeros', 'Ones']\n",
    "\n",
    "for init in initializers:\n",
    "    print('------- ', init, ' -------')\n",
    "    init_mlp_model = keras.models.Sequential([\n",
    "    keras.layers.Flatten(input_shape=[28, 28, 1]),\n",
    "    keras.layers.Dense(300, activation='relu', kernel_initializer='random_normal', bias_initializer='zeros'),\n",
    "    keras.layers.Dense(100, activation='relu', kernel_initializer='random_normal'),\n",
    "    keras.layers.Dense(10, activation=\"softmax\")\n",
    "    ])\n",
    "\n",
    "    doExperiment(init_mlp_model, mnist, plot_hist=False)"
   ]
  },
  {
   "cell_type": "markdown",
   "metadata": {},
   "source": [
    "## cnn "
   ]
  },
  {
   "cell_type": "code",
   "execution_count": 28,
   "metadata": {},
   "outputs": [],
   "source": [
    "DefaultConv2D = partial(keras.layers.Conv2D, kernel_size=3, activation='relu', padding=\"SAME\")\n",
    "\n",
    "cnn_model = keras.models.Sequential([\n",
    "DefaultConv2D(filters=64, kernel_size=7, input_shape=[28, 28, 1]),\n",
    "keras.layers.MaxPooling2D(pool_size=2),\n",
    "DefaultConv2D(filters=128),\n",
    "DefaultConv2D(filters=128),\n",
    "keras.layers.MaxPooling2D(pool_size=2),\n",
    "DefaultConv2D(filters=256),\n",
    "DefaultConv2D(filters=256),\n",
    "keras.layers.MaxPooling2D(pool_size=2),\n",
    "keras.layers.Flatten(),\n",
    "keras.layers.Dense(units=128, activation='relu'),\n",
    "keras.layers.Dropout(0.5),\n",
    "keras.layers.Dense(units=64, activation='relu'),\n",
    "keras.layers.Dropout(0.5),\n",
    "keras.layers.Dense(units=10, activation='softmax'),\n",
    "])"
   ]
  },
  {
   "cell_type": "markdown",
   "metadata": {},
   "source": [
    "### mnist"
   ]
  },
  {
   "cell_type": "code",
   "execution_count": 29,
   "metadata": {},
   "outputs": [
    {
     "name": "stdout",
     "output_type": "stream",
     "text": [
      "Epoch 1/10\n",
      "1688/1688 [==============================] - 67s 39ms/step - loss: 1.9076 - accuracy: 0.3108 - val_loss: 0.1961 - val_accuracy: 0.9412\n",
      "Epoch 2/10\n",
      "1688/1688 [==============================] - 64s 38ms/step - loss: 0.3688 - accuracy: 0.8948 - val_loss: 0.0988 - val_accuracy: 0.9720\n",
      "Epoch 3/10\n",
      "1688/1688 [==============================] - 64s 38ms/step - loss: 0.2170 - accuracy: 0.9410 - val_loss: 0.0790 - val_accuracy: 0.9772\n",
      "Epoch 4/10\n",
      "1688/1688 [==============================] - 64s 38ms/step - loss: 0.1615 - accuracy: 0.9585 - val_loss: 0.0658 - val_accuracy: 0.9823\n",
      "Epoch 5/10\n",
      "1688/1688 [==============================] - 65s 39ms/step - loss: 0.1277 - accuracy: 0.9665 - val_loss: 0.0577 - val_accuracy: 0.9848\n",
      "Epoch 6/10\n",
      "1688/1688 [==============================] - 65s 38ms/step - loss: 0.1180 - accuracy: 0.9709 - val_loss: 0.0443 - val_accuracy: 0.9872\n",
      "Epoch 7/10\n",
      "1688/1688 [==============================] - 62s 37ms/step - loss: 0.0931 - accuracy: 0.9759 - val_loss: 0.0463 - val_accuracy: 0.9872\n",
      "Epoch 8/10\n",
      "1688/1688 [==============================] - 63s 37ms/step - loss: 0.0824 - accuracy: 0.9791 - val_loss: 0.0482 - val_accuracy: 0.9880\n",
      "Epoch 9/10\n",
      "1688/1688 [==============================] - 64s 38ms/step - loss: 0.0725 - accuracy: 0.9822 - val_loss: 0.0392 - val_accuracy: 0.9898\n",
      "Epoch 10/10\n",
      "1688/1688 [==============================] - 64s 38ms/step - loss: 0.0659 - accuracy: 0.9831 - val_loss: 0.0425 - val_accuracy: 0.9897\n",
      "\n",
      "\n",
      " ========= History =========\n"
     ]
    },
    {
     "data": {
      "image/png": "[encoded data removed]",
      "text/plain": [
       "<Figure size 576x360 with 1 Axes>"
      ]
     },
     "metadata": {
      "needs_background": "light"
     },
     "output_type": "display_data"
    },
    {
     "name": "stdout",
     "output_type": "stream",
     "text": [
      "\n",
      "\n",
      " ========= Evaluation (Loss, Accuracy) ========= \n",
      "313/313 [==============================] - 3s 10ms/step - loss: 0.0345 - accuracy: 0.9910\n"
     ]
    },
    {
     "data": {
      "text/plain": [
       "[0.03446878865361214, 0.9909999966621399]"
      ]
     },
     "execution_count": 29,
     "metadata": {},
     "output_type": "execute_result"
    }
   ],
   "source": [
    "doExperiment(cnn_model, mnist)"
   ]
  },
  {
   "cell_type": "markdown",
   "metadata": {},
   "source": [
    "### fashion mnist"
   ]
  },
  {
   "cell_type": "code",
   "execution_count": 30,
   "metadata": {},
   "outputs": [
    {
     "name": "stdout",
     "output_type": "stream",
     "text": [
      "Epoch 1/10\n",
      "1688/1688 [==============================] - 66s 39ms/step - loss: 1.0927 - accuracy: 0.6403 - val_loss: 0.4453 - val_accuracy: 0.8402\n",
      "Epoch 2/10\n",
      "1688/1688 [==============================] - 65s 39ms/step - loss: 0.5586 - accuracy: 0.8151 - val_loss: 0.3797 - val_accuracy: 0.8658\n",
      "Epoch 3/10\n",
      "1688/1688 [==============================] - 66s 39ms/step - loss: 0.4677 - accuracy: 0.8451 - val_loss: 0.3477 - val_accuracy: 0.8760\n",
      "Epoch 4/10\n",
      "1688/1688 [==============================] - 65s 38ms/step - loss: 0.4273 - accuracy: 0.8588 - val_loss: 0.3337 - val_accuracy: 0.8838\n",
      "Epoch 5/10\n",
      "1688/1688 [==============================] - 65s 39ms/step - loss: 0.3854 - accuracy: 0.8722 - val_loss: 0.3171 - val_accuracy: 0.8840\n",
      "Epoch 6/10\n",
      "1688/1688 [==============================] - 61s 36ms/step - loss: 0.3740 - accuracy: 0.8766 - val_loss: 0.3139 - val_accuracy: 0.8860\n",
      "Epoch 7/10\n",
      "1688/1688 [==============================] - 62s 37ms/step - loss: 0.3520 - accuracy: 0.8828 - val_loss: 0.2887 - val_accuracy: 0.8975\n",
      "Epoch 8/10\n",
      "1688/1688 [==============================] - 63s 37ms/step - loss: 0.3336 - accuracy: 0.8873 - val_loss: 0.2821 - val_accuracy: 0.8992\n",
      "Epoch 9/10\n",
      "1688/1688 [==============================] - 63s 38ms/step - loss: 0.3171 - accuracy: 0.8929 - val_loss: 0.2841 - val_accuracy: 0.8987\n",
      "Epoch 10/10\n",
      "1688/1688 [==============================] - 64s 38ms/step - loss: 0.3072 - accuracy: 0.8980 - val_loss: 0.2733 - val_accuracy: 0.9025\n",
      "\n",
      "\n",
      " ========= History =========\n"
     ]
    },
    {
     "data": {
      "image/png": "[encoded data removed]",
      "text/plain": [
       "<Figure size 576x360 with 1 Axes>"
      ]
     },
     "metadata": {
      "needs_background": "light"
     },
     "output_type": "display_data"
    },
    {
     "name": "stdout",
     "output_type": "stream",
     "text": [
      "\n",
      "\n",
      " ========= Evaluation (Loss, Accuracy) ========= \n",
      "313/313 [==============================] - 3s 11ms/step - loss: 0.2853 - accuracy: 0.8987\n"
     ]
    },
    {
     "data": {
      "text/plain": [
       "[0.28525426983833313, 0.8986999988555908]"
      ]
     },
     "execution_count": 30,
     "metadata": {},
     "output_type": "execute_result"
    }
   ],
   "source": [
    "doExperiment(cnn_model, fashion_mnist)"
   ]
  },
  {
   "cell_type": "code",
   "execution_count": null,
   "metadata": {},
   "outputs": [],
   "source": []
  }
 ],
 "metadata": {
  "interpreter": {
   "hash": "31f2aee4e71d21fbe5cf8b01ff0e069b9275f58929596ceb00d14d90e3e16cd6"
  },
  "kernelspec": {
   "display_name": "Python 3",
   "language": "python",
   "name": "python3"
  },
  "language_info": {
   "codemirror_mode": {
    "name": "ipython",
    "version": 3
   },
   "file_extension": ".py",
   "mimetype": "text/x-python",
   "name": "python",
   "nbconvert_exporter": "python",
   "pygments_lexer": "ipython3",
   "version": "3.6.8"
  }
 },
 "nbformat": 4,
 "nbformat_minor": 2
}
