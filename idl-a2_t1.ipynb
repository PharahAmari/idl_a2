{
 "cells": [
  {
   "cell_type": "markdown",
   "metadata": {},
   "source": [
    "## libraries"
   ]
  },
  {
   "cell_type": "code",
   "execution_count": 1,
   "metadata": {},
   "outputs": [],
   "source": [
    "import tensorflow as tf\n",
    "from tensorflow import keras \n",
    "from tensorflow.keras.datasets import mnist, fashion_mnist\n",
    "from tensorflow.keras.models import Sequential\n",
    "from tensorflow.keras.layers import Dense, Dropout\n",
    "from tensorflow.keras.optimizers import RMSprop\n",
    "from sklearn.model_selection import train_test_split\n",
    "import numpy as np\n",
    "import matplotlib.pyplot as plt\n",
    "import seaborn as sns\n",
    "import pandas as pd\n",
    "from functools import partial"
   ]
  },
  {
   "cell_type": "markdown",
   "metadata": {},
   "source": [
    "## initial settings"
   ]
  },
  {
   "cell_type": "code",
   "execution_count": 16,
   "metadata": {},
   "outputs": [],
   "source": [
    "num_classes = 10 #defined from datasets\n",
    "epochs = 10\n",
    "validation_size = 0.1"
   ]
  },
  {
   "cell_type": "markdown",
   "metadata": {},
   "source": [
    "## define functions"
   ]
  },
  {
   "cell_type": "markdown",
   "metadata": {},
   "source": [
    "### train test split"
   ]
  },
  {
   "cell_type": "code",
   "execution_count": 3,
   "metadata": {},
   "outputs": [],
   "source": [
    "def splitData(dataset):\n",
    "  (X_train, y_train), (X_test, y_test) = dataset.load_data()\n",
    "\n",
    "  X_train, X_valid, y_train, y_valid = train_test_split(X_train, y_train, test_size=validation_size)\n",
    "\n",
    "  X_train = X_train.reshape(int(60000 * (1.0 - validation_size)), 28, 28, 1)\n",
    "  X_test = X_test.reshape(10000, 28, 28, 1)\n",
    "  X_valid = X_valid.reshape(int(60000 * validation_size), 28, 28, 1)\n",
    "\n",
    "  X_train = X_train.astype('float32')\n",
    "  X_test = X_test.astype('float32')\n",
    "  X_valid = X_valid.astype('float32')\n",
    "\n",
    "  X_train /= 255\n",
    "  X_test /= 255\n",
    "  X_valid /= 255\n",
    "\n",
    "  # convert class vectors to binary class matrices\n",
    "  y_train = keras.utils.to_categorical(y_train, num_classes)\n",
    "  y_test = keras.utils.to_categorical(y_test, num_classes)\n",
    "  y_valid = keras.utils.to_categorical(y_valid, num_classes)\n",
    "\n",
    "  return X_train, y_train, X_test, y_test, X_valid, y_valid"
   ]
  },
  {
   "cell_type": "markdown",
   "metadata": {},
   "source": [
    "### train model"
   ]
  },
  {
   "cell_type": "code",
   "execution_count": 4,
   "metadata": {},
   "outputs": [],
   "source": [
    "def trainModel(model, X_train, y_train, X_valid, y_valid, optim='sgd'):\n",
    "    model.compile(loss=\"categorical_crossentropy\",\n",
    "    optimizer=optim,\n",
    "    metrics=[\"accuracy\"])\n",
    "    \n",
    "    #track epoch loss history\n",
    "    history = model.fit(X_train, y_train, epochs=epochs,\n",
    "                        validation_data=(X_valid, y_valid))\n",
    "    \n",
    "    return history"
   ]
  },
  {
   "cell_type": "markdown",
   "metadata": {},
   "source": [
    "### plot loss over epochs"
   ]
  },
  {
   "cell_type": "code",
   "execution_count": 5,
   "metadata": {},
   "outputs": [],
   "source": [
    "def pltHistory(history):\n",
    "  pd.DataFrame(history.history).plot(figsize=(8, 5))\n",
    "  plt.grid(True)\n",
    "  plt.gca().set_ylim(0, 1) # set the vertical range to [0-1]\n",
    "  plt.title(\"Loss and Accuracy over Epochs\")\n",
    "  plt.xlabel('Epochs')\n",
    "  plt.ylabel('Loss/Accuracy')\n",
    "  plt.show()"
   ]
  },
  {
   "cell_type": "markdown",
   "metadata": {},
   "source": [
    "### execute experiments for a given model and dataset"
   ]
  },
  {
   "cell_type": "code",
   "execution_count": 6,
   "metadata": {},
   "outputs": [],
   "source": [
    "def doExperiment(model, dataset, plot_hist=True, optim='sgd'):\n",
    "  X_train, y_train, X_test, y_test, X_valid, y_valid = splitData(dataset)\n",
    "  # print(\"--- Training Model ...\")\n",
    "  history = trainModel(model, X_train, y_train, X_valid, y_valid)\n",
    "  if plot_hist == True:\n",
    "    print(\"\\n\\n ========= History =========\")\n",
    "    pltHistory(history)\n",
    "  print(\"\\n\\n ========= Evaluation (Loss, Accuracy) ========= \")\n",
    "  return model.evaluate(X_test, y_test)"
   ]
  },
  {
   "cell_type": "markdown",
   "metadata": {},
   "source": [
    "## mlp"
   ]
  },
  {
   "cell_type": "code",
   "execution_count": 14,
   "metadata": {},
   "outputs": [],
   "source": [
    "mlp_model = keras.models.Sequential([\n",
    "  keras.layers.Flatten(input_shape=[28, 28, 1]),\n",
    "  keras.layers.Dense(300, activation=\"relu\"),\n",
    "  keras.layers.Dense(100, activation=\"relu\"),\n",
    "  keras.layers.Dense(10, activation=\"softmax\")\n",
    "])"
   ]
  },
  {
   "cell_type": "markdown",
   "metadata": {},
   "source": [
    "### mnist dataset"
   ]
  },
  {
   "cell_type": "code",
   "execution_count": 17,
   "metadata": {},
   "outputs": [
    {
     "name": "stdout",
     "output_type": "stream",
     "text": [
      "Epoch 1/10\n",
      "1688/1688 [==============================] - 13s 8ms/step - loss: 0.3753 - accuracy: 0.8966 - val_loss: 0.2995 - val_accuracy: 0.9163\n",
      "Epoch 2/10\n",
      "1688/1688 [==============================] - 12s 7ms/step - loss: 0.2685 - accuracy: 0.9239 - val_loss: 0.2498 - val_accuracy: 0.9315\n",
      "Epoch 3/10\n",
      "1688/1688 [==============================] - 12s 7ms/step - loss: 0.2247 - accuracy: 0.9358 - val_loss: 0.2137 - val_accuracy: 0.9403\n",
      "Epoch 4/10\n",
      "1688/1688 [==============================] - 12s 7ms/step - loss: 0.1941 - accuracy: 0.9441 - val_loss: 0.1923 - val_accuracy: 0.9458\n",
      "Epoch 5/10\n",
      "1688/1688 [==============================] - 12s 7ms/step - loss: 0.1714 - accuracy: 0.9510 - val_loss: 0.1751 - val_accuracy: 0.9510\n",
      "Epoch 6/10\n",
      "1688/1688 [==============================] - 11s 7ms/step - loss: 0.1536 - accuracy: 0.9562 - val_loss: 0.1622 - val_accuracy: 0.9528\n",
      "Epoch 7/10\n",
      "1688/1688 [==============================] - 12s 7ms/step - loss: 0.1394 - accuracy: 0.9600 - val_loss: 0.1501 - val_accuracy: 0.9572\n",
      "Epoch 8/10\n",
      "1688/1688 [==============================] - 12s 7ms/step - loss: 0.1263 - accuracy: 0.9645 - val_loss: 0.1398 - val_accuracy: 0.9613\n",
      "Epoch 9/10\n",
      "1688/1688 [==============================] - 12s 7ms/step - loss: 0.1159 - accuracy: 0.9673 - val_loss: 0.1325 - val_accuracy: 0.9632\n",
      "Epoch 10/10\n",
      "1688/1688 [==============================] - 12s 7ms/step - loss: 0.1068 - accuracy: 0.9699 - val_loss: 0.1249 - val_accuracy: 0.9648\n",
      "\n",
      "\n",
      " ========= History =========\n"
     ]
    },
    {
     "data": {
      "image/png": "[encoded data removed]",
      "text/plain": [
       "<Figure size 800x500 with 1 Axes>"
      ]
     },
     "metadata": {},
     "output_type": "display_data"
    },
    {
     "name": "stdout",
     "output_type": "stream",
     "text": [
      "\n",
      "\n",
      " ========= Evaluation (Loss, Accuracy) ========= \n",
      "313/313 [==============================] - 2s 6ms/step - loss: 0.1133 - accuracy: 0.9657\n"
     ]
    },
    {
     "data": {
      "text/plain": [
       "[0.11330902576446533, 0.9657000303268433]"
      ]
     },
     "execution_count": 17,
     "metadata": {},
     "output_type": "execute_result"
    }
   ],
   "source": [
    "doExperiment(mlp_model, mnist, plot_hist=True)"
   ]
  },
  {
   "cell_type": "markdown",
   "metadata": {},
   "source": [
    "### fashion mnist"
   ]
  },
  {
   "cell_type": "code",
   "execution_count": 18,
   "metadata": {},
   "outputs": [
    {
     "name": "stdout",
     "output_type": "stream",
     "text": [
      "Downloading data from https://storage.googleapis.com/tensorflow/tf-keras-datasets/train-labels-idx1-ubyte.gz\n",
      "32768/29515 [=================================] - 0s 1us/step\n",
      "Downloading data from https://storage.googleapis.com/tensorflow/tf-keras-datasets/train-images-idx3-ubyte.gz\n",
      "26427392/26421880 [==============================] - 1s 0us/step\n",
      "Downloading data from https://storage.googleapis.com/tensorflow/tf-keras-datasets/t10k-labels-idx1-ubyte.gz\n",
      "8192/5148 [===============================================] - 0s 0us/step\n",
      "Downloading data from https://storage.googleapis.com/tensorflow/tf-keras-datasets/t10k-images-idx3-ubyte.gz\n",
      "4423680/4422102 [==============================] - 0s 0us/step\n",
      "Epoch 1/10\n",
      "1688/1688 [==============================] - 12s 7ms/step - loss: 0.6356 - accuracy: 0.7852 - val_loss: 0.4923 - val_accuracy: 0.8255\n",
      "Epoch 2/10\n",
      "1688/1688 [==============================] - 12s 7ms/step - loss: 0.4493 - accuracy: 0.8439 - val_loss: 0.4239 - val_accuracy: 0.8530\n",
      "Epoch 3/10\n",
      "1688/1688 [==============================] - 12s 7ms/step - loss: 0.4099 - accuracy: 0.8553 - val_loss: 0.4143 - val_accuracy: 0.8557\n",
      "Epoch 4/10\n",
      "1688/1688 [==============================] - 12s 7ms/step - loss: 0.3842 - accuracy: 0.8644 - val_loss: 0.3831 - val_accuracy: 0.8645\n",
      "Epoch 5/10\n",
      "1688/1688 [==============================] - 12s 7ms/step - loss: 0.3647 - accuracy: 0.8703 - val_loss: 0.3625 - val_accuracy: 0.8705\n",
      "Epoch 6/10\n",
      "1688/1688 [==============================] - 12s 7ms/step - loss: 0.3482 - accuracy: 0.8772 - val_loss: 0.3917 - val_accuracy: 0.8565\n",
      "Epoch 7/10\n",
      "1688/1688 [==============================] - 12s 7ms/step - loss: 0.3357 - accuracy: 0.8806 - val_loss: 0.4076 - val_accuracy: 0.8542\n",
      "Epoch 8/10\n",
      "1688/1688 [==============================] - 12s 7ms/step - loss: 0.3267 - accuracy: 0.8830 - val_loss: 0.3403 - val_accuracy: 0.8787\n",
      "Epoch 9/10\n",
      "1688/1688 [==============================] - 12s 7ms/step - loss: 0.3160 - accuracy: 0.8875 - val_loss: 0.3495 - val_accuracy: 0.8683\n",
      "Epoch 10/10\n",
      "1688/1688 [==============================] - 12s 7ms/step - loss: 0.3065 - accuracy: 0.8892 - val_loss: 0.3363 - val_accuracy: 0.8767\n",
      "\n",
      "\n",
      " ========= History =========\n"
     ]
    },
    {
     "data": {
      "image/png": "[encoded data removed]",
      "text/plain": [
       "<Figure size 800x500 with 1 Axes>"
      ]
     },
     "metadata": {},
     "output_type": "display_data"
    },
    {
     "name": "stdout",
     "output_type": "stream",
     "text": [
      "\n",
      "\n",
      " ========= Evaluation (Loss, Accuracy) ========= \n",
      "313/313 [==============================] - 2s 6ms/step - loss: 0.3638 - accuracy: 0.8699\n"
     ]
    },
    {
     "data": {
      "text/plain": [
       "[0.36379730701446533, 0.8699000477790833]"
      ]
     },
     "execution_count": 18,
     "metadata": {},
     "output_type": "execute_result"
    }
   ],
   "source": [
    "doExperiment(mlp_model, fashion_mnist, plot_hist=True)"
   ]
  },
  {
   "cell_type": "markdown",
   "metadata": {},
   "source": [
    "### experiments"
   ]
  },
  {
   "cell_type": "markdown",
   "metadata": {},
   "source": [
    "#### number of layers (mnist dataset and relu activation)"
   ]
  },
  {
   "cell_type": "code",
   "execution_count": 15,
   "metadata": {},
   "outputs": [
    {
     "name": "stdout",
     "output_type": "stream",
     "text": [
      "Epoch 1/10\n",
      "1688/1688 [==============================] - 5s 3ms/step - loss: 1.0321 - accuracy: 0.7391 - val_loss: 0.3848 - val_accuracy: 0.8933\n",
      "Epoch 2/10\n",
      "1688/1688 [==============================] - 4s 2ms/step - loss: 0.3547 - accuracy: 0.9018 - val_loss: 0.3151 - val_accuracy: 0.9107\n",
      "Epoch 3/10\n",
      "1688/1688 [==============================] - 4s 2ms/step - loss: 0.3036 - accuracy: 0.9154 - val_loss: 0.2793 - val_accuracy: 0.9207\n",
      "Epoch 4/10\n",
      "1688/1688 [==============================] - 4s 3ms/step - loss: 0.2660 - accuracy: 0.9268 - val_loss: 0.2551 - val_accuracy: 0.9275\n",
      "Epoch 5/10\n",
      "1688/1688 [==============================] - 4s 2ms/step - loss: 0.2447 - accuracy: 0.9327 - val_loss: 0.2346 - val_accuracy: 0.9332\n",
      "Epoch 6/10\n",
      "1688/1688 [==============================] - 4s 2ms/step - loss: 0.2186 - accuracy: 0.9400 - val_loss: 0.2187 - val_accuracy: 0.9372\n",
      "Epoch 7/10\n",
      "1688/1688 [==============================] - 4s 2ms/step - loss: 0.2092 - accuracy: 0.9418 - val_loss: 0.2047 - val_accuracy: 0.9417\n",
      "Epoch 8/10\n",
      "1688/1688 [==============================] - 4s 2ms/step - loss: 0.1870 - accuracy: 0.9483 - val_loss: 0.1943 - val_accuracy: 0.9422\n",
      "Epoch 9/10\n",
      "1688/1688 [==============================] - 4s 2ms/step - loss: 0.1778 - accuracy: 0.9502 - val_loss: 0.1820 - val_accuracy: 0.9488\n",
      "Epoch 10/10\n",
      "1688/1688 [==============================] - 4s 2ms/step - loss: 0.1667 - accuracy: 0.9537 - val_loss: 0.1737 - val_accuracy: 0.9512\n",
      "\n",
      "\n",
      " ========= History =========\n"
     ]
    },
    {
     "data": {
      "image/png": "[encoded data removed]",
      "text/plain": [
       "<Figure size 576x360 with 1 Axes>"
      ]
     },
     "metadata": {
      "needs_background": "light"
     },
     "output_type": "display_data"
    },
    {
     "name": "stdout",
     "output_type": "stream",
     "text": [
      "\n",
      "\n",
      " ========= Evaluation (Loss, Accuracy) ========= \n",
      "313/313 [==============================] - 1s 2ms/step - loss: 0.1643 - accuracy: 0.9532\n"
     ]
    },
    {
     "data": {
      "text/plain": [
       "[0.16428984701633453, 0.9531999826431274]"
      ]
     },
     "execution_count": 15,
     "metadata": {},
     "output_type": "execute_result"
    }
   ],
   "source": [
    "# single layer\n",
    "exp_mlp_model = keras.models.Sequential([\n",
    "  keras.layers.Flatten(input_shape=[28, 28, 1]),\n",
    "  keras.layers.Dense(300, activation=\"relu\"),\n",
    "  keras.layers.Dense(10, activation=\"softmax\")\n",
    "])\n",
    "\n",
    "doExperiment(exp_mlp_model, mnist, plot_hist=True)"
   ]
  },
  {
   "cell_type": "code",
   "execution_count": 16,
   "metadata": {},
   "outputs": [
    {
     "name": "stdout",
     "output_type": "stream",
     "text": [
      "Epoch 1/10\n",
      "1688/1688 [==============================] - 5s 3ms/step - loss: 1.0228 - accuracy: 0.7276 - val_loss: 0.3451 - val_accuracy: 0.8983\n",
      "Epoch 2/10\n",
      "1688/1688 [==============================] - 5s 3ms/step - loss: 0.3102 - accuracy: 0.9113 - val_loss: 0.2796 - val_accuracy: 0.9153\n",
      "Epoch 3/10\n",
      "1688/1688 [==============================] - 5s 3ms/step - loss: 0.2468 - accuracy: 0.9301 - val_loss: 0.2476 - val_accuracy: 0.9233\n",
      "Epoch 4/10\n",
      "1688/1688 [==============================] - 5s 3ms/step - loss: 0.2077 - accuracy: 0.9420 - val_loss: 0.2131 - val_accuracy: 0.9353\n",
      "Epoch 5/10\n",
      "1688/1688 [==============================] - 5s 3ms/step - loss: 0.1811 - accuracy: 0.9482 - val_loss: 0.1918 - val_accuracy: 0.9415\n",
      "Epoch 6/10\n",
      "1688/1688 [==============================] - 5s 3ms/step - loss: 0.1603 - accuracy: 0.9549 - val_loss: 0.1744 - val_accuracy: 0.9458\n",
      "Epoch 7/10\n",
      "1688/1688 [==============================] - 5s 3ms/step - loss: 0.1405 - accuracy: 0.9603 - val_loss: 0.1597 - val_accuracy: 0.9497\n",
      "Epoch 8/10\n",
      "1688/1688 [==============================] - 5s 3ms/step - loss: 0.1290 - accuracy: 0.9639 - val_loss: 0.1491 - val_accuracy: 0.9538\n",
      "Epoch 9/10\n",
      "1688/1688 [==============================] - 5s 3ms/step - loss: 0.1182 - accuracy: 0.9664 - val_loss: 0.1409 - val_accuracy: 0.9580\n",
      "Epoch 10/10\n",
      "1688/1688 [==============================] - 5s 3ms/step - loss: 0.1093 - accuracy: 0.9704 - val_loss: 0.1290 - val_accuracy: 0.9603\n",
      "\n",
      "\n",
      " ========= History =========\n"
     ]
    },
    {
     "data": {
      "image/png": "[encoded data removed]",
      "text/plain": [
       "<Figure size 576x360 with 1 Axes>"
      ]
     },
     "metadata": {
      "needs_background": "light"
     },
     "output_type": "display_data"
    },
    {
     "name": "stdout",
     "output_type": "stream",
     "text": [
      "\n",
      "\n",
      " ========= Evaluation (Loss, Accuracy) ========= \n",
      "313/313 [==============================] - 1s 2ms/step - loss: 0.1094 - accuracy: 0.9675\n"
     ]
    },
    {
     "data": {
      "text/plain": [
       "[0.10941637307405472, 0.9674999713897705]"
      ]
     },
     "execution_count": 16,
     "metadata": {},
     "output_type": "execute_result"
    }
   ],
   "source": [
    "# 2 layers\n",
    "exp_mlp_model = keras.models.Sequential([\n",
    "  keras.layers.Flatten(input_shape=[28, 28, 1]),\n",
    "  keras.layers.Dense(300, activation=\"relu\"),\n",
    "  keras.layers.Dense(100, activation=\"relu\"),\n",
    "  keras.layers.Dense(10, activation=\"softmax\")\n",
    "])\n",
    "\n",
    "doExperiment(exp_mlp_model, mnist, plot_hist=True)"
   ]
  },
  {
   "cell_type": "code",
   "execution_count": 17,
   "metadata": {},
   "outputs": [
    {
     "name": "stdout",
     "output_type": "stream",
     "text": [
      "Epoch 1/10\n",
      "1688/1688 [==============================] - 7s 4ms/step - loss: 1.0736 - accuracy: 0.7014 - val_loss: 0.2957 - val_accuracy: 0.9108\n",
      "Epoch 2/10\n",
      "1688/1688 [==============================] - 6s 4ms/step - loss: 0.2759 - accuracy: 0.9187 - val_loss: 0.2260 - val_accuracy: 0.9318\n",
      "Epoch 3/10\n",
      "1688/1688 [==============================] - 6s 4ms/step - loss: 0.2088 - accuracy: 0.9391 - val_loss: 0.1891 - val_accuracy: 0.9442\n",
      "Epoch 4/10\n",
      "1688/1688 [==============================] - 6s 4ms/step - loss: 0.1716 - accuracy: 0.9500 - val_loss: 0.1628 - val_accuracy: 0.9517\n",
      "Epoch 5/10\n",
      "1688/1688 [==============================] - 6s 4ms/step - loss: 0.1453 - accuracy: 0.9594 - val_loss: 0.1445 - val_accuracy: 0.9578\n",
      "Epoch 6/10\n",
      "1688/1688 [==============================] - 6s 4ms/step - loss: 0.1238 - accuracy: 0.9629 - val_loss: 0.1296 - val_accuracy: 0.9595\n",
      "Epoch 7/10\n",
      "1688/1688 [==============================] - 6s 4ms/step - loss: 0.1111 - accuracy: 0.9686 - val_loss: 0.1256 - val_accuracy: 0.9615\n",
      "Epoch 8/10\n",
      "1688/1688 [==============================] - 6s 4ms/step - loss: 0.0954 - accuracy: 0.9722 - val_loss: 0.1185 - val_accuracy: 0.9637\n",
      "Epoch 9/10\n",
      "1688/1688 [==============================] - 6s 4ms/step - loss: 0.0887 - accuracy: 0.9746 - val_loss: 0.1066 - val_accuracy: 0.9672\n",
      "Epoch 10/10\n",
      "1688/1688 [==============================] - 6s 4ms/step - loss: 0.0767 - accuracy: 0.9787 - val_loss: 0.0989 - val_accuracy: 0.9720\n",
      "\n",
      "\n",
      " ========= History =========\n"
     ]
    },
    {
     "data": {
      "image/png": "[encoded data removed]",
      "text/plain": [
       "<Figure size 576x360 with 1 Axes>"
      ]
     },
     "metadata": {
      "needs_background": "light"
     },
     "output_type": "display_data"
    },
    {
     "name": "stdout",
     "output_type": "stream",
     "text": [
      "\n",
      "\n",
      " ========= Evaluation (Loss, Accuracy) ========= \n",
      "313/313 [==============================] - 1s 2ms/step - loss: 0.0930 - accuracy: 0.9709\n"
     ]
    },
    {
     "data": {
      "text/plain": [
       "[0.09298780560493469, 0.9708999991416931]"
      ]
     },
     "execution_count": 17,
     "metadata": {},
     "output_type": "execute_result"
    }
   ],
   "source": [
    "# 3 layers\n",
    "exp_mlp_model = keras.models.Sequential([\n",
    "  keras.layers.Flatten(input_shape=[28, 28, 1]),\n",
    "  keras.layers.Dense(300, activation=\"relu\"),\n",
    "  keras.layers.Dense(300, activation=\"relu\"),\n",
    "  keras.layers.Dense(100, activation=\"relu\"),\n",
    "  keras.layers.Dense(10, activation=\"softmax\")\n",
    "])\n",
    "\n",
    "doExperiment(exp_mlp_model, mnist, plot_hist=True)"
   ]
  },
  {
   "cell_type": "code",
   "execution_count": 19,
   "metadata": {},
   "outputs": [
    {
     "name": "stdout",
     "output_type": "stream",
     "text": [
      "Epoch 1/10\n",
      "1688/1688 [==============================] - 9s 5ms/step - loss: 1.2589 - accuracy: 0.6369 - val_loss: 0.2953 - val_accuracy: 0.9138\n",
      "Epoch 2/10\n",
      "1688/1688 [==============================] - 8s 5ms/step - loss: 0.2686 - accuracy: 0.9200 - val_loss: 0.2243 - val_accuracy: 0.9283\n",
      "Epoch 3/10\n",
      "1688/1688 [==============================] - 8s 5ms/step - loss: 0.1867 - accuracy: 0.9453 - val_loss: 0.1622 - val_accuracy: 0.9518\n",
      "Epoch 4/10\n",
      "1688/1688 [==============================] - 8s 5ms/step - loss: 0.1431 - accuracy: 0.9573 - val_loss: 0.1288 - val_accuracy: 0.9620\n",
      "Epoch 5/10\n",
      "1688/1688 [==============================] - 9s 5ms/step - loss: 0.1136 - accuracy: 0.9659 - val_loss: 0.1171 - val_accuracy: 0.9667\n",
      "Epoch 6/10\n",
      "1688/1688 [==============================] - 9s 5ms/step - loss: 0.0954 - accuracy: 0.9714 - val_loss: 0.1070 - val_accuracy: 0.9687\n",
      "Epoch 7/10\n",
      "1688/1688 [==============================] - 9s 5ms/step - loss: 0.0802 - accuracy: 0.9766 - val_loss: 0.1060 - val_accuracy: 0.9662\n",
      "Epoch 8/10\n",
      "1688/1688 [==============================] - 9s 5ms/step - loss: 0.0681 - accuracy: 0.9796 - val_loss: 0.1050 - val_accuracy: 0.9670\n",
      "Epoch 9/10\n",
      "1688/1688 [==============================] - 9s 5ms/step - loss: 0.0602 - accuracy: 0.9831 - val_loss: 0.0977 - val_accuracy: 0.9698\n",
      "Epoch 10/10\n",
      "1688/1688 [==============================] - 9s 5ms/step - loss: 0.0508 - accuracy: 0.9851 - val_loss: 0.1774 - val_accuracy: 0.9492\n",
      "\n",
      "\n",
      " ========= History =========\n"
     ]
    },
    {
     "data": {
      "image/png": "[encoded data removed]",
      "text/plain": [
       "<Figure size 576x360 with 1 Axes>"
      ]
     },
     "metadata": {
      "needs_background": "light"
     },
     "output_type": "display_data"
    },
    {
     "name": "stdout",
     "output_type": "stream",
     "text": [
      "\n",
      "\n",
      " ========= Evaluation (Loss, Accuracy) ========= \n",
      "313/313 [==============================] - 1s 2ms/step - loss: 0.1663 - accuracy: 0.9497\n"
     ]
    },
    {
     "data": {
      "text/plain": [
       "[0.1662842333316803, 0.9496999979019165]"
      ]
     },
     "execution_count": 19,
     "metadata": {},
     "output_type": "execute_result"
    }
   ],
   "source": [
    "# 5 layers\n",
    "exp_mlp_model = keras.models.Sequential([\n",
    "  keras.layers.Flatten(input_shape=[28, 28, 1]),\n",
    "  keras.layers.Dense(300, activation=\"relu\"),\n",
    "  keras.layers.Dense(300, activation=\"relu\"),\n",
    "  keras.layers.Dense(300, activation=\"relu\"),\n",
    "  keras.layers.Dense(300, activation=\"relu\"),\n",
    "  keras.layers.Dense(100, activation=\"relu\"),\n",
    "  keras.layers.Dense(10, activation=\"softmax\")\n",
    "])\n",
    "\n",
    "doExperiment(exp_mlp_model, mnist, plot_hist=True)"
   ]
  },
  {
   "cell_type": "markdown",
   "metadata": {},
   "source": [
    "#### optimizers"
   ]
  },
  {
   "cell_type": "code",
   "execution_count": 10,
   "metadata": {
    "scrolled": true
   },
   "outputs": [
    {
     "name": "stdout",
     "output_type": "stream",
     "text": [
      "-------  sgd  -------\n",
      "Downloading data from https://storage.googleapis.com/tensorflow/tf-keras-datasets/mnist.npz\n",
      "11493376/11490434 [==============================] - 0s 0us/step\n",
      "Epoch 1/10\n",
      "1688/1688 [==============================] - 12s 6ms/step - loss: 0.5900 - accuracy: 0.8510 - val_loss: 0.3448 - val_accuracy: 0.9022\n",
      "Epoch 2/10\n",
      "1688/1688 [==============================] - 10s 6ms/step - loss: 0.2846 - accuracy: 0.9189 - val_loss: 0.2849 - val_accuracy: 0.9200\n",
      "Epoch 3/10\n",
      "1688/1688 [==============================] - 10s 6ms/step - loss: 0.2330 - accuracy: 0.9337 - val_loss: 0.2509 - val_accuracy: 0.9293\n",
      "Epoch 4/10\n",
      "1688/1688 [==============================] - 10s 6ms/step - loss: 0.1994 - accuracy: 0.9438 - val_loss: 0.2266 - val_accuracy: 0.9360\n",
      "Epoch 5/10\n",
      "1688/1688 [==============================] - 10s 6ms/step - loss: 0.1740 - accuracy: 0.9502 - val_loss: 0.1991 - val_accuracy: 0.9422\n",
      "Epoch 6/10\n",
      "1688/1688 [==============================] - 10s 6ms/step - loss: 0.1537 - accuracy: 0.9563 - val_loss: 0.1846 - val_accuracy: 0.9455\n",
      "Epoch 7/10\n",
      "1688/1688 [==============================] - 10s 6ms/step - loss: 0.1374 - accuracy: 0.9609 - val_loss: 0.1711 - val_accuracy: 0.9495\n",
      "Epoch 8/10\n",
      "1688/1688 [==============================] - 10s 6ms/step - loss: 0.1244 - accuracy: 0.9650 - val_loss: 0.1634 - val_accuracy: 0.9503\n",
      "Epoch 9/10\n",
      "1688/1688 [==============================] - 10s 6ms/step - loss: 0.1128 - accuracy: 0.9685 - val_loss: 0.1494 - val_accuracy: 0.9570\n",
      "Epoch 10/10\n",
      "1688/1688 [==============================] - 10s 6ms/step - loss: 0.1033 - accuracy: 0.9707 - val_loss: 0.1436 - val_accuracy: 0.9568\n",
      "\n",
      "\n",
      " ========= Evaluation (Loss, Accuracy) ========= \n",
      "313/313 [==============================] - 2s 5ms/step - loss: 0.1121 - accuracy: 0.9664\n",
      "-------  Adam  -------\n",
      "Epoch 1/10\n",
      "1688/1688 [==============================] - 11s 6ms/step - loss: 0.0999 - accuracy: 0.9714 - val_loss: 0.0982 - val_accuracy: 0.9697\n",
      "Epoch 2/10\n",
      "1688/1688 [==============================] - 10s 6ms/step - loss: 0.0913 - accuracy: 0.9739 - val_loss: 0.0880 - val_accuracy: 0.9762\n",
      "Epoch 3/10\n",
      "1688/1688 [==============================] - 10s 6ms/step - loss: 0.0847 - accuracy: 0.9762 - val_loss: 0.0839 - val_accuracy: 0.9763\n",
      "Epoch 4/10\n",
      "1688/1688 [==============================] - 10s 6ms/step - loss: 0.0782 - accuracy: 0.9783 - val_loss: 0.0811 - val_accuracy: 0.9770\n",
      "Epoch 5/10\n",
      "1688/1688 [==============================] - 10s 6ms/step - loss: 0.0724 - accuracy: 0.9802 - val_loss: 0.0815 - val_accuracy: 0.9763\n",
      "Epoch 6/10\n",
      "1688/1688 [==============================] - 11s 6ms/step - loss: 0.0674 - accuracy: 0.9815 - val_loss: 0.0760 - val_accuracy: 0.9778\n",
      "Epoch 7/10\n",
      "1688/1688 [==============================] - 10s 6ms/step - loss: 0.0630 - accuracy: 0.9830 - val_loss: 0.0743 - val_accuracy: 0.9790\n",
      "Epoch 8/10\n",
      "1688/1688 [==============================] - 10s 6ms/step - loss: 0.0587 - accuracy: 0.9843 - val_loss: 0.0771 - val_accuracy: 0.9770\n",
      "Epoch 9/10\n",
      "1688/1688 [==============================] - 11s 6ms/step - loss: 0.0550 - accuracy: 0.9851 - val_loss: 0.0719 - val_accuracy: 0.9790\n",
      "Epoch 10/10\n",
      "1688/1688 [==============================] - 10s 6ms/step - loss: 0.0514 - accuracy: 0.9864 - val_loss: 0.0706 - val_accuracy: 0.9770\n",
      "\n",
      "\n",
      " ========= Evaluation (Loss, Accuracy) ========= \n",
      "313/313 [==============================] - 2s 5ms/step - loss: 0.0780 - accuracy: 0.9744\n",
      "-------  RMSprop  -------\n",
      "Epoch 1/10\n",
      "1688/1688 [==============================] - 11s 6ms/step - loss: 0.0500 - accuracy: 0.9865 - val_loss: 0.0541 - val_accuracy: 0.9862\n",
      "Epoch 2/10\n",
      "1688/1688 [==============================] - 10s 6ms/step - loss: 0.0467 - accuracy: 0.9873 - val_loss: 0.0530 - val_accuracy: 0.9867\n",
      "Epoch 3/10\n",
      "1688/1688 [==============================] - 10s 6ms/step - loss: 0.0437 - accuracy: 0.9884 - val_loss: 0.0528 - val_accuracy: 0.9863\n",
      "Epoch 4/10\n",
      "1688/1688 [==============================] - 10s 6ms/step - loss: 0.0409 - accuracy: 0.9895 - val_loss: 0.0552 - val_accuracy: 0.9842\n",
      "Epoch 5/10\n",
      "1688/1688 [==============================] - 10s 6ms/step - loss: 0.0384 - accuracy: 0.9907 - val_loss: 0.0537 - val_accuracy: 0.9850\n",
      "Epoch 6/10\n",
      "1688/1688 [==============================] - 10s 6ms/step - loss: 0.0360 - accuracy: 0.9910 - val_loss: 0.0558 - val_accuracy: 0.9843\n",
      "Epoch 7/10\n",
      "1688/1688 [==============================] - 11s 6ms/step - loss: 0.0342 - accuracy: 0.9919 - val_loss: 0.0534 - val_accuracy: 0.9850\n",
      "Epoch 8/10\n",
      "1688/1688 [==============================] - 11s 6ms/step - loss: 0.0321 - accuracy: 0.9923 - val_loss: 0.0540 - val_accuracy: 0.9837\n",
      "Epoch 9/10\n",
      "1688/1688 [==============================] - 11s 7ms/step - loss: 0.0303 - accuracy: 0.9933 - val_loss: 0.0527 - val_accuracy: 0.9848\n",
      "Epoch 10/10\n",
      "1688/1688 [==============================] - 11s 6ms/step - loss: 0.0284 - accuracy: 0.9936 - val_loss: 0.0522 - val_accuracy: 0.9847\n",
      "\n",
      "\n",
      " ========= Evaluation (Loss, Accuracy) ========= \n",
      "313/313 [==============================] - 2s 5ms/step - loss: 0.0663 - accuracy: 0.9787\n",
      "-------  Adamax  -------\n",
      "Epoch 1/10\n",
      "1688/1688 [==============================] - 11s 6ms/step - loss: 0.0293 - accuracy: 0.9931 - val_loss: 0.0334 - val_accuracy: 0.9927\n",
      "Epoch 2/10\n",
      "1688/1688 [==============================] - 10s 6ms/step - loss: 0.0276 - accuracy: 0.9938 - val_loss: 0.0326 - val_accuracy: 0.9932\n",
      "Epoch 3/10\n",
      "1688/1688 [==============================] - 10s 6ms/step - loss: 0.0257 - accuracy: 0.9942 - val_loss: 0.0329 - val_accuracy: 0.9920\n",
      "Epoch 4/10\n",
      "1688/1688 [==============================] - 10s 6ms/step - loss: 0.0242 - accuracy: 0.9949 - val_loss: 0.0326 - val_accuracy: 0.9927\n",
      "Epoch 5/10\n",
      "1688/1688 [==============================] - 10s 6ms/step - loss: 0.0228 - accuracy: 0.9953 - val_loss: 0.0337 - val_accuracy: 0.9918\n",
      "Epoch 6/10\n",
      "1688/1688 [==============================] - 11s 6ms/step - loss: 0.0214 - accuracy: 0.9958 - val_loss: 0.0337 - val_accuracy: 0.9917\n",
      "Epoch 7/10\n",
      "1688/1688 [==============================] - 10s 6ms/step - loss: 0.0201 - accuracy: 0.9963 - val_loss: 0.0335 - val_accuracy: 0.9925\n",
      "Epoch 8/10\n",
      "1688/1688 [==============================] - 10s 6ms/step - loss: 0.0191 - accuracy: 0.9966 - val_loss: 0.0342 - val_accuracy: 0.9910\n",
      "Epoch 9/10\n",
      "1688/1688 [==============================] - 10s 6ms/step - loss: 0.0180 - accuracy: 0.9968 - val_loss: 0.0344 - val_accuracy: 0.9908\n",
      "Epoch 10/10\n",
      "1688/1688 [==============================] - 11s 7ms/step - loss: 0.0170 - accuracy: 0.9971 - val_loss: 0.0374 - val_accuracy: 0.9895\n",
      "\n",
      "\n",
      " ========= Evaluation (Loss, Accuracy) ========= \n",
      "313/313 [==============================] - 2s 5ms/step - loss: 0.0685 - accuracy: 0.9784\n"
     ]
    }
   ],
   "source": [
    "# mnist\n",
    "optims = ['sgd', 'Adam', 'RMSprop', 'Adamax']\n",
    "\n",
    "for optim in optims:\n",
    "    print('------- ', optim, ' -------')\n",
    "    doExperiment(mlp_model, mnist, optim=optim, plot_hist=False)"
   ]
  },
  {
   "cell_type": "code",
   "execution_count": 25,
   "metadata": {},
   "outputs": [
    {
     "name": "stdout",
     "output_type": "stream",
     "text": [
      "-------  sgd  -------\n",
      "Epoch 1/10\n",
      "1688/1688 [==============================] - 5s 3ms/step - loss: 0.4711 - accuracy: 0.8562 - val_loss: 0.3509 - val_accuracy: 0.8758\n",
      "Epoch 2/10\n",
      "1688/1688 [==============================] - 5s 3ms/step - loss: 0.2960 - accuracy: 0.8910 - val_loss: 0.3317 - val_accuracy: 0.8797\n",
      "Epoch 3/10\n",
      "1688/1688 [==============================] - 5s 3ms/step - loss: 0.2917 - accuracy: 0.8911 - val_loss: 0.3214 - val_accuracy: 0.8827\n",
      "Epoch 4/10\n",
      "1688/1688 [==============================] - 5s 3ms/step - loss: 0.2754 - accuracy: 0.8996 - val_loss: 0.3208 - val_accuracy: 0.8832\n",
      "Epoch 5/10\n",
      "1688/1688 [==============================] - 5s 3ms/step - loss: 0.2660 - accuracy: 0.9035 - val_loss: 0.3036 - val_accuracy: 0.8888\n",
      "Epoch 6/10\n",
      "1688/1688 [==============================] - 5s 3ms/step - loss: 0.2610 - accuracy: 0.9073 - val_loss: 0.2949 - val_accuracy: 0.8915\n",
      "Epoch 7/10\n",
      "1688/1688 [==============================] - 5s 3ms/step - loss: 0.2512 - accuracy: 0.9085 - val_loss: 0.2951 - val_accuracy: 0.8910\n",
      "Epoch 8/10\n",
      "1688/1688 [==============================] - 5s 3ms/step - loss: 0.2488 - accuracy: 0.9110 - val_loss: 0.2983 - val_accuracy: 0.8878\n",
      "Epoch 9/10\n",
      "1688/1688 [==============================] - 5s 3ms/step - loss: 0.2355 - accuracy: 0.9149 - val_loss: 0.3265 - val_accuracy: 0.8822\n",
      "Epoch 10/10\n",
      "1688/1688 [==============================] - 5s 3ms/step - loss: 0.2354 - accuracy: 0.9156 - val_loss: 0.2863 - val_accuracy: 0.8927\n",
      "\n",
      "\n",
      " ========= Evaluation (Loss, Accuracy) ========= \n",
      "313/313 [==============================] - 1s 2ms/step - loss: 0.3311 - accuracy: 0.8838\n",
      "-------  Adam  -------\n",
      "Epoch 1/10\n",
      "1688/1688 [==============================] - 5s 3ms/step - loss: 0.2289 - accuracy: 0.9163 - val_loss: 0.2336 - val_accuracy: 0.9178\n",
      "Epoch 2/10\n",
      "1688/1688 [==============================] - 5s 3ms/step - loss: 0.2255 - accuracy: 0.9183 - val_loss: 0.2515 - val_accuracy: 0.9117\n",
      "Epoch 3/10\n",
      "1688/1688 [==============================] - 5s 3ms/step - loss: 0.2226 - accuracy: 0.9171 - val_loss: 0.2484 - val_accuracy: 0.9120\n",
      "Epoch 4/10\n",
      "1688/1688 [==============================] - 5s 3ms/step - loss: 0.2222 - accuracy: 0.9200 - val_loss: 0.2362 - val_accuracy: 0.9135\n",
      "Epoch 5/10\n",
      "1688/1688 [==============================] - 5s 3ms/step - loss: 0.2095 - accuracy: 0.9253 - val_loss: 0.2385 - val_accuracy: 0.9143\n",
      "Epoch 6/10\n",
      "1688/1688 [==============================] - 5s 3ms/step - loss: 0.2059 - accuracy: 0.9258 - val_loss: 0.2489 - val_accuracy: 0.9102\n",
      "Epoch 7/10\n",
      "1688/1688 [==============================] - 5s 3ms/step - loss: 0.2045 - accuracy: 0.9251 - val_loss: 0.3091 - val_accuracy: 0.8847\n",
      "Epoch 8/10\n",
      "1688/1688 [==============================] - 5s 3ms/step - loss: 0.1960 - accuracy: 0.9298 - val_loss: 0.2330 - val_accuracy: 0.9167\n",
      "Epoch 9/10\n",
      "1688/1688 [==============================] - 5s 3ms/step - loss: 0.1980 - accuracy: 0.9277 - val_loss: 0.2469 - val_accuracy: 0.9115\n",
      "Epoch 10/10\n",
      "1688/1688 [==============================] - 5s 3ms/step - loss: 0.1889 - accuracy: 0.9312 - val_loss: 0.3054 - val_accuracy: 0.8848\n",
      "\n",
      "\n",
      " ========= Evaluation (Loss, Accuracy) ========= \n",
      "313/313 [==============================] - 1s 2ms/step - loss: 0.3871 - accuracy: 0.8625\n",
      "-------  RMSprop  -------\n",
      "Epoch 1/10\n",
      "1688/1688 [==============================] - 5s 3ms/step - loss: 0.1947 - accuracy: 0.9306 - val_loss: 0.1970 - val_accuracy: 0.9303\n",
      "Epoch 2/10\n",
      "1688/1688 [==============================] - 5s 3ms/step - loss: 0.1862 - accuracy: 0.9331 - val_loss: 0.2144 - val_accuracy: 0.9228\n",
      "Epoch 3/10\n",
      "1688/1688 [==============================] - 5s 3ms/step - loss: 0.1833 - accuracy: 0.9320 - val_loss: 0.2049 - val_accuracy: 0.9265\n",
      "Epoch 4/10\n",
      "1688/1688 [==============================] - 5s 3ms/step - loss: 0.1795 - accuracy: 0.9340 - val_loss: 0.2126 - val_accuracy: 0.9205\n",
      "Epoch 5/10\n",
      "1688/1688 [==============================] - 5s 3ms/step - loss: 0.1801 - accuracy: 0.9368 - val_loss: 0.2082 - val_accuracy: 0.9265\n",
      "Epoch 6/10\n",
      "1688/1688 [==============================] - 5s 3ms/step - loss: 0.1747 - accuracy: 0.9374 - val_loss: 0.2182 - val_accuracy: 0.9233\n",
      "Epoch 7/10\n",
      "1688/1688 [==============================] - 5s 3ms/step - loss: 0.1664 - accuracy: 0.9391 - val_loss: 0.2177 - val_accuracy: 0.9243\n",
      "Epoch 8/10\n",
      "1688/1688 [==============================] - 5s 3ms/step - loss: 0.1678 - accuracy: 0.9388 - val_loss: 0.2480 - val_accuracy: 0.9087\n",
      "Epoch 9/10\n",
      "1688/1688 [==============================] - 5s 3ms/step - loss: 0.1587 - accuracy: 0.9440 - val_loss: 0.2271 - val_accuracy: 0.9168\n",
      "Epoch 10/10\n",
      "1688/1688 [==============================] - 5s 3ms/step - loss: 0.1628 - accuracy: 0.9406 - val_loss: 0.2067 - val_accuracy: 0.9253\n",
      "\n",
      "\n",
      " ========= Evaluation (Loss, Accuracy) ========= \n",
      "313/313 [==============================] - 1s 2ms/step - loss: 0.3190 - accuracy: 0.8924\n",
      "-------  Adamax  -------\n",
      "Epoch 1/10\n",
      "1688/1688 [==============================] - 5s 3ms/step - loss: 0.1643 - accuracy: 0.9417 - val_loss: 0.1976 - val_accuracy: 0.9258\n",
      "Epoch 2/10\n",
      "1688/1688 [==============================] - 5s 3ms/step - loss: 0.1584 - accuracy: 0.9442 - val_loss: 0.1745 - val_accuracy: 0.9322\n",
      "Epoch 3/10\n",
      "1688/1688 [==============================] - 5s 3ms/step - loss: 0.1563 - accuracy: 0.9451 - val_loss: 0.1753 - val_accuracy: 0.9327\n",
      "Epoch 4/10\n",
      "1688/1688 [==============================] - 5s 3ms/step - loss: 0.1560 - accuracy: 0.9445 - val_loss: 0.1623 - val_accuracy: 0.9382\n",
      "Epoch 5/10\n",
      "1688/1688 [==============================] - 5s 3ms/step - loss: 0.1483 - accuracy: 0.9474 - val_loss: 0.1961 - val_accuracy: 0.9252\n",
      "Epoch 6/10\n",
      "1688/1688 [==============================] - 5s 3ms/step - loss: 0.1474 - accuracy: 0.9481 - val_loss: 0.1944 - val_accuracy: 0.9253\n",
      "Epoch 7/10\n",
      "1688/1688 [==============================] - 5s 3ms/step - loss: 0.1435 - accuracy: 0.9493 - val_loss: 0.1791 - val_accuracy: 0.9298\n",
      "Epoch 8/10\n",
      "1688/1688 [==============================] - 5s 3ms/step - loss: 0.1412 - accuracy: 0.9501 - val_loss: 0.1987 - val_accuracy: 0.9247\n",
      "Epoch 9/10\n",
      "1688/1688 [==============================] - 5s 3ms/step - loss: 0.1360 - accuracy: 0.9529 - val_loss: 0.1757 - val_accuracy: 0.9323\n",
      "Epoch 10/10\n",
      "1688/1688 [==============================] - 5s 3ms/step - loss: 0.1390 - accuracy: 0.9503 - val_loss: 0.1746 - val_accuracy: 0.9315\n",
      "\n",
      "\n",
      " ========= Evaluation (Loss, Accuracy) ========= \n",
      "313/313 [==============================] - 1s 2ms/step - loss: 0.3348 - accuracy: 0.8936\n"
     ]
    }
   ],
   "source": [
    "# fashion mnist\n",
    "optims = ['sgd', 'Adam', 'RMSprop', 'Adamax']\n",
    "\n",
    "for optim in optims:\n",
    "    print('------- ', optim,    ' -------')\n",
    "    doExperiment(mlp_model, fashion_mnist, optim=optim, plot_hist=False)"
   ]
  },
  {
   "cell_type": "markdown",
   "metadata": {},
   "source": [
    "#### activation"
   ]
  },
  {
   "cell_type": "code",
   "execution_count": 26,
   "metadata": {},
   "outputs": [
    {
     "name": "stdout",
     "output_type": "stream",
     "text": [
      "-------  relu  -------\n",
      "Epoch 1/10\n",
      "1688/1688 [==============================] - 5s 3ms/step - loss: 0.9890 - accuracy: 0.7503 - val_loss: 0.3419 - val_accuracy: 0.8985\n",
      "Epoch 2/10\n",
      "1688/1688 [==============================] - 5s 3ms/step - loss: 0.3000 - accuracy: 0.9140 - val_loss: 0.2660 - val_accuracy: 0.9205\n",
      "Epoch 3/10\n",
      "1688/1688 [==============================] - 5s 3ms/step - loss: 0.2435 - accuracy: 0.9316 - val_loss: 0.2317 - val_accuracy: 0.9318\n",
      "Epoch 4/10\n",
      "1688/1688 [==============================] - 5s 3ms/step - loss: 0.2053 - accuracy: 0.9417 - val_loss: 0.2045 - val_accuracy: 0.9372\n",
      "Epoch 5/10\n",
      "1688/1688 [==============================] - 5s 3ms/step - loss: 0.1741 - accuracy: 0.9498 - val_loss: 0.1850 - val_accuracy: 0.9428\n",
      "Epoch 6/10\n",
      "1688/1688 [==============================] - 5s 3ms/step - loss: 0.1565 - accuracy: 0.9563 - val_loss: 0.1691 - val_accuracy: 0.9477\n",
      "Epoch 7/10\n",
      "1688/1688 [==============================] - 5s 3ms/step - loss: 0.1369 - accuracy: 0.9617 - val_loss: 0.1583 - val_accuracy: 0.9512\n",
      "Epoch 8/10\n",
      "1688/1688 [==============================] - 5s 3ms/step - loss: 0.1253 - accuracy: 0.9653 - val_loss: 0.1472 - val_accuracy: 0.9558\n",
      "Epoch 9/10\n",
      "1688/1688 [==============================] - 5s 3ms/step - loss: 0.1127 - accuracy: 0.9682 - val_loss: 0.1403 - val_accuracy: 0.9557\n",
      "Epoch 10/10\n",
      "1688/1688 [==============================] - 5s 3ms/step - loss: 0.1041 - accuracy: 0.9709 - val_loss: 0.1321 - val_accuracy: 0.9572\n",
      "\n",
      "\n",
      " ========= Evaluation (Loss, Accuracy) ========= \n",
      "313/313 [==============================] - 0s 2ms/step - loss: 0.1121 - accuracy: 0.9662\n",
      "-------  sigmoid  -------\n",
      "Epoch 1/10\n",
      "1688/1688 [==============================] - 5s 3ms/step - loss: 2.2465 - accuracy: 0.2437 - val_loss: 1.9499 - val_accuracy: 0.5777\n",
      "Epoch 2/10\n",
      "1688/1688 [==============================] - 5s 3ms/step - loss: 1.7672 - accuracy: 0.6208 - val_loss: 1.2356 - val_accuracy: 0.7308\n",
      "Epoch 3/10\n",
      "1688/1688 [==============================] - 5s 3ms/step - loss: 1.1006 - accuracy: 0.7611 - val_loss: 0.8293 - val_accuracy: 0.7988\n",
      "Epoch 4/10\n",
      "1688/1688 [==============================] - 5s 3ms/step - loss: 0.7703 - accuracy: 0.8164 - val_loss: 0.6503 - val_accuracy: 0.8310\n",
      "Epoch 5/10\n",
      "1688/1688 [==============================] - 5s 3ms/step - loss: 0.6160 - accuracy: 0.8432 - val_loss: 0.5502 - val_accuracy: 0.8562\n",
      "Epoch 6/10\n",
      "1688/1688 [==============================] - 5s 3ms/step - loss: 0.5243 - accuracy: 0.8628 - val_loss: 0.4897 - val_accuracy: 0.8692\n",
      "Epoch 7/10\n",
      "1688/1688 [==============================] - 5s 3ms/step - loss: 0.4673 - accuracy: 0.8746 - val_loss: 0.4489 - val_accuracy: 0.8787\n",
      "Epoch 8/10\n",
      "1688/1688 [==============================] - 5s 3ms/step - loss: 0.4278 - accuracy: 0.8843 - val_loss: 0.4209 - val_accuracy: 0.8857\n",
      "Epoch 9/10\n",
      "1688/1688 [==============================] - 5s 3ms/step - loss: 0.4033 - accuracy: 0.8895 - val_loss: 0.3999 - val_accuracy: 0.8887\n",
      "Epoch 10/10\n",
      "1688/1688 [==============================] - 5s 3ms/step - loss: 0.3871 - accuracy: 0.8903 - val_loss: 0.3853 - val_accuracy: 0.8932\n",
      "\n",
      "\n",
      " ========= Evaluation (Loss, Accuracy) ========= \n",
      "313/313 [==============================] - 1s 2ms/step - loss: 0.3615 - accuracy: 0.8983\n",
      "-------  softmax  -------\n",
      "Epoch 1/10\n",
      "1688/1688 [==============================] - 5s 3ms/step - loss: 2.3018 - accuracy: 0.1103 - val_loss: 2.3015 - val_accuracy: 0.1105\n",
      "Epoch 2/10\n",
      "1688/1688 [==============================] - 5s 3ms/step - loss: 2.3014 - accuracy: 0.1127 - val_loss: 2.3015 - val_accuracy: 0.1105\n",
      "Epoch 3/10\n",
      "1688/1688 [==============================] - 5s 3ms/step - loss: 2.3008 - accuracy: 0.1148 - val_loss: 2.3015 - val_accuracy: 0.1105\n",
      "Epoch 4/10\n",
      "1688/1688 [==============================] - 5s 3ms/step - loss: 2.3014 - accuracy: 0.1107 - val_loss: 2.3015 - val_accuracy: 0.1105\n",
      "Epoch 5/10\n",
      "1688/1688 [==============================] - 5s 3ms/step - loss: 2.3014 - accuracy: 0.1108 - val_loss: 2.3016 - val_accuracy: 0.1105\n",
      "Epoch 6/10\n",
      "1688/1688 [==============================] - 5s 3ms/step - loss: 2.3004 - accuracy: 0.1152 - val_loss: 2.3015 - val_accuracy: 0.1105\n",
      "Epoch 7/10\n",
      "1688/1688 [==============================] - 5s 3ms/step - loss: 2.3014 - accuracy: 0.1112 - val_loss: 2.3015 - val_accuracy: 0.1105\n",
      "Epoch 8/10\n",
      "1688/1688 [==============================] - 5s 3ms/step - loss: 2.3012 - accuracy: 0.1137 - val_loss: 2.3015 - val_accuracy: 0.1105\n",
      "Epoch 9/10\n",
      "1688/1688 [==============================] - 5s 3ms/step - loss: 2.3015 - accuracy: 0.1110 - val_loss: 2.3014 - val_accuracy: 0.1105\n",
      "Epoch 10/10\n",
      "1688/1688 [==============================] - 5s 3ms/step - loss: 2.3016 - accuracy: 0.1107 - val_loss: 2.3015 - val_accuracy: 0.1105\n",
      "\n",
      "\n",
      " ========= Evaluation (Loss, Accuracy) ========= \n",
      "313/313 [==============================] - 1s 2ms/step - loss: 2.3010 - accuracy: 0.1135\n",
      "-------  tanh  -------\n",
      "Epoch 1/10\n",
      "1688/1688 [==============================] - 5s 3ms/step - loss: 0.8507 - accuracy: 0.7830 - val_loss: 0.3446 - val_accuracy: 0.9065\n",
      "Epoch 2/10\n",
      "1688/1688 [==============================] - 5s 3ms/step - loss: 0.3257 - accuracy: 0.9085 - val_loss: 0.2912 - val_accuracy: 0.9160\n",
      "Epoch 3/10\n",
      "1688/1688 [==============================] - 5s 3ms/step - loss: 0.2762 - accuracy: 0.9200 - val_loss: 0.2638 - val_accuracy: 0.9228\n",
      "Epoch 4/10\n",
      "1688/1688 [==============================] - 5s 3ms/step - loss: 0.2464 - accuracy: 0.9289 - val_loss: 0.2402 - val_accuracy: 0.9297\n",
      "Epoch 5/10\n",
      "1688/1688 [==============================] - 5s 3ms/step - loss: 0.2223 - accuracy: 0.9371 - val_loss: 0.2232 - val_accuracy: 0.9350\n",
      "Epoch 6/10\n",
      "1688/1688 [==============================] - 5s 3ms/step - loss: 0.2004 - accuracy: 0.9428 - val_loss: 0.2096 - val_accuracy: 0.9403\n",
      "Epoch 7/10\n",
      "1688/1688 [==============================] - 5s 3ms/step - loss: 0.1914 - accuracy: 0.9466 - val_loss: 0.1968 - val_accuracy: 0.9425\n",
      "Epoch 8/10\n",
      "1688/1688 [==============================] - 5s 3ms/step - loss: 0.1772 - accuracy: 0.9498 - val_loss: 0.1866 - val_accuracy: 0.9462\n",
      "Epoch 9/10\n",
      "1688/1688 [==============================] - 5s 3ms/step - loss: 0.1645 - accuracy: 0.9532 - val_loss: 0.1794 - val_accuracy: 0.9478\n",
      "Epoch 10/10\n",
      "1688/1688 [==============================] - 5s 3ms/step - loss: 0.1503 - accuracy: 0.9565 - val_loss: 0.1701 - val_accuracy: 0.9507\n",
      "\n",
      "\n",
      " ========= Evaluation (Loss, Accuracy) ========= \n",
      "313/313 [==============================] - 1s 2ms/step - loss: 0.1545 - accuracy: 0.9551\n",
      "-------  exponential  -------\n",
      "Epoch 1/10\n",
      "1688/1688 [==============================] - 5s 3ms/step - loss: nan - accuracy: 0.0984 - val_loss: nan - val_accuracy: 0.1018\n",
      "Epoch 2/10\n",
      "1688/1688 [==============================] - 5s 3ms/step - loss: nan - accuracy: 0.0986 - val_loss: nan - val_accuracy: 0.1018\n",
      "Epoch 3/10\n",
      "1688/1688 [==============================] - 5s 3ms/step - loss: nan - accuracy: 0.0978 - val_loss: nan - val_accuracy: 0.1018\n",
      "Epoch 4/10\n",
      "1688/1688 [==============================] - 5s 3ms/step - loss: nan - accuracy: 0.0984 - val_loss: nan - val_accuracy: 0.1018\n",
      "Epoch 5/10\n",
      "1688/1688 [==============================] - 5s 3ms/step - loss: nan - accuracy: 0.0995 - val_loss: nan - val_accuracy: 0.1018\n",
      "Epoch 6/10\n",
      "1688/1688 [==============================] - 5s 3ms/step - loss: nan - accuracy: 0.0972 - val_loss: nan - val_accuracy: 0.1018\n",
      "Epoch 7/10\n",
      "1688/1688 [==============================] - 5s 3ms/step - loss: nan - accuracy: 0.0975 - val_loss: nan - val_accuracy: 0.1018\n",
      "Epoch 8/10\n",
      "1688/1688 [==============================] - 5s 3ms/step - loss: nan - accuracy: 0.0989 - val_loss: nan - val_accuracy: 0.1018\n",
      "Epoch 9/10\n",
      "1688/1688 [==============================] - 5s 3ms/step - loss: nan - accuracy: 0.1003 - val_loss: nan - val_accuracy: 0.1018\n",
      "Epoch 10/10\n",
      "1688/1688 [==============================] - 5s 3ms/step - loss: nan - accuracy: 0.0994 - val_loss: nan - val_accuracy: 0.1018\n",
      "\n",
      "\n",
      " ========= Evaluation (Loss, Accuracy) ========= \n",
      "313/313 [==============================] - 1s 2ms/step - loss: nan - accuracy: 0.0980\n"
     ]
    }
   ],
   "source": [
    "activations = ['relu', 'sigmoid', 'softmax', 'tanh', 'exponential']\n",
    "\n",
    "for activ in activations:\n",
    "    print('------- ', activ, ' -------')\n",
    "    activ_mlp_model = keras.models.Sequential([\n",
    "    keras.layers.Flatten(input_shape=[28, 28, 1]),\n",
    "    keras.layers.Dense(300, activation=activ),\n",
    "    keras.layers.Dense(100, activation=activ),\n",
    "    keras.layers.Dense(10, activation=\"softmax\")\n",
    "    ])\n",
    "\n",
    "    doExperiment(activ_mlp_model, mnist, plot_hist=False)"
   ]
  },
  {
   "cell_type": "markdown",
   "metadata": {},
   "source": [
    "#### initializers"
   ]
  },
  {
   "cell_type": "code",
   "execution_count": 27,
   "metadata": {},
   "outputs": [
    {
     "name": "stdout",
     "output_type": "stream",
     "text": [
      "-------  RandomNormal  -------\n",
      "Epoch 1/10\n",
      "1688/1688 [==============================] - 5s 3ms/step - loss: 1.1236 - accuracy: 0.7101 - val_loss: 0.3345 - val_accuracy: 0.9048\n",
      "Epoch 2/10\n",
      "1688/1688 [==============================] - 5s 3ms/step - loss: 0.3261 - accuracy: 0.9089 - val_loss: 0.2707 - val_accuracy: 0.9233\n",
      "Epoch 3/10\n",
      "1688/1688 [==============================] - 5s 3ms/step - loss: 0.2617 - accuracy: 0.9256 - val_loss: 0.2357 - val_accuracy: 0.9312\n",
      "Epoch 4/10\n",
      "1688/1688 [==============================] - 5s 3ms/step - loss: 0.2353 - accuracy: 0.9347 - val_loss: 0.2073 - val_accuracy: 0.9405\n",
      "Epoch 5/10\n",
      "1688/1688 [==============================] - 5s 3ms/step - loss: 0.1998 - accuracy: 0.9435 - val_loss: 0.1813 - val_accuracy: 0.9482\n",
      "Epoch 6/10\n",
      "1688/1688 [==============================] - 5s 3ms/step - loss: 0.1740 - accuracy: 0.9501 - val_loss: 0.1672 - val_accuracy: 0.9507\n",
      "Epoch 7/10\n",
      "1688/1688 [==============================] - 5s 3ms/step - loss: 0.1621 - accuracy: 0.9542 - val_loss: 0.1547 - val_accuracy: 0.9545\n",
      "Epoch 8/10\n",
      "1688/1688 [==============================] - 5s 3ms/step - loss: 0.1470 - accuracy: 0.9569 - val_loss: 0.1427 - val_accuracy: 0.9595\n",
      "Epoch 9/10\n",
      "1688/1688 [==============================] - 5s 3ms/step - loss: 0.1327 - accuracy: 0.9623 - val_loss: 0.1289 - val_accuracy: 0.9625\n",
      "Epoch 10/10\n",
      "1688/1688 [==============================] - 5s 3ms/step - loss: 0.1229 - accuracy: 0.9657 - val_loss: 0.1220 - val_accuracy: 0.9648\n",
      "\n",
      "\n",
      " ========= Evaluation (Loss, Accuracy) ========= \n",
      "313/313 [==============================] - 1s 2ms/step - loss: 0.1227 - accuracy: 0.9645\n",
      "-------  RandomUniform  -------\n",
      "Epoch 1/10\n",
      "1688/1688 [==============================] - 5s 3ms/step - loss: 1.1091 - accuracy: 0.7060 - val_loss: 0.3535 - val_accuracy: 0.8950\n",
      "Epoch 2/10\n",
      "1688/1688 [==============================] - 5s 3ms/step - loss: 0.3220 - accuracy: 0.9073 - val_loss: 0.2787 - val_accuracy: 0.9207\n",
      "Epoch 3/10\n",
      "1688/1688 [==============================] - 5s 3ms/step - loss: 0.2619 - accuracy: 0.9240 - val_loss: 0.2426 - val_accuracy: 0.9292\n",
      "Epoch 4/10\n",
      "1688/1688 [==============================] - 5s 3ms/step - loss: 0.2220 - accuracy: 0.9356 - val_loss: 0.2129 - val_accuracy: 0.9377\n",
      "Epoch 5/10\n",
      "1688/1688 [==============================] - 5s 3ms/step - loss: 0.1963 - accuracy: 0.9444 - val_loss: 0.1903 - val_accuracy: 0.9453\n",
      "Epoch 6/10\n",
      "1688/1688 [==============================] - 5s 3ms/step - loss: 0.1719 - accuracy: 0.9501 - val_loss: 0.1699 - val_accuracy: 0.9507\n",
      "Epoch 7/10\n",
      "1688/1688 [==============================] - 5s 3ms/step - loss: 0.1513 - accuracy: 0.9571 - val_loss: 0.1565 - val_accuracy: 0.9557\n",
      "Epoch 8/10\n",
      "1688/1688 [==============================] - 5s 3ms/step - loss: 0.1300 - accuracy: 0.9635 - val_loss: 0.1449 - val_accuracy: 0.9575\n",
      "Epoch 9/10\n",
      "1688/1688 [==============================] - 5s 3ms/step - loss: 0.1234 - accuracy: 0.9650 - val_loss: 0.1439 - val_accuracy: 0.9588\n",
      "Epoch 10/10\n",
      "1688/1688 [==============================] - 5s 3ms/step - loss: 0.1133 - accuracy: 0.9683 - val_loss: 0.1280 - val_accuracy: 0.9625\n",
      "\n",
      "\n",
      " ========= Evaluation (Loss, Accuracy) ========= \n",
      "313/313 [==============================] - 0s 1ms/step - loss: 0.1209 - accuracy: 0.9649\n",
      "-------  Zeros  -------\n",
      "Epoch 1/10\n",
      "1688/1688 [==============================] - 5s 3ms/step - loss: 1.1362 - accuracy: 0.6987 - val_loss: 0.3601 - val_accuracy: 0.8965\n",
      "Epoch 2/10\n",
      "1688/1688 [==============================] - 5s 3ms/step - loss: 0.3165 - accuracy: 0.9088 - val_loss: 0.2878 - val_accuracy: 0.9187\n",
      "Epoch 3/10\n",
      "1688/1688 [==============================] - 5s 3ms/step - loss: 0.2591 - accuracy: 0.9269 - val_loss: 0.2488 - val_accuracy: 0.9305\n",
      "Epoch 4/10\n",
      "1688/1688 [==============================] - 5s 3ms/step - loss: 0.2168 - accuracy: 0.9390 - val_loss: 0.2214 - val_accuracy: 0.9387\n",
      "Epoch 5/10\n",
      "1688/1688 [==============================] - 5s 3ms/step - loss: 0.1908 - accuracy: 0.9454 - val_loss: 0.2050 - val_accuracy: 0.9413\n",
      "Epoch 6/10\n",
      "1688/1688 [==============================] - 5s 3ms/step - loss: 0.1689 - accuracy: 0.9518 - val_loss: 0.1864 - val_accuracy: 0.9457\n",
      "Epoch 7/10\n",
      "1688/1688 [==============================] - 4s 3ms/step - loss: 0.1533 - accuracy: 0.9558 - val_loss: 0.1658 - val_accuracy: 0.9525\n",
      "Epoch 8/10\n",
      "1688/1688 [==============================] - 5s 3ms/step - loss: 0.1345 - accuracy: 0.9612 - val_loss: 0.1583 - val_accuracy: 0.9545\n",
      "Epoch 9/10\n",
      "1688/1688 [==============================] - 5s 3ms/step - loss: 0.1198 - accuracy: 0.9663 - val_loss: 0.1468 - val_accuracy: 0.9595\n",
      "Epoch 10/10\n",
      "1688/1688 [==============================] - 5s 3ms/step - loss: 0.1119 - accuracy: 0.9690 - val_loss: 0.1387 - val_accuracy: 0.9642\n",
      "\n",
      "\n",
      " ========= Evaluation (Loss, Accuracy) ========= \n",
      "313/313 [==============================] - 0s 2ms/step - loss: 0.1218 - accuracy: 0.9632\n",
      "-------  Ones  -------\n",
      "Epoch 1/10\n",
      "1688/1688 [==============================] - 5s 3ms/step - loss: 1.1586 - accuracy: 0.6912 - val_loss: 0.3469 - val_accuracy: 0.9038\n",
      "Epoch 2/10\n",
      "1688/1688 [==============================] - 5s 3ms/step - loss: 0.3187 - accuracy: 0.9092 - val_loss: 0.2918 - val_accuracy: 0.9148\n",
      "Epoch 3/10\n",
      "1688/1688 [==============================] - 5s 3ms/step - loss: 0.2636 - accuracy: 0.9256 - val_loss: 0.2452 - val_accuracy: 0.9312\n",
      "Epoch 4/10\n",
      "1688/1688 [==============================] - 5s 3ms/step - loss: 0.2267 - accuracy: 0.9351 - val_loss: 0.2217 - val_accuracy: 0.9368\n",
      "Epoch 5/10\n",
      "1688/1688 [==============================] - 5s 3ms/step - loss: 0.2002 - accuracy: 0.9427 - val_loss: 0.1994 - val_accuracy: 0.9427\n",
      "Epoch 6/10\n",
      "1688/1688 [==============================] - 5s 3ms/step - loss: 0.1747 - accuracy: 0.9501 - val_loss: 0.1832 - val_accuracy: 0.9475\n",
      "Epoch 7/10\n",
      "1688/1688 [==============================] - 5s 3ms/step - loss: 0.1616 - accuracy: 0.9530 - val_loss: 0.1667 - val_accuracy: 0.9530\n",
      "Epoch 8/10\n",
      "1688/1688 [==============================] - 5s 3ms/step - loss: 0.1399 - accuracy: 0.9600 - val_loss: 0.1600 - val_accuracy: 0.9543\n",
      "Epoch 9/10\n",
      "1688/1688 [==============================] - 5s 3ms/step - loss: 0.1276 - accuracy: 0.9639 - val_loss: 0.1515 - val_accuracy: 0.9552\n",
      "Epoch 10/10\n",
      "1688/1688 [==============================] - 5s 3ms/step - loss: 0.1202 - accuracy: 0.9662 - val_loss: 0.1411 - val_accuracy: 0.9592\n",
      "\n",
      "\n",
      " ========= Evaluation (Loss, Accuracy) ========= \n",
      "313/313 [==============================] - 0s 2ms/step - loss: 0.1226 - accuracy: 0.9634\n"
     ]
    }
   ],
   "source": [
    "initializers = ['RandomNormal', 'RandomUniform', 'Zeros', 'Ones']\n",
    "\n",
    "for init in initializers:\n",
    "    print('------- ', init, ' -------')\n",
    "    init_mlp_model = keras.models.Sequential([\n",
    "    keras.layers.Flatten(input_shape=[28, 28, 1]),\n",
    "    keras.layers.Dense(300, activation='relu', kernel_initializer='random_normal', bias_initializer='zeros'),\n",
    "    keras.layers.Dense(100, activation='relu', kernel_initializer='random_normal'),\n",
    "    keras.layers.Dense(10, activation=\"softmax\")\n",
    "    ])\n",
    "\n",
    "    doExperiment(init_mlp_model, mnist, plot_hist=False)"
   ]
  },
  {
   "cell_type": "markdown",
   "metadata": {},
   "source": [
    "## cnn "
   ]
  },
  {
   "cell_type": "code",
   "execution_count": 7,
   "metadata": {},
   "outputs": [],
   "source": [
    "DefaultConv2D = partial(keras.layers.Conv2D, kernel_size=3, activation='relu', padding=\"SAME\")\n",
    "\n",
    "cnn_model = keras.models.Sequential([\n",
    "DefaultConv2D(filters=64, kernel_size=7, input_shape=[28, 28, 1]),\n",
    "keras.layers.MaxPooling2D(pool_size=2),\n",
    "DefaultConv2D(filters=128),\n",
    "DefaultConv2D(filters=128),\n",
    "keras.layers.MaxPooling2D(pool_size=2),\n",
    "DefaultConv2D(filters=256),\n",
    "DefaultConv2D(filters=256),\n",
    "keras.layers.MaxPooling2D(pool_size=2),\n",
    "keras.layers.Flatten(),\n",
    "keras.layers.Dense(units=128, activation='relu'),\n",
    "keras.layers.Dropout(0.5),\n",
    "keras.layers.Dense(units=64, activation='relu'),\n",
    "keras.layers.Dropout(0.5),\n",
    "keras.layers.Dense(units=10, activation='softmax'),\n",
    "])"
   ]
  },
  {
   "cell_type": "markdown",
   "metadata": {},
   "source": [
    "### mnist"
   ]
  },
  {
   "cell_type": "code",
   "execution_count": 29,
   "metadata": {},
   "outputs": [
    {
     "name": "stdout",
     "output_type": "stream",
     "text": [
      "Epoch 1/10\n",
      "1688/1688 [==============================] - 67s 39ms/step - loss: 1.9076 - accuracy: 0.3108 - val_loss: 0.1961 - val_accuracy: 0.9412\n",
      "Epoch 2/10\n",
      "1688/1688 [==============================] - 64s 38ms/step - loss: 0.3688 - accuracy: 0.8948 - val_loss: 0.0988 - val_accuracy: 0.9720\n",
      "Epoch 3/10\n",
      "1688/1688 [==============================] - 64s 38ms/step - loss: 0.2170 - accuracy: 0.9410 - val_loss: 0.0790 - val_accuracy: 0.9772\n",
      "Epoch 4/10\n",
      "1688/1688 [==============================] - 64s 38ms/step - loss: 0.1615 - accuracy: 0.9585 - val_loss: 0.0658 - val_accuracy: 0.9823\n",
      "Epoch 5/10\n",
      "1688/1688 [==============================] - 65s 39ms/step - loss: 0.1277 - accuracy: 0.9665 - val_loss: 0.0577 - val_accuracy: 0.9848\n",
      "Epoch 6/10\n",
      "1688/1688 [==============================] - 65s 38ms/step - loss: 0.1180 - accuracy: 0.9709 - val_loss: 0.0443 - val_accuracy: 0.9872\n",
      "Epoch 7/10\n",
      "1688/1688 [==============================] - 62s 37ms/step - loss: 0.0931 - accuracy: 0.9759 - val_loss: 0.0463 - val_accuracy: 0.9872\n",
      "Epoch 8/10\n",
      "1688/1688 [==============================] - 63s 37ms/step - loss: 0.0824 - accuracy: 0.9791 - val_loss: 0.0482 - val_accuracy: 0.9880\n",
      "Epoch 9/10\n",
      "1688/1688 [==============================] - 64s 38ms/step - loss: 0.0725 - accuracy: 0.9822 - val_loss: 0.0392 - val_accuracy: 0.9898\n",
      "Epoch 10/10\n",
      "1688/1688 [==============================] - 64s 38ms/step - loss: 0.0659 - accuracy: 0.9831 - val_loss: 0.0425 - val_accuracy: 0.9897\n",
      "\n",
      "\n",
      " ========= History =========\n"
     ]
    },
    {
     "data": {
      "image/png": "[encoded data removed]",
      "text/plain": [
       "<Figure size 576x360 with 1 Axes>"
      ]
     },
     "metadata": {
      "needs_background": "light"
     },
     "output_type": "display_data"
    },
    {
     "name": "stdout",
     "output_type": "stream",
     "text": [
      "\n",
      "\n",
      " ========= Evaluation (Loss, Accuracy) ========= \n",
      "313/313 [==============================] - 3s 10ms/step - loss: 0.0345 - accuracy: 0.9910\n"
     ]
    },
    {
     "data": {
      "text/plain": [
       "[0.03446878865361214, 0.9909999966621399]"
      ]
     },
     "execution_count": 29,
     "metadata": {},
     "output_type": "execute_result"
    }
   ],
   "source": [
    "doExperiment(cnn_model, mnist)"
   ]
  },
  {
   "cell_type": "markdown",
   "metadata": {},
   "source": [
    "### fashion mnist"
   ]
  },
  {
   "cell_type": "code",
   "execution_count": 30,
   "metadata": {},
   "outputs": [
    {
     "name": "stdout",
     "output_type": "stream",
     "text": [
      "Epoch 1/10\n",
      "1688/1688 [==============================] - 66s 39ms/step - loss: 1.0927 - accuracy: 0.6403 - val_loss: 0.4453 - val_accuracy: 0.8402\n",
      "Epoch 2/10\n",
      "1688/1688 [==============================] - 65s 39ms/step - loss: 0.5586 - accuracy: 0.8151 - val_loss: 0.3797 - val_accuracy: 0.8658\n",
      "Epoch 3/10\n",
      "1688/1688 [==============================] - 66s 39ms/step - loss: 0.4677 - accuracy: 0.8451 - val_loss: 0.3477 - val_accuracy: 0.8760\n",
      "Epoch 4/10\n",
      "1688/1688 [==============================] - 65s 38ms/step - loss: 0.4273 - accuracy: 0.8588 - val_loss: 0.3337 - val_accuracy: 0.8838\n",
      "Epoch 5/10\n",
      "1688/1688 [==============================] - 65s 39ms/step - loss: 0.3854 - accuracy: 0.8722 - val_loss: 0.3171 - val_accuracy: 0.8840\n",
      "Epoch 6/10\n",
      "1688/1688 [==============================] - 61s 36ms/step - loss: 0.3740 - accuracy: 0.8766 - val_loss: 0.3139 - val_accuracy: 0.8860\n",
      "Epoch 7/10\n",
      "1688/1688 [==============================] - 62s 37ms/step - loss: 0.3520 - accuracy: 0.8828 - val_loss: 0.2887 - val_accuracy: 0.8975\n",
      "Epoch 8/10\n",
      "1688/1688 [==============================] - 63s 37ms/step - loss: 0.3336 - accuracy: 0.8873 - val_loss: 0.2821 - val_accuracy: 0.8992\n",
      "Epoch 9/10\n",
      "1688/1688 [==============================] - 63s 38ms/step - loss: 0.3171 - accuracy: 0.8929 - val_loss: 0.2841 - val_accuracy: 0.8987\n",
      "Epoch 10/10\n",
      "1688/1688 [==============================] - 64s 38ms/step - loss: 0.3072 - accuracy: 0.8980 - val_loss: 0.2733 - val_accuracy: 0.9025\n",
      "\n",
      "\n",
      " ========= History =========\n"
     ]
    },
    {
     "data": {
      "image/png": "[encoded data removed]",
      "text/plain": [
       "<Figure size 576x360 with 1 Axes>"
      ]
     },
     "metadata": {
      "needs_background": "light"
     },
     "output_type": "display_data"
    },
    {
     "name": "stdout",
     "output_type": "stream",
     "text": [
      "\n",
      "\n",
      " ========= Evaluation (Loss, Accuracy) ========= \n",
      "313/313 [==============================] - 3s 11ms/step - loss: 0.2853 - accuracy: 0.8987\n"
     ]
    },
    {
     "data": {
      "text/plain": [
       "[0.28525426983833313, 0.8986999988555908]"
      ]
     },
     "execution_count": 30,
     "metadata": {},
     "output_type": "execute_result"
    }
   ],
   "source": [
    "doExperiment(cnn_model, fashion_mnist)"
   ]
  },
  {
   "cell_type": "markdown",
   "metadata": {},
   "source": [
    "### experiments"
   ]
  },
  {
   "cell_type": "code",
   "execution_count": 7,
   "metadata": {},
   "outputs": [],
   "source": [
    "# fewer epochs for faster computations\n",
    "epochs = 5"
   ]
  },
  {
   "cell_type": "markdown",
   "metadata": {},
   "source": [
    "#### filters"
   ]
  },
  {
   "cell_type": "code",
   "execution_count": 19,
   "metadata": {},
   "outputs": [],
   "source": [
    "def filter_model(filters):\n",
    "    filter_cnn_model = keras.models.Sequential([\n",
    "    DefaultConv2D(filters=filters, kernel_size=7, input_shape=[28, 28, 1]),\n",
    "    keras.layers.MaxPooling2D(pool_size=2),\n",
    "    DefaultConv2D(filters=filters*2),\n",
    "    DefaultConv2D(filters=filters*2),\n",
    "    keras.layers.MaxPooling2D(pool_size=2),\n",
    "    DefaultConv2D(filters=filters*4),\n",
    "    DefaultConv2D(filters=filters*4),\n",
    "    keras.layers.MaxPooling2D(pool_size=2),\n",
    "    keras.layers.Flatten(),\n",
    "    keras.layers.Dense(units=filters*2, activation='relu'),\n",
    "    keras.layers.Dropout(0.5),\n",
    "    keras.layers.Dense(units=filters, activation='relu'),\n",
    "    keras.layers.Dropout(0.5),\n",
    "    keras.layers.Dense(units=10, activation='softmax'),\n",
    "    ])\n",
    "    \n",
    "    return filter_cnn_model"
   ]
  },
  {
   "cell_type": "code",
   "execution_count": 20,
   "metadata": {},
   "outputs": [
    {
     "name": "stdout",
     "output_type": "stream",
     "text": [
      "\n",
      "\n",
      "------- Initial filters: =  16  -------\n",
      "Epoch 1/10\n",
      "1688/1688 [==============================] - 24s 14ms/step - loss: 1.8459 - accuracy: 0.3275 - val_loss: 0.7374 - val_accuracy: 0.8265\n",
      "Epoch 2/10\n",
      "1688/1688 [==============================] - 24s 14ms/step - loss: 1.1189 - accuracy: 0.5922 - val_loss: 0.3588 - val_accuracy: 0.8967\n",
      "Epoch 3/10\n",
      "1688/1688 [==============================] - 24s 14ms/step - loss: 0.8861 - accuracy: 0.6812 - val_loss: 0.2004 - val_accuracy: 0.9587\n",
      "Epoch 4/10\n",
      "1688/1688 [==============================] - 24s 14ms/step - loss: 0.7806 - accuracy: 0.7226 - val_loss: 0.1804 - val_accuracy: 0.9658\n",
      "Epoch 5/10\n",
      "1688/1688 [==============================] - 23s 14ms/step - loss: 0.7148 - accuracy: 0.7461 - val_loss: 0.1420 - val_accuracy: 0.9713\n",
      "Epoch 6/10\n",
      "1688/1688 [==============================] - 24s 14ms/step - loss: 0.6767 - accuracy: 0.7593 - val_loss: 0.1469 - val_accuracy: 0.9733\n",
      "Epoch 7/10\n",
      "1688/1688 [==============================] - 24s 14ms/step - loss: 0.6481 - accuracy: 0.7697 - val_loss: 0.1094 - val_accuracy: 0.9763\n",
      "Epoch 8/10\n",
      "1688/1688 [==============================] - 23s 14ms/step - loss: 0.6261 - accuracy: 0.7755 - val_loss: 0.1060 - val_accuracy: 0.9752\n",
      "Epoch 9/10\n",
      "1688/1688 [==============================] - 23s 14ms/step - loss: 0.6103 - accuracy: 0.7838 - val_loss: 0.0945 - val_accuracy: 0.9768\n",
      "Epoch 10/10\n",
      "1688/1688 [==============================] - 23s 14ms/step - loss: 0.5970 - accuracy: 0.7873 - val_loss: 0.0826 - val_accuracy: 0.9805\n",
      "\n",
      "\n",
      " ========= Evaluation (Loss, Accuracy) ========= \n",
      "313/313 [==============================] - 2s 7ms/step - loss: 0.0792 - accuracy: 0.9810\n",
      "\n",
      "\n",
      "------- Initial filters: =  32  -------\n",
      "Epoch 1/10\n",
      "1688/1688 [==============================] - 25s 15ms/step - loss: 1.5391 - accuracy: 0.4513 - val_loss: 0.3248 - val_accuracy: 0.9180\n",
      "Epoch 2/10\n",
      "1688/1688 [==============================] - 25s 15ms/step - loss: 0.5532 - accuracy: 0.8258 - val_loss: 0.1478 - val_accuracy: 0.9628\n",
      "Epoch 3/10\n",
      "1688/1688 [==============================] - 25s 15ms/step - loss: 0.3817 - accuracy: 0.8852 - val_loss: 0.1137 - val_accuracy: 0.9713\n",
      "Epoch 4/10\n",
      "1688/1688 [==============================] - 25s 15ms/step - loss: 0.3048 - accuracy: 0.9104 - val_loss: 0.1005 - val_accuracy: 0.9737\n",
      "Epoch 5/10\n",
      "1688/1688 [==============================] - 25s 15ms/step - loss: 0.2558 - accuracy: 0.9233 - val_loss: 0.0948 - val_accuracy: 0.9762\n",
      "Epoch 6/10\n",
      "1688/1688 [==============================] - 25s 15ms/step - loss: 0.2249 - accuracy: 0.9329 - val_loss: 0.0791 - val_accuracy: 0.9813\n",
      "Epoch 7/10\n",
      "1688/1688 [==============================] - 25s 15ms/step - loss: 0.2015 - accuracy: 0.9403 - val_loss: 0.0705 - val_accuracy: 0.9817\n",
      "Epoch 8/10\n",
      "1688/1688 [==============================] - 25s 15ms/step - loss: 0.1855 - accuracy: 0.9449 - val_loss: 0.0630 - val_accuracy: 0.9837\n",
      "Epoch 9/10\n",
      "1688/1688 [==============================] - 25s 15ms/step - loss: 0.1751 - accuracy: 0.9467 - val_loss: 0.0597 - val_accuracy: 0.9850\n",
      "Epoch 10/10\n",
      "1688/1688 [==============================] - 25s 15ms/step - loss: 0.1603 - accuracy: 0.9503 - val_loss: 0.0625 - val_accuracy: 0.9853\n",
      "\n",
      "\n",
      " ========= Evaluation (Loss, Accuracy) ========= \n",
      "313/313 [==============================] - 2s 7ms/step - loss: 0.0458 - accuracy: 0.9890\n",
      "\n",
      "\n",
      "------- Initial filters: =  64  -------\n",
      "Epoch 1/10\n",
      "1688/1688 [==============================] - 28s 17ms/step - loss: 1.2746 - accuracy: 0.5603 - val_loss: 0.1927 - val_accuracy: 0.9462\n",
      "Epoch 2/10\n",
      "1688/1688 [==============================] - 28s 17ms/step - loss: 0.2943 - accuracy: 0.9141 - val_loss: 0.1084 - val_accuracy: 0.9658\n",
      "Epoch 3/10\n",
      "1688/1688 [==============================] - 28s 17ms/step - loss: 0.1845 - accuracy: 0.9504 - val_loss: 0.0845 - val_accuracy: 0.9737\n",
      "Epoch 4/10\n",
      "1688/1688 [==============================] - 28s 17ms/step - loss: 0.1419 - accuracy: 0.9627 - val_loss: 0.0738 - val_accuracy: 0.9777\n",
      "Epoch 5/10\n",
      "1688/1688 [==============================] - 29s 17ms/step - loss: 0.1138 - accuracy: 0.9703 - val_loss: 0.0781 - val_accuracy: 0.9782\n",
      "Epoch 6/10\n",
      "1688/1688 [==============================] - 29s 17ms/step - loss: 0.0980 - accuracy: 0.9755 - val_loss: 0.0479 - val_accuracy: 0.9843\n",
      "Epoch 7/10\n",
      "1688/1688 [==============================] - 29s 17ms/step - loss: 0.0860 - accuracy: 0.9783 - val_loss: 0.0511 - val_accuracy: 0.9862\n",
      "Epoch 8/10\n",
      "1688/1688 [==============================] - 28s 17ms/step - loss: 0.0742 - accuracy: 0.9810 - val_loss: 0.0434 - val_accuracy: 0.9877\n",
      "Epoch 9/10\n",
      "1688/1688 [==============================] - 28s 17ms/step - loss: 0.0666 - accuracy: 0.9833 - val_loss: 0.0402 - val_accuracy: 0.9885\n",
      "Epoch 10/10\n",
      "1688/1688 [==============================] - 28s 17ms/step - loss: 0.0577 - accuracy: 0.9854 - val_loss: 0.0500 - val_accuracy: 0.9872\n",
      "\n",
      "\n",
      " ========= Evaluation (Loss, Accuracy) ========= \n",
      "313/313 [==============================] - 3s 9ms/step - loss: 0.0344 - accuracy: 0.9916\n",
      "\n",
      "\n",
      "------- Initial filters: =  128  -------\n",
      "Epoch 1/10\n",
      "1688/1688 [==============================] - 52s 31ms/step - loss: 1.0345 - accuracy: 0.6552 - val_loss: 0.3376 - val_accuracy: 0.8943\n",
      "Epoch 2/10\n",
      "1688/1688 [==============================] - 52s 31ms/step - loss: 0.2029 - accuracy: 0.9438 - val_loss: 0.0987 - val_accuracy: 0.9690\n",
      "Epoch 3/10\n",
      "1688/1688 [==============================] - 52s 31ms/step - loss: 0.1351 - accuracy: 0.9636 - val_loss: 0.0811 - val_accuracy: 0.9753\n",
      "Epoch 4/10\n",
      "1688/1688 [==============================] - 52s 31ms/step - loss: 0.1001 - accuracy: 0.9727 - val_loss: 0.0610 - val_accuracy: 0.9807\n",
      "Epoch 5/10\n",
      "1688/1688 [==============================] - 52s 31ms/step - loss: 0.0818 - accuracy: 0.9783 - val_loss: 0.0566 - val_accuracy: 0.9820\n",
      "Epoch 6/10\n",
      "1688/1688 [==============================] - 52s 31ms/step - loss: 0.0697 - accuracy: 0.9815 - val_loss: 0.0921 - val_accuracy: 0.9758\n",
      "Epoch 7/10\n",
      "1688/1688 [==============================] - 52s 31ms/step - loss: 0.0573 - accuracy: 0.9850 - val_loss: 0.0529 - val_accuracy: 0.9858\n",
      "Epoch 8/10\n",
      "1688/1688 [==============================] - 52s 31ms/step - loss: 0.0539 - accuracy: 0.9860 - val_loss: 0.0501 - val_accuracy: 0.9842\n",
      "Epoch 9/10\n",
      "1688/1688 [==============================] - 52s 31ms/step - loss: 0.0469 - accuracy: 0.9873 - val_loss: 0.0439 - val_accuracy: 0.9892\n",
      "Epoch 10/10\n",
      "1688/1688 [==============================] - 52s 31ms/step - loss: 0.0416 - accuracy: 0.9889 - val_loss: 0.0427 - val_accuracy: 0.9885\n",
      "\n",
      "\n",
      " ========= Evaluation (Loss, Accuracy) ========= \n",
      "313/313 [==============================] - 3s 11ms/step - loss: 0.0286 - accuracy: 0.9916\n"
     ]
    }
   ],
   "source": [
    "for filter in (16, 32, 64, 128):\n",
    "    print('\\n\\n------- Initial filters: = ', filter, ' -------')\n",
    "    filter_cnn_model = filter_model(filter)\n",
    "    doExperiment(filter_cnn_model, mnist, plot_hist=False)"
   ]
  },
  {
   "cell_type": "markdown",
   "metadata": {
    "tags": []
   },
   "source": [
    "#### max_pooling size"
   ]
  },
  {
   "cell_type": "code",
   "execution_count": 21,
   "metadata": {},
   "outputs": [
    {
     "name": "stdout",
     "output_type": "stream",
     "text": [
      "\n",
      "\n",
      "------- Pooling Size: =  0  -------\n",
      "Epoch 1/10\n",
      "1688/1688 [==============================] - 558s 331ms/step - loss: 0.8117 - accuracy: 0.7331 - val_loss: 0.1315 - val_accuracy: 0.9650\n",
      "Epoch 2/10\n",
      "1688/1688 [==============================] - 557s 330ms/step - loss: 0.2489 - accuracy: 0.9319 - val_loss: 0.0883 - val_accuracy: 0.9753\n",
      "Epoch 3/10\n",
      "1688/1688 [==============================] - 556s 329ms/step - loss: 0.1735 - accuracy: 0.9539 - val_loss: 0.0616 - val_accuracy: 0.9827\n",
      "Epoch 4/10\n",
      " 897/1688 [==============>...............] - ETA: 3:58 - loss: 0.1433 - accuracy: 0.9627"
     ]
    },
    {
     "ename": "KeyboardInterrupt",
     "evalue": "",
     "output_type": "error",
     "traceback": [
      "\u001b[0;31m---------------------------------------------------------------------------\u001b[0m",
      "\u001b[0;31mKeyboardInterrupt\u001b[0m                         Traceback (most recent call last)",
      "\u001b[0;32m<ipython-input-21-d71a5ac53999>\u001b[0m in \u001b[0;36m<module>\u001b[0;34m\u001b[0m\n\u001b[1;32m     37\u001b[0m           ])\n\u001b[1;32m     38\u001b[0m \u001b[0;34m\u001b[0m\u001b[0m\n\u001b[0;32m---> 39\u001b[0;31m     \u001b[0mdoExperiment\u001b[0m\u001b[0;34m(\u001b[0m\u001b[0mpool_cnn_model\u001b[0m\u001b[0;34m,\u001b[0m \u001b[0mmnist\u001b[0m\u001b[0;34m,\u001b[0m \u001b[0mplot_hist\u001b[0m\u001b[0;34m=\u001b[0m\u001b[0;32mFalse\u001b[0m\u001b[0;34m)\u001b[0m\u001b[0;34m\u001b[0m\u001b[0;34m\u001b[0m\u001b[0m\n\u001b[0m",
      "\u001b[0;32m<ipython-input-6-56f21a2d6322>\u001b[0m in \u001b[0;36mdoExperiment\u001b[0;34m(model, dataset, plot_hist, optim)\u001b[0m\n\u001b[1;32m      2\u001b[0m   \u001b[0mX_train\u001b[0m\u001b[0;34m,\u001b[0m \u001b[0my_train\u001b[0m\u001b[0;34m,\u001b[0m \u001b[0mX_test\u001b[0m\u001b[0;34m,\u001b[0m \u001b[0my_test\u001b[0m\u001b[0;34m,\u001b[0m \u001b[0mX_valid\u001b[0m\u001b[0;34m,\u001b[0m \u001b[0my_valid\u001b[0m \u001b[0;34m=\u001b[0m \u001b[0msplitData\u001b[0m\u001b[0;34m(\u001b[0m\u001b[0mdataset\u001b[0m\u001b[0;34m)\u001b[0m\u001b[0;34m\u001b[0m\u001b[0;34m\u001b[0m\u001b[0m\n\u001b[1;32m      3\u001b[0m   \u001b[0;31m# print(\"--- Training Model ...\")\u001b[0m\u001b[0;34m\u001b[0m\u001b[0;34m\u001b[0m\u001b[0m\n\u001b[0;32m----> 4\u001b[0;31m   \u001b[0mhistory\u001b[0m \u001b[0;34m=\u001b[0m \u001b[0mtrainModel\u001b[0m\u001b[0;34m(\u001b[0m\u001b[0mmodel\u001b[0m\u001b[0;34m,\u001b[0m \u001b[0mX_train\u001b[0m\u001b[0;34m,\u001b[0m \u001b[0my_train\u001b[0m\u001b[0;34m,\u001b[0m \u001b[0mX_valid\u001b[0m\u001b[0;34m,\u001b[0m \u001b[0my_valid\u001b[0m\u001b[0;34m)\u001b[0m\u001b[0;34m\u001b[0m\u001b[0;34m\u001b[0m\u001b[0m\n\u001b[0m\u001b[1;32m      5\u001b[0m   \u001b[0;32mif\u001b[0m \u001b[0mplot_hist\u001b[0m \u001b[0;34m==\u001b[0m \u001b[0;32mTrue\u001b[0m\u001b[0;34m:\u001b[0m\u001b[0;34m\u001b[0m\u001b[0;34m\u001b[0m\u001b[0m\n\u001b[1;32m      6\u001b[0m     \u001b[0mprint\u001b[0m\u001b[0;34m(\u001b[0m\u001b[0;34m\"\\n\\n ========= History =========\"\u001b[0m\u001b[0;34m)\u001b[0m\u001b[0;34m\u001b[0m\u001b[0;34m\u001b[0m\u001b[0m\n",
      "\u001b[0;32m<ipython-input-4-d1ab2f2a2509>\u001b[0m in \u001b[0;36mtrainModel\u001b[0;34m(model, X_train, y_train, X_valid, y_valid, optim)\u001b[0m\n\u001b[1;32m      5\u001b[0m \u001b[0;34m\u001b[0m\u001b[0m\n\u001b[1;32m      6\u001b[0m     \u001b[0;31m#track epoch loss history\u001b[0m\u001b[0;34m\u001b[0m\u001b[0;34m\u001b[0m\u001b[0m\n\u001b[0;32m----> 7\u001b[0;31m     history = model.fit(X_train, y_train, epochs=epochs,\n\u001b[0m\u001b[1;32m      8\u001b[0m                         validation_data=(X_valid, y_valid))\n\u001b[1;32m      9\u001b[0m \u001b[0;34m\u001b[0m\u001b[0m\n",
      "\u001b[0;32m/opt/homebrew/Caskroom/miniforge/base/envs/tensorflow/lib/python3.9/site-packages/tensorflow/python/keras/engine/training.py\u001b[0m in \u001b[0;36mfit\u001b[0;34m(self, x, y, batch_size, epochs, verbose, callbacks, validation_split, validation_data, shuffle, class_weight, sample_weight, initial_epoch, steps_per_epoch, validation_steps, validation_batch_size, validation_freq, max_queue_size, workers, use_multiprocessing)\u001b[0m\n\u001b[1;32m   1181\u001b[0m                 _r=1):\n\u001b[1;32m   1182\u001b[0m               \u001b[0mcallbacks\u001b[0m\u001b[0;34m.\u001b[0m\u001b[0mon_train_batch_begin\u001b[0m\u001b[0;34m(\u001b[0m\u001b[0mstep\u001b[0m\u001b[0;34m)\u001b[0m\u001b[0;34m\u001b[0m\u001b[0;34m\u001b[0m\u001b[0m\n\u001b[0;32m-> 1183\u001b[0;31m               \u001b[0mtmp_logs\u001b[0m \u001b[0;34m=\u001b[0m \u001b[0mself\u001b[0m\u001b[0;34m.\u001b[0m\u001b[0mtrain_function\u001b[0m\u001b[0;34m(\u001b[0m\u001b[0miterator\u001b[0m\u001b[0;34m)\u001b[0m\u001b[0;34m\u001b[0m\u001b[0;34m\u001b[0m\u001b[0m\n\u001b[0m\u001b[1;32m   1184\u001b[0m               \u001b[0;32mif\u001b[0m \u001b[0mdata_handler\u001b[0m\u001b[0;34m.\u001b[0m\u001b[0mshould_sync\u001b[0m\u001b[0;34m:\u001b[0m\u001b[0;34m\u001b[0m\u001b[0;34m\u001b[0m\u001b[0m\n\u001b[1;32m   1185\u001b[0m                 \u001b[0mcontext\u001b[0m\u001b[0;34m.\u001b[0m\u001b[0masync_wait\u001b[0m\u001b[0;34m(\u001b[0m\u001b[0;34m)\u001b[0m\u001b[0;34m\u001b[0m\u001b[0;34m\u001b[0m\u001b[0m\n",
      "\u001b[0;32m/opt/homebrew/Caskroom/miniforge/base/envs/tensorflow/lib/python3.9/site-packages/tensorflow/python/eager/def_function.py\u001b[0m in \u001b[0;36m__call__\u001b[0;34m(self, *args, **kwds)\u001b[0m\n\u001b[1;32m    887\u001b[0m \u001b[0;34m\u001b[0m\u001b[0m\n\u001b[1;32m    888\u001b[0m       \u001b[0;32mwith\u001b[0m \u001b[0mOptionalXlaContext\u001b[0m\u001b[0;34m(\u001b[0m\u001b[0mself\u001b[0m\u001b[0;34m.\u001b[0m\u001b[0m_jit_compile\u001b[0m\u001b[0;34m)\u001b[0m\u001b[0;34m:\u001b[0m\u001b[0;34m\u001b[0m\u001b[0;34m\u001b[0m\u001b[0m\n\u001b[0;32m--> 889\u001b[0;31m         \u001b[0mresult\u001b[0m \u001b[0;34m=\u001b[0m \u001b[0mself\u001b[0m\u001b[0;34m.\u001b[0m\u001b[0m_call\u001b[0m\u001b[0;34m(\u001b[0m\u001b[0;34m*\u001b[0m\u001b[0margs\u001b[0m\u001b[0;34m,\u001b[0m \u001b[0;34m**\u001b[0m\u001b[0mkwds\u001b[0m\u001b[0;34m)\u001b[0m\u001b[0;34m\u001b[0m\u001b[0;34m\u001b[0m\u001b[0m\n\u001b[0m\u001b[1;32m    890\u001b[0m \u001b[0;34m\u001b[0m\u001b[0m\n\u001b[1;32m    891\u001b[0m       \u001b[0mnew_tracing_count\u001b[0m \u001b[0;34m=\u001b[0m \u001b[0mself\u001b[0m\u001b[0;34m.\u001b[0m\u001b[0mexperimental_get_tracing_count\u001b[0m\u001b[0;34m(\u001b[0m\u001b[0;34m)\u001b[0m\u001b[0;34m\u001b[0m\u001b[0;34m\u001b[0m\u001b[0m\n",
      "\u001b[0;32m/opt/homebrew/Caskroom/miniforge/base/envs/tensorflow/lib/python3.9/site-packages/tensorflow/python/eager/def_function.py\u001b[0m in \u001b[0;36m_call\u001b[0;34m(self, *args, **kwds)\u001b[0m\n\u001b[1;32m    915\u001b[0m       \u001b[0;31m# In this case we have created variables on the first call, so we run the\u001b[0m\u001b[0;34m\u001b[0m\u001b[0;34m\u001b[0m\u001b[0m\n\u001b[1;32m    916\u001b[0m       \u001b[0;31m# defunned version which is guaranteed to never create variables.\u001b[0m\u001b[0;34m\u001b[0m\u001b[0;34m\u001b[0m\u001b[0m\n\u001b[0;32m--> 917\u001b[0;31m       \u001b[0;32mreturn\u001b[0m \u001b[0mself\u001b[0m\u001b[0;34m.\u001b[0m\u001b[0m_stateless_fn\u001b[0m\u001b[0;34m(\u001b[0m\u001b[0;34m*\u001b[0m\u001b[0margs\u001b[0m\u001b[0;34m,\u001b[0m \u001b[0;34m**\u001b[0m\u001b[0mkwds\u001b[0m\u001b[0;34m)\u001b[0m  \u001b[0;31m# pylint: disable=not-callable\u001b[0m\u001b[0;34m\u001b[0m\u001b[0;34m\u001b[0m\u001b[0m\n\u001b[0m\u001b[1;32m    918\u001b[0m     \u001b[0;32melif\u001b[0m \u001b[0mself\u001b[0m\u001b[0;34m.\u001b[0m\u001b[0m_stateful_fn\u001b[0m \u001b[0;32mis\u001b[0m \u001b[0;32mnot\u001b[0m \u001b[0;32mNone\u001b[0m\u001b[0;34m:\u001b[0m\u001b[0;34m\u001b[0m\u001b[0;34m\u001b[0m\u001b[0m\n\u001b[1;32m    919\u001b[0m       \u001b[0;31m# Release the lock early so that multiple threads can perform the call\u001b[0m\u001b[0;34m\u001b[0m\u001b[0;34m\u001b[0m\u001b[0m\n",
      "\u001b[0;32m/opt/homebrew/Caskroom/miniforge/base/envs/tensorflow/lib/python3.9/site-packages/tensorflow/python/eager/function.py\u001b[0m in \u001b[0;36m__call__\u001b[0;34m(self, *args, **kwargs)\u001b[0m\n\u001b[1;32m   3021\u001b[0m       (graph_function,\n\u001b[1;32m   3022\u001b[0m        filtered_flat_args) = self._maybe_define_function(args, kwargs)\n\u001b[0;32m-> 3023\u001b[0;31m     return graph_function._call_flat(\n\u001b[0m\u001b[1;32m   3024\u001b[0m         filtered_flat_args, captured_inputs=graph_function.captured_inputs)  # pylint: disable=protected-access\n\u001b[1;32m   3025\u001b[0m \u001b[0;34m\u001b[0m\u001b[0m\n",
      "\u001b[0;32m/opt/homebrew/Caskroom/miniforge/base/envs/tensorflow/lib/python3.9/site-packages/tensorflow/python/eager/function.py\u001b[0m in \u001b[0;36m_call_flat\u001b[0;34m(self, args, captured_inputs, cancellation_manager)\u001b[0m\n\u001b[1;32m   1958\u001b[0m         and executing_eagerly):\n\u001b[1;32m   1959\u001b[0m       \u001b[0;31m# No tape is watching; skip to running the function.\u001b[0m\u001b[0;34m\u001b[0m\u001b[0;34m\u001b[0m\u001b[0m\n\u001b[0;32m-> 1960\u001b[0;31m       return self._build_call_outputs(self._inference_function.call(\n\u001b[0m\u001b[1;32m   1961\u001b[0m           ctx, args, cancellation_manager=cancellation_manager))\n\u001b[1;32m   1962\u001b[0m     forward_backward = self._select_forward_and_backward_functions(\n",
      "\u001b[0;32m/opt/homebrew/Caskroom/miniforge/base/envs/tensorflow/lib/python3.9/site-packages/tensorflow/python/eager/function.py\u001b[0m in \u001b[0;36mcall\u001b[0;34m(self, ctx, args, cancellation_manager)\u001b[0m\n\u001b[1;32m    589\u001b[0m       \u001b[0;32mwith\u001b[0m \u001b[0m_InterpolateFunctionError\u001b[0m\u001b[0;34m(\u001b[0m\u001b[0mself\u001b[0m\u001b[0;34m)\u001b[0m\u001b[0;34m:\u001b[0m\u001b[0;34m\u001b[0m\u001b[0;34m\u001b[0m\u001b[0m\n\u001b[1;32m    590\u001b[0m         \u001b[0;32mif\u001b[0m \u001b[0mcancellation_manager\u001b[0m \u001b[0;32mis\u001b[0m \u001b[0;32mNone\u001b[0m\u001b[0;34m:\u001b[0m\u001b[0;34m\u001b[0m\u001b[0;34m\u001b[0m\u001b[0m\n\u001b[0;32m--> 591\u001b[0;31m           outputs = execute.execute(\n\u001b[0m\u001b[1;32m    592\u001b[0m               \u001b[0mstr\u001b[0m\u001b[0;34m(\u001b[0m\u001b[0mself\u001b[0m\u001b[0;34m.\u001b[0m\u001b[0msignature\u001b[0m\u001b[0;34m.\u001b[0m\u001b[0mname\u001b[0m\u001b[0;34m)\u001b[0m\u001b[0;34m,\u001b[0m\u001b[0;34m\u001b[0m\u001b[0;34m\u001b[0m\u001b[0m\n\u001b[1;32m    593\u001b[0m               \u001b[0mnum_outputs\u001b[0m\u001b[0;34m=\u001b[0m\u001b[0mself\u001b[0m\u001b[0;34m.\u001b[0m\u001b[0m_num_outputs\u001b[0m\u001b[0;34m,\u001b[0m\u001b[0;34m\u001b[0m\u001b[0;34m\u001b[0m\u001b[0m\n",
      "\u001b[0;32m/opt/homebrew/Caskroom/miniforge/base/envs/tensorflow/lib/python3.9/site-packages/tensorflow/python/eager/execute.py\u001b[0m in \u001b[0;36mquick_execute\u001b[0;34m(op_name, num_outputs, inputs, attrs, ctx, name)\u001b[0m\n\u001b[1;32m     57\u001b[0m   \u001b[0;32mtry\u001b[0m\u001b[0;34m:\u001b[0m\u001b[0;34m\u001b[0m\u001b[0;34m\u001b[0m\u001b[0m\n\u001b[1;32m     58\u001b[0m     \u001b[0mctx\u001b[0m\u001b[0;34m.\u001b[0m\u001b[0mensure_initialized\u001b[0m\u001b[0;34m(\u001b[0m\u001b[0;34m)\u001b[0m\u001b[0;34m\u001b[0m\u001b[0;34m\u001b[0m\u001b[0m\n\u001b[0;32m---> 59\u001b[0;31m     tensors = pywrap_tfe.TFE_Py_Execute(ctx._handle, device_name, op_name,\n\u001b[0m\u001b[1;32m     60\u001b[0m                                         inputs, attrs, num_outputs)\n\u001b[1;32m     61\u001b[0m   \u001b[0;32mexcept\u001b[0m \u001b[0mcore\u001b[0m\u001b[0;34m.\u001b[0m\u001b[0m_NotOkStatusException\u001b[0m \u001b[0;32mas\u001b[0m \u001b[0me\u001b[0m\u001b[0;34m:\u001b[0m\u001b[0;34m\u001b[0m\u001b[0;34m\u001b[0m\u001b[0m\n",
      "\u001b[0;31mKeyboardInterrupt\u001b[0m: "
     ]
    }
   ],
   "source": [
    "for max_pooling_size in [0,1,2,3]:\n",
    "#for max_pooling_size in [3]: # initial experiment stopped before finishing\n",
    "    print('\\n\\n------- Pooling Size: = ', max_pooling_size, ' -------')\n",
    "    \n",
    "    DefaultConv2D = partial(keras.layers.Conv2D, kernel_size=3, activation='relu', padding=\"SAME\")\n",
    "    if not max_pooling_size == 0:\n",
    "      pool_cnn_model = keras.models.Sequential([\n",
    "          DefaultConv2D(filters=64, kernel_size=7, input_shape=[28, 28, 1]),\n",
    "          \n",
    "          keras.layers.MaxPooling2D(pool_size=max_pooling_size),\n",
    "          DefaultConv2D(filters=128),\n",
    "          DefaultConv2D(filters=128),\n",
    "          keras.layers.MaxPooling2D(pool_size=max_pooling_size),\n",
    "          DefaultConv2D(filters=256),\n",
    "          DefaultConv2D(filters=256),\n",
    "          keras.layers.MaxPooling2D(pool_size=max_pooling_size),\n",
    "          keras.layers.Flatten(),\n",
    "          keras.layers.Dense(units=128, activation='relu'),\n",
    "          keras.layers.Dropout(0.5),\n",
    "          keras.layers.Dense(units=64, activation='relu'),\n",
    "          keras.layers.Dropout(0.5),\n",
    "          keras.layers.Dense(units=10, activation='softmax'),\n",
    "          ])\n",
    "    else:\n",
    "      pool_cnn_model = keras.models.Sequential([\n",
    "          DefaultConv2D(filters=64, kernel_size=7, input_shape=[28, 28, 1]),\n",
    "          DefaultConv2D(filters=128),\n",
    "          DefaultConv2D(filters=128),\n",
    "          DefaultConv2D(filters=256),\n",
    "          DefaultConv2D(filters=256),\n",
    "          keras.layers.Flatten(),\n",
    "          keras.layers.Dense(units=128, activation='relu'),\n",
    "          keras.layers.Dropout(0.5),\n",
    "          keras.layers.Dense(units=64, activation='relu'),\n",
    "          keras.layers.Dropout(0.5),\n",
    "          keras.layers.Dense(units=10, activation='softmax'),\n",
    "          ])\n",
    "    \n",
    "    doExperiment(pool_cnn_model, mnist, plot_hist=False)"
   ]
  },
  {
   "cell_type": "markdown",
   "metadata": {},
   "source": [
    "#### layers"
   ]
  },
  {
   "cell_type": "code",
   "execution_count": null,
   "metadata": {},
   "outputs": [
    {
     "name": "stdout",
     "output_type": "stream",
     "text": [
      "Epoch 1/5\n",
      "1688/1688 [==============================] - 22s 13ms/step - loss: 0.6453 - accuracy: 0.7976 - val_loss: 0.1679 - val_accuracy: 0.9457\n",
      "Epoch 2/5\n",
      "1688/1688 [==============================] - 21s 13ms/step - loss: 0.2319 - accuracy: 0.9329 - val_loss: 0.1175 - val_accuracy: 0.9623\n",
      "Epoch 3/5\n",
      "1688/1688 [==============================] - 21s 13ms/step - loss: 0.1623 - accuracy: 0.9534 - val_loss: 0.0797 - val_accuracy: 0.9752\n",
      "Epoch 4/5\n",
      "1688/1688 [==============================] - 21s 12ms/step - loss: 0.1311 - accuracy: 0.9617 - val_loss: 0.0726 - val_accuracy: 0.9773\n",
      "Epoch 5/5\n",
      "1688/1688 [==============================] - 21s 13ms/step - loss: 0.1116 - accuracy: 0.9672 - val_loss: 0.0573 - val_accuracy: 0.9812\n",
      "\n",
      "\n",
      " ========= Evaluation (Loss, Accuracy) ========= \n",
      "313/313 [==============================] - 3s 10ms/step - loss: 0.0496 - accuracy: 0.9840\n"
     ]
    },
    {
     "data": {
      "text/plain": [
       "[0.04957155883312225, 0.984000027179718]"
      ]
     },
     "execution_count": 9,
     "metadata": {},
     "output_type": "execute_result"
    }
   ],
   "source": [
    "# single pooling and dense\n",
    "\n",
    "DefaultConv2D = partial(keras.layers.Conv2D, kernel_size=3, activation='relu', padding=\"SAME\")\n",
    "\n",
    "layer1_cnn_model = keras.models.Sequential([\n",
    "DefaultConv2D(filters=64, kernel_size=7, input_shape=[28, 28, 1]),\n",
    "keras.layers.MaxPooling2D(pool_size=2),\n",
    "DefaultConv2D(filters=128),\n",
    "DefaultConv2D(filters=128),\n",
    "keras.layers.Flatten(),\n",
    "keras.layers.Dense(units=64, activation='relu'),\n",
    "keras.layers.Dropout(0.5),\n",
    "keras.layers.Dense(units=10, activation='softmax'),\n",
    "])\n",
    "\n",
    "doExperiment(layer1_cnn_model, mnist, plot_hist=False)"
   ]
  },
  {
   "cell_type": "code",
   "execution_count": 10,
   "metadata": {},
   "outputs": [],
   "source": [
    "# 3 pooling, 2 dense\n",
    "    # this was done in mnist experiment"
   ]
  },
  {
   "cell_type": "code",
   "execution_count": null,
   "metadata": {},
   "outputs": [
    {
     "name": "stdout",
     "output_type": "stream",
     "text": [
      "Epoch 1/5\n",
      "1688/1688 [==============================] - 23s 14ms/step - loss: 1.6884 - accuracy: 0.3946 - val_loss: 0.5394 - val_accuracy: 0.8940\n",
      "Epoch 2/5\n",
      "1688/1688 [==============================] - 23s 13ms/step - loss: 0.7514 - accuracy: 0.7607 - val_loss: 0.2118 - val_accuracy: 0.9507\n",
      "Epoch 3/5\n",
      "1688/1688 [==============================] - 23s 14ms/step - loss: 0.4712 - accuracy: 0.8624 - val_loss: 0.1626 - val_accuracy: 0.9585\n",
      "Epoch 4/5\n",
      "1688/1688 [==============================] - 23s 14ms/step - loss: 0.3543 - accuracy: 0.9004 - val_loss: 0.0929 - val_accuracy: 0.9765\n",
      "Epoch 5/5\n",
      "1688/1688 [==============================] - 23s 14ms/step - loss: 0.2882 - accuracy: 0.9204 - val_loss: 0.0792 - val_accuracy: 0.9803\n",
      "\n",
      "\n",
      " ========= Evaluation (Loss, Accuracy) ========= \n",
      "313/313 [==============================] - 3s 10ms/step - loss: 0.0732 - accuracy: 0.9818\n"
     ]
    },
    {
     "data": {
      "text/plain": [
       "[0.07322327792644501, 0.9818000197410583]"
      ]
     },
     "execution_count": 11,
     "metadata": {},
     "output_type": "execute_result"
    }
   ],
   "source": [
    "# 1 pooling, 3 dense\n",
    "\n",
    "# DefaultConv2D = partial(keras.layers.Conv2D, kernel_size=3, activation='relu', padding=\"SAME\")\n",
    "\n",
    "layer2_cnn_model = keras.models.Sequential([\n",
    "DefaultConv2D(filters=64, kernel_size=7, input_shape=[28, 28, 1]),\n",
    "    keras.layers.MaxPooling2D(pool_size=2),\n",
    "    DefaultConv2D(filters=128),\n",
    "    DefaultConv2D(filters=128),\n",
    "    keras.layers.Flatten(),\n",
    "    keras.layers.Dense(units=64, activation='relu'),\n",
    "    keras.layers.Dropout(0.5),\n",
    "    keras.layers.Dense(units=64, activation='relu'),\n",
    "    keras.layers.Dropout(0.5),\n",
    "    keras.layers.Dense(units=64, activation='relu'),\n",
    "    keras.layers.Dropout(0.5),\n",
    "    keras.layers.Dense(units=10, activation='softmax'),\n",
    "])\n",
    "\n",
    "doExperiment(layer2_cnn_model, mnist, plot_hist=False)"
   ]
  },
  {
   "cell_type": "code",
   "execution_count": null,
   "metadata": {},
   "outputs": [
    {
     "name": "stdout",
     "output_type": "stream",
     "text": [
      "Epoch 1/5\n",
      "1688/1688 [==============================] - 32s 19ms/step - loss: 1.0596 - accuracy: 0.6537 - val_loss: 0.1758 - val_accuracy: 0.9472\n",
      "Epoch 2/5\n",
      "1688/1688 [==============================] - 31s 19ms/step - loss: 0.1672 - accuracy: 0.9506 - val_loss: 0.0956 - val_accuracy: 0.9722\n",
      "Epoch 3/5\n",
      "1688/1688 [==============================] - 32s 19ms/step - loss: 0.1065 - accuracy: 0.9682 - val_loss: 0.0689 - val_accuracy: 0.9775\n",
      "Epoch 4/5\n",
      "1688/1688 [==============================] - 32s 19ms/step - loss: 0.0775 - accuracy: 0.9775 - val_loss: 0.0667 - val_accuracy: 0.9802\n",
      "Epoch 5/5\n",
      "1688/1688 [==============================] - 32s 19ms/step - loss: 0.0619 - accuracy: 0.9818 - val_loss: 0.0474 - val_accuracy: 0.9860\n",
      "\n",
      "\n",
      " ========= Evaluation (Loss, Accuracy) ========= \n",
      "313/313 [==============================] - 3s 9ms/step - loss: 0.0403 - accuracy: 0.9861\n"
     ]
    },
    {
     "data": {
      "text/plain": [
       "[0.04034010320901871, 0.9861000180244446]"
      ]
     },
     "execution_count": 10,
     "metadata": {},
     "output_type": "execute_result"
    }
   ],
   "source": [
    "# 4 pooling 1 dense\n",
    "\n",
    "# DefaultConv2D = partial(keras.layers.Conv2D, kernel_size=3, activation='relu', padding=\"SAME\")\n",
    "\n",
    "layer3_cnn_model = keras.models.Sequential([\n",
    "DefaultConv2D(filters=64, kernel_size=7, input_shape=[28, 28, 1]),\n",
    "    keras.layers.MaxPooling2D(pool_size=2),\n",
    "    DefaultConv2D(filters=128),\n",
    "    DefaultConv2D(filters=128),\n",
    "    keras.layers.MaxPooling2D(pool_size=2),\n",
    "    DefaultConv2D(filters=256),\n",
    "    DefaultConv2D(filters=256),\n",
    "    keras.layers.MaxPooling2D(pool_size=2),\n",
    "    DefaultConv2D(filters=512),\n",
    "    DefaultConv2D(filters=512),\n",
    "    keras.layers.MaxPooling2D(pool_size=2),\n",
    "    keras.layers.Flatten(),\n",
    "    keras.layers.Dense(units=128, activation='relu'),\n",
    "    keras.layers.Dropout(0.5),\n",
    "    keras.layers.Dense(units=10, activation='softmax'),\n",
    "])\n",
    "\n",
    "doExperiment(layer3_cnn_model, mnist, plot_hist=False)"
   ]
  },
  {
   "cell_type": "code",
   "execution_count": null,
   "metadata": {},
   "outputs": [],
   "source": []
  }
 ],
 "metadata": {
  "interpreter": {
   "hash": "4bd624a0593993fe43ac4046b27b898fb2ef75c21c08f81e89e64ea0f51df676"
  },
  "kernelspec": {
   "display_name": "Python 3 (tensorflow)",
   "language": "python",
   "name": "python3"
  },
  "language_info": {
   "codemirror_mode": {
    "name": "ipython",
    "version": 3
   },
   "file_extension": ".py",
   "mimetype": "text/x-python",
   "name": "python",
   "nbconvert_exporter": "python",
   "pygments_lexer": "ipython3",
   "version": "3.9.7"
  }
 },
 "nbformat": 4,
 "nbformat_minor": 4
}
