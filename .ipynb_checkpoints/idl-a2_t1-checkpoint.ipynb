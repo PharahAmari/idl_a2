{
 "cells": [
  {
   "cell_type": "markdown",
   "metadata": {},
   "source": [
    "## Import libraries"
   ]
  },
  {
   "cell_type": "code",
   "execution_count": 1,
   "metadata": {},
   "outputs": [],
   "source": [
    "#from __future__ import print_function\n",
    "\n",
    "import tensorflow as tf\n",
    "import keras\n",
    "from keras.datasets import mnist, fashion_mnist\n",
    "from keras.models import Sequential\n",
    "from keras.layers import Dense, Dropout\n",
    "from keras.optimizers import RMSprop\n",
    "from sklearn.model_selection import train_test_split\n",
    "import numpy as np\n",
    "import matplotlib.pyplot as plt\n",
    "import seaborn as sns\n",
    "import pandas as pd\n",
    "from functools import partial"
   ]
  },
  {
   "cell_type": "markdown",
   "metadata": {},
   "source": [
    "## Define initial variables"
   ]
  },
  {
   "cell_type": "code",
   "execution_count": 2,
   "metadata": {},
   "outputs": [],
   "source": [
    "num_classes = 10 #defined from datasets\n",
    "epochs = 10\n",
    "validation_size = 0.1"
   ]
  },
  {
   "cell_type": "markdown",
   "metadata": {},
   "source": [
    "## Create functions"
   ]
  },
  {
   "cell_type": "markdown",
   "metadata": {},
   "source": [
    "### Train test split"
   ]
  },
  {
   "cell_type": "code",
   "execution_count": 3,
   "metadata": {},
   "outputs": [],
   "source": [
    "def split_train_test_valid(dataset, verbose=False, rand_permute=False):\n",
    "  (X_train, y_train), (X_test, y_test) = dataset.load_data()\n",
    "  if rand_permute:\n",
    "    if verbose:\n",
    "      print(\"Creating random permutation\")\n",
    "    # I have checked the permuted and non permuted datasets with the same\n",
    "    # randomstate and the columns are correctly permuted, i.e. the values\n",
    "    # from the rows in the columns match\n",
    "    X = np.concatenate((X_train.reshape(X_train.shape[0], 784), X_test.reshape(X_test.shape[0], 784)))\n",
    "    X = np.random.permutation(X.T)\n",
    "    X_train = X.T[:X_train.shape[0]]\n",
    "    X_test = X.T[-X_test.shape[0]:]\n",
    "    X_train = X_train.reshape(X_train.shape[0], 28,28)\n",
    "    X_test = X_test.reshape(X_test.shape[0], 28,28)\n",
    "\n",
    "  X_train, X_valid, y_train, y_valid = train_test_split(X_train, y_train, test_size=validation_size)#, random_state=1)\n",
    "\n",
    "  X_train = X_train.reshape(int(60000 * (1.0 - validation_size)), 28, 28, 1)\n",
    "  X_test = X_test.reshape(10000, 28, 28, 1)\n",
    "  X_valid = X_valid.reshape(int(60000 * validation_size), 28, 28, 1)\n",
    "\n",
    "  X_train = X_train.astype('float32')\n",
    "  X_test = X_test.astype('float32')\n",
    "  X_valid = X_valid.astype('float32')\n",
    "\n",
    "  X_train /= 255\n",
    "  X_test /= 255\n",
    "  X_valid /= 255\n",
    "\n",
    "  # convert class vectors to binary class matrices\n",
    "  y_train = keras.utils.to_categorical(y_train, num_classes)\n",
    "  y_test = keras.utils.to_categorical(y_test, num_classes)\n",
    "  y_valid = keras.utils.to_categorical(y_valid, num_classes)\n",
    "  \n",
    "  if verbose:\n",
    "    print(X_train.shape, 'train samples')\n",
    "    print(X_test.shape, 'test samples')\n",
    "    print(X_valid.shape, 'validation samples')\n",
    "\n",
    "    print(y_train.shape, 'train labels')\n",
    "    print(y_test.shape, 'test labels')\n",
    "    print(y_valid.shape, 'validation labels')\n",
    "\n",
    "  return X_train, y_train, X_test, y_test, X_valid, y_valid"
   ]
  },
  {
   "cell_type": "markdown",
   "metadata": {},
   "source": [
    "### Train model"
   ]
  },
  {
   "cell_type": "code",
   "execution_count": 4,
   "metadata": {},
   "outputs": [],
   "source": [
    "def trainModel(model, X_train, y_train, X_valid, y_valid, verbose):\n",
    "  model.compile(loss=\"categorical_crossentropy\",\n",
    "    optimizer=\"sgd\",\n",
    "    metrics=[\"accuracy\"])\n",
    "  #track epoch loss history\n",
    "  if not verbose:\n",
    "    history = model.fit(X_train, y_train, epochs=epochs,verbose = 0,\n",
    "                        validation_data=(X_valid, y_valid))\n",
    "  else:\n",
    "    history = model.fit(X_train, y_train, epochs=epochs,\n",
    "                        validation_data=(X_valid, y_valid))\n",
    "  return history"
   ]
  },
  {
   "cell_type": "markdown",
   "metadata": {},
   "source": [
    "### Plot loss over epochs"
   ]
  },
  {
   "cell_type": "code",
   "execution_count": 5,
   "metadata": {},
   "outputs": [],
   "source": [
    "def pltHistory(history):\n",
    "  pd.DataFrame(history.history).plot(figsize=(8, 5))\n",
    "  plt.grid(True)\n",
    "  plt.gca().set_ylim(0, 1) # set the vertical range to [0-1]\n",
    "  plt.show()"
   ]
  },
  {
   "cell_type": "markdown",
   "metadata": {},
   "source": [
    "### Execute experiments for a given model and dataset"
   ]
  },
  {
   "cell_type": "code",
   "execution_count": 6,
   "metadata": {},
   "outputs": [],
   "source": [
    "def doExperiment(model, dataset, verbose=False, rand_permute=False, plot_hist=True):\n",
    "  X_train, y_train, X_test, y_test, X_valid, y_valid = split_train_test_valid(dataset, verbose, rand_permute)\n",
    "  print(\"--- Training Model ...\")\n",
    "  history = trainModel(model, X_train, y_train, X_valid, y_valid, verbose)\n",
    "  if plot_hist == True:\n",
    "    print(\"--- History:\")\n",
    "    pltHistory(history)\n",
    "    print(\"--- Evaluation:\")\n",
    "  return model.evaluate(X_test, y_test)"
   ]
  },
  {
   "cell_type": "markdown",
   "metadata": {},
   "source": [
    "## MLP Experiments"
   ]
  },
  {
   "cell_type": "code",
   "execution_count": 7,
   "metadata": {},
   "outputs": [],
   "source": [
    "mlp_model = keras.models.Sequential([\n",
    "  keras.layers.Flatten(input_shape=[28, 28, 1]),\n",
    "  keras.layers.Dense(300, activation=\"relu\"),\n",
    "  keras.layers.Dense(100, activation=\"relu\"),\n",
    "  keras.layers.Dense(10, activation=\"softmax\")\n",
    "])"
   ]
  },
  {
   "cell_type": "markdown",
   "metadata": {},
   "source": [
    "### mnist dataset"
   ]
  },
  {
   "cell_type": "code",
   "execution_count": 8,
   "metadata": {},
   "outputs": [
    {
     "name": "stdout",
     "output_type": "stream",
     "text": [
      "Creating random permutation\n",
      "(54000, 28, 28, 1) train samples\n",
      "(10000, 28, 28, 1) test samples\n",
      "(6000, 28, 28, 1) validation samples\n",
      "(54000, 10) train labels\n",
      "(10000, 10) test labels\n",
      "(6000, 10) validation labels\n",
      "--- Training Model ...\n",
      "Epoch 1/10\n",
      "1688/1688 [==============================] - 5s 3ms/step - loss: 1.0392 - accuracy: 0.7329 - val_loss: 0.3285 - val_accuracy: 0.9070\n",
      "Epoch 2/10\n",
      "1688/1688 [==============================] - 4s 2ms/step - loss: 0.3093 - accuracy: 0.9135 - val_loss: 0.2566 - val_accuracy: 0.9250\n",
      "Epoch 3/10\n",
      "1688/1688 [==============================] - 4s 2ms/step - loss: 0.2424 - accuracy: 0.9318 - val_loss: 0.2124 - val_accuracy: 0.9402\n",
      "Epoch 4/10\n",
      "1688/1688 [==============================] - 4s 2ms/step - loss: 0.2055 - accuracy: 0.9417 - val_loss: 0.1864 - val_accuracy: 0.9442\n",
      "Epoch 5/10\n",
      "1688/1688 [==============================] - 4s 2ms/step - loss: 0.1754 - accuracy: 0.9488 - val_loss: 0.1676 - val_accuracy: 0.9515\n",
      "Epoch 6/10\n",
      "1688/1688 [==============================] - 4s 2ms/step - loss: 0.1547 - accuracy: 0.9556 - val_loss: 0.1555 - val_accuracy: 0.9557\n",
      "Epoch 7/10\n",
      "1688/1688 [==============================] - 4s 2ms/step - loss: 0.1387 - accuracy: 0.9600 - val_loss: 0.1428 - val_accuracy: 0.9585\n",
      "Epoch 8/10\n",
      "1688/1688 [==============================] - 4s 2ms/step - loss: 0.1273 - accuracy: 0.9639 - val_loss: 0.1337 - val_accuracy: 0.9612\n",
      "Epoch 9/10\n",
      "1688/1688 [==============================] - 4s 2ms/step - loss: 0.1132 - accuracy: 0.9686 - val_loss: 0.1260 - val_accuracy: 0.9632\n",
      "Epoch 10/10\n",
      "1688/1688 [==============================] - 5s 3ms/step - loss: 0.1067 - accuracy: 0.9704 - val_loss: 0.1143 - val_accuracy: 0.9667\n",
      "--- History:\n"
     ]
    },
    {
     "data": {
      "image/png": "[encoded data removed]",
      "text/plain": [
       "<Figure size 576x360 with 1 Axes>"
      ]
     },
     "metadata": {
      "needs_background": "light"
     },
     "output_type": "display_data"
    },
    {
     "name": "stdout",
     "output_type": "stream",
     "text": [
      "--- Evaluation:\n",
      "313/313 [==============================] - 0s 1ms/step - loss: 0.1091 - accuracy: 0.9668\n"
     ]
    },
    {
     "data": {
      "text/plain": [
       "[0.10908708721399307, 0.9667999744415283]"
      ]
     },
     "execution_count": 8,
     "metadata": {},
     "output_type": "execute_result"
    }
   ],
   "source": [
    "doExperiment(mlp_model, mnist, verbose=True, rand_permute=True, plot_hist=True)"
   ]
  },
  {
   "cell_type": "markdown",
   "metadata": {},
   "source": [
    "### fashion_mnist dataset"
   ]
  },
  {
   "cell_type": "code",
   "execution_count": 9,
   "metadata": {},
   "outputs": [
    {
     "name": "stdout",
     "output_type": "stream",
     "text": [
      "Creating random permutation\n",
      "(54000, 28, 28, 1) train samples\n",
      "(10000, 28, 28, 1) test samples\n",
      "(6000, 28, 28, 1) validation samples\n",
      "(54000, 10) train labels\n",
      "(10000, 10) test labels\n",
      "(6000, 10) validation labels\n",
      "--- Training Model ...\n",
      "Epoch 1/10\n",
      "1688/1688 [==============================] - 6s 3ms/step - loss: 0.7685 - accuracy: 0.7418 - val_loss: 0.4829 - val_accuracy: 0.8258\n",
      "Epoch 2/10\n",
      "1688/1688 [==============================] - 4s 2ms/step - loss: 0.4592 - accuracy: 0.8374 - val_loss: 0.4293 - val_accuracy: 0.8485\n",
      "Epoch 3/10\n",
      "1688/1688 [==============================] - 4s 2ms/step - loss: 0.4112 - accuracy: 0.8535 - val_loss: 0.4202 - val_accuracy: 0.8542\n",
      "Epoch 4/10\n",
      "1688/1688 [==============================] - 4s 2ms/step - loss: 0.3803 - accuracy: 0.8646 - val_loss: 0.4095 - val_accuracy: 0.8543\n",
      "Epoch 5/10\n",
      "1688/1688 [==============================] - 3s 2ms/step - loss: 0.3634 - accuracy: 0.8701 - val_loss: 0.3684 - val_accuracy: 0.8682\n",
      "Epoch 6/10\n",
      "1688/1688 [==============================] - 3s 2ms/step - loss: 0.3466 - accuracy: 0.8755 - val_loss: 0.3603 - val_accuracy: 0.8732\n",
      "Epoch 7/10\n",
      "1688/1688 [==============================] - 4s 2ms/step - loss: 0.3351 - accuracy: 0.8815 - val_loss: 0.3485 - val_accuracy: 0.8773\n",
      "Epoch 8/10\n",
      "1688/1688 [==============================] - 4s 2ms/step - loss: 0.3230 - accuracy: 0.8827 - val_loss: 0.3380 - val_accuracy: 0.8838\n",
      "Epoch 9/10\n",
      "1688/1688 [==============================] - 5s 3ms/step - loss: 0.3116 - accuracy: 0.8881 - val_loss: 0.3321 - val_accuracy: 0.8840\n",
      "Epoch 10/10\n",
      "1688/1688 [==============================] - 4s 2ms/step - loss: 0.2965 - accuracy: 0.8914 - val_loss: 0.4105 - val_accuracy: 0.8537\n",
      "--- History:\n"
     ]
    },
    {
     "data": {
      "image/png": "[encoded data removed]",
      "text/plain": [
       "<Figure size 576x360 with 1 Axes>"
      ]
     },
     "metadata": {
      "needs_background": "light"
     },
     "output_type": "display_data"
    },
    {
     "name": "stdout",
     "output_type": "stream",
     "text": [
      "--- Evaluation:\n",
      "313/313 [==============================] - 0s 1ms/step - loss: 0.4429 - accuracy: 0.8429\n"
     ]
    },
    {
     "data": {
      "text/plain": [
       "[0.44285160303115845, 0.8428999781608582]"
      ]
     },
     "execution_count": 9,
     "metadata": {},
     "output_type": "execute_result"
    }
   ],
   "source": [
    "doExperiment(mlp_model, fashion_mnist, verbose=True, rand_permute=True, plot_hist=True)"
   ]
  },
  {
   "cell_type": "markdown",
   "metadata": {},
   "source": [
    "### MLP settings experiments"
   ]
  },
  {
   "cell_type": "markdown",
   "metadata": {},
   "source": [
    "layers"
   ]
  },
  {
   "cell_type": "code",
   "execution_count": 10,
   "metadata": {},
   "outputs": [
    {
     "name": "stdout",
     "output_type": "stream",
     "text": [
      "--- Training Model ...\n",
      "313/313 [==============================] - 0s 862us/step - loss: 0.4900 - accuracy: 0.8312\n",
      "--- Training Model ...\n",
      "313/313 [==============================] - 0s 971us/step - loss: 0.4175 - accuracy: 0.8550\n",
      "--- Training Model ...\n",
      "313/313 [==============================] - 0s 1ms/step - loss: 0.4157 - accuracy: 0.8541\n",
      "--- Training Model ...\n",
      "313/313 [==============================] - 0s 1ms/step - loss: 0.4280 - accuracy: 0.8498\n",
      "--- Training Model ...\n",
      "313/313 [==============================] - 0s 1ms/step - loss: 0.4349 - accuracy: 0.8484\n",
      "--- Training Model ...\n",
      "313/313 [==============================] - 0s 1ms/step - loss: 0.3910 - accuracy: 0.8587\n",
      "--- Training Model ...\n",
      "313/313 [==============================] - 0s 1ms/step - loss: 0.4018 - accuracy: 0.8523\n",
      "--- Training Model ...\n",
      "313/313 [==============================] - 0s 1ms/step - loss: 0.4019 - accuracy: 0.8585\n",
      "--- Training Model ...\n",
      "313/313 [==============================] - 1s 2ms/step - loss: 0.4150 - accuracy: 0.8532\n",
      "--- Training Model ...\n",
      "313/313 [==============================] - 0s 1ms/step - loss: 0.3814 - accuracy: 0.8607\n",
      "--- Training Model ...\n",
      "313/313 [==============================] - 0s 1ms/step - loss: 0.3856 - accuracy: 0.8626\n",
      "--- Training Model ...\n",
      "313/313 [==============================] - 0s 1ms/step - loss: 0.3883 - accuracy: 0.8621\n",
      "--- Training Model ...\n",
      "313/313 [==============================] - 0s 1ms/step - loss: 0.4131 - accuracy: 0.8557\n",
      "--- Training Model ...\n",
      "313/313 [==============================] - 0s 1ms/step - loss: 0.3866 - accuracy: 0.8623\n",
      "--- Training Model ...\n",
      "313/313 [==============================] - 0s 1ms/step - loss: 0.3875 - accuracy: 0.8611\n",
      "--- Training Model ...\n",
      "313/313 [==============================] - 0s 1ms/step - loss: 0.3817 - accuracy: 0.8630\n",
      "--- Training Model ...\n",
      "313/313 [==============================] - 0s 1ms/step - loss: 0.4499 - accuracy: 0.8413\n",
      "--- Training Model ...\n",
      "313/313 [==============================] - 0s 1ms/step - loss: 0.3893 - accuracy: 0.8633\n",
      "--- Training Model ...\n",
      "313/313 [==============================] - 0s 1ms/step - loss: 0.3990 - accuracy: 0.8582\n",
      "--- Training Model ...\n",
      "313/313 [==============================] - 0s 1ms/step - loss: 0.4192 - accuracy: 0.8485\n",
      "--- Training Model ...\n",
      "313/313 [==============================] - 0s 1ms/step - loss: 0.4052 - accuracy: 0.8567\n",
      "--- Training Model ...\n",
      "313/313 [==============================] - 0s 1ms/step - loss: 0.3751 - accuracy: 0.8654\n",
      "--- Training Model ...\n",
      "313/313 [==============================] - 0s 1ms/step - loss: 0.3854 - accuracy: 0.8630\n",
      "--- Training Model ...\n",
      "313/313 [==============================] - 0s 1ms/step - loss: 0.3913 - accuracy: 0.8594\n",
      "--- Training Model ...\n",
      "313/313 [==============================] - 0s 1ms/step - loss: 0.4114 - accuracy: 0.8528\n",
      "--- Training Model ...\n",
      "313/313 [==============================] - 0s 1ms/step - loss: 0.3881 - accuracy: 0.8604\n",
      "--- Training Model ...\n",
      "313/313 [==============================] - 0s 1ms/step - loss: 0.3937 - accuracy: 0.8588\n",
      "--- Training Model ...\n",
      "313/313 [==============================] - 0s 1ms/step - loss: 0.3820 - accuracy: 0.8642\n",
      "--- Training Model ...\n",
      "313/313 [==============================] - 0s 1ms/step - loss: 0.3956 - accuracy: 0.8585\n",
      "--- Training Model ...\n",
      "313/313 [==============================] - 0s 1ms/step - loss: 0.3846 - accuracy: 0.8603\n",
      "--- Training Model ...\n",
      "313/313 [==============================] - 0s 1ms/step - loss: 0.3873 - accuracy: 0.8617\n",
      "--- Training Model ...\n",
      "313/313 [==============================] - 0s 1ms/step - loss: 0.3895 - accuracy: 0.8575\n",
      "--- Training Model ...\n",
      "313/313 [==============================] - 0s 1ms/step - loss: 0.4150 - accuracy: 0.8524\n",
      "--- Training Model ...\n",
      "313/313 [==============================] - 0s 1ms/step - loss: 0.3839 - accuracy: 0.8649\n",
      "--- Training Model ...\n",
      "313/313 [==============================] - 0s 1ms/step - loss: 0.3787 - accuracy: 0.8661\n",
      "--- Training Model ...\n",
      "313/313 [==============================] - 0s 1ms/step - loss: 0.3773 - accuracy: 0.8639\n",
      "--- Training Model ...\n",
      "313/313 [==============================] - 0s 1ms/step - loss: 0.3889 - accuracy: 0.8633\n",
      "--- Training Model ...\n",
      "313/313 [==============================] - 0s 1ms/step - loss: 0.3813 - accuracy: 0.8575\n",
      "--- Training Model ...\n",
      "313/313 [==============================] - 0s 1ms/step - loss: 0.3780 - accuracy: 0.8645\n",
      "--- Training Model ...\n",
      "313/313 [==============================] - 0s 1ms/step - loss: 0.3721 - accuracy: 0.8657\n",
      "--- Training Model ...\n",
      "313/313 [==============================] - 0s 1ms/step - loss: 0.3828 - accuracy: 0.8643\n",
      "--- Training Model ...\n",
      "313/313 [==============================] - 0s 1ms/step - loss: 0.3864 - accuracy: 0.8616\n",
      "--- Training Model ...\n",
      "313/313 [==============================] - 0s 1ms/step - loss: 0.3696 - accuracy: 0.8632\n",
      "--- Training Model ...\n",
      "313/313 [==============================] - 0s 1ms/step - loss: 0.3699 - accuracy: 0.8635\n",
      "--- Training Model ...\n",
      "313/313 [==============================] - 0s 1ms/step - loss: 0.3976 - accuracy: 0.8553\n",
      "--- Training Model ...\n",
      "313/313 [==============================] - 0s 1ms/step - loss: 0.3751 - accuracy: 0.8667\n",
      "--- Training Model ...\n",
      "313/313 [==============================] - 0s 1ms/step - loss: 0.3814 - accuracy: 0.8578\n",
      "--- Training Model ...\n",
      "313/313 [==============================] - 1s 2ms/step - loss: 0.3738 - accuracy: 0.8627\n",
      "--- Training Model ...\n",
      "313/313 [==============================] - 1s 2ms/step - loss: 0.4185 - accuracy: 0.8493\n",
      "--- Training Model ...\n",
      "313/313 [==============================] - 0s 1ms/step - loss: 0.3768 - accuracy: 0.8674\n",
      "--- Training Model ...\n",
      "313/313 [==============================] - 0s 1ms/step - loss: 0.3846 - accuracy: 0.8618\n",
      "--- Training Model ...\n",
      "313/313 [==============================] - 0s 2ms/step - loss: 0.3952 - accuracy: 0.8568\n",
      "--- Training Model ...\n",
      "313/313 [==============================] - 0s 1ms/step - loss: 0.3798 - accuracy: 0.8660\n",
      "--- Training Model ...\n",
      "313/313 [==============================] - 1s 2ms/step - loss: 0.3601 - accuracy: 0.8700\n",
      "--- Training Model ...\n",
      "313/313 [==============================] - 0s 1ms/step - loss: 0.3689 - accuracy: 0.8673\n",
      "--- Training Model ...\n",
      "313/313 [==============================] - 0s 1ms/step - loss: 0.3755 - accuracy: 0.8630\n",
      "--- Training Model ...\n",
      "313/313 [==============================] - 0s 1ms/step - loss: 0.3889 - accuracy: 0.8618\n",
      "--- Training Model ...\n",
      "313/313 [==============================] - 0s 1ms/step - loss: 0.3644 - accuracy: 0.8682\n",
      "--- Training Model ...\n",
      "313/313 [==============================] - 0s 1ms/step - loss: 0.3739 - accuracy: 0.8654\n",
      "--- Training Model ...\n",
      "313/313 [==============================] - 0s 1ms/step - loss: 0.3587 - accuracy: 0.8678\n",
      "--- Training Model ...\n",
      "313/313 [==============================] - 0s 1ms/step - loss: 0.3874 - accuracy: 0.8619\n",
      "--- Training Model ...\n",
      "313/313 [==============================] - 1s 4ms/step - loss: 0.3588 - accuracy: 0.8727\n",
      "--- Training Model ...\n",
      "313/313 [==============================] - 1s 2ms/step - loss: 0.3662 - accuracy: 0.8669\n",
      "--- Training Model ...\n",
      "313/313 [==============================] - 1s 2ms/step - loss: 0.3713 - accuracy: 0.8652\n"
     ]
    }
   ],
   "source": [
    "mlp_scores = {}\n",
    "for l1 in range(0,301, 100): \n",
    "  for l2 in range(0,301,100):\n",
    "    for l3 in range(0,301, 100):\n",
    "      mlp_model = keras.models.Sequential([keras.layers.Flatten(input_shape=[28, 28, 1])])\n",
    "      if not l1 == 0: \n",
    "        mlp_model.add(keras.layers.Dense(l1, activation=\"relu\"))\n",
    "      if not l2 == 0: \n",
    "        mlp_model.add(keras.layers.Dense(l2, activation=\"relu\"))\n",
    "      if not l3 == 0: \n",
    "        mlp_model.add(keras.layers.Dense(l3, activation=\"relu\"))\n",
    "      mlp_model.add(keras.layers.Dense(10, activation=\"softmax\"))\n",
    "      #print(mlp_model.summary())\n",
    "      score = doExperiment(mlp_model, fashion_mnist, verbose=False, plot_hist=False)\n",
    "      mlp_scores[l1,l2,l3] = score\n",
    "      #print(f'layer one {l1} layer two {l2} layer three {l3}  with a score of loss {score[0]} and accuracy {score[1]}')"
   ]
  },
  {
   "cell_type": "code",
   "execution_count": 11,
   "metadata": {},
   "outputs": [
    {
     "name": "stdout",
     "output_type": "stream",
     "text": [
      "0.8600666721661886\n"
     ]
    }
   ],
   "source": [
    "# average Performance\n",
    "avg = 0\n",
    "c=0\n",
    "for k,v in mlp_scores.items():\n",
    "  if not k[0] == 0 and not k[1] == 0 and k[2] == 0:\n",
    "    c+=1\n",
    "    avg += v[1]\n",
    "print(avg/c)"
   ]
  },
  {
   "cell_type": "code",
   "execution_count": 12,
   "metadata": {},
   "outputs": [
    {
     "data": {
      "text/plain": [
       "64"
      ]
     },
     "execution_count": 12,
     "metadata": {},
     "output_type": "execute_result"
    }
   ],
   "source": [
    "len(mlp_scores)"
   ]
  },
  {
   "cell_type": "code",
   "execution_count": 14,
   "metadata": {},
   "outputs": [],
   "source": [
    "#HeatMap Creation\n",
    "mlp_scores2d = pd.DataFrame(columns = ['Layer One', 'Layer Two', 'Accuracy'])\n",
    "for k,v in mlp_scores.items():\n",
    "  if k[2]== 0 :\n",
    "    mlp_scores2d = mlp_scores2d.append({'Layer One': k[0], 'Layer Two':k[1], 'Accuracy':v[1]}, ignore_index = True)"
   ]
  },
  {
   "cell_type": "code",
   "execution_count": 15,
   "metadata": {},
   "outputs": [
    {
     "data": {
      "image/png": "[encoded data removed]",
      "text/plain": [
       "<Figure size 432x288 with 2 Axes>"
      ]
     },
     "metadata": {
      "needs_background": "light"
     },
     "output_type": "display_data"
    }
   ],
   "source": [
    "heatmapdf = mlp_scores2d.set_index(['Layer One','Layer Two'])\n",
    "heatmapdf = heatmapdf.unstack(level=0)\n",
    "ax = sns.heatmap(heatmapdf, annot=True)"
   ]
  },
  {
   "cell_type": "markdown",
   "metadata": {},
   "source": [
    "optimizer"
   ]
  },
  {
   "cell_type": "code",
   "execution_count": 35,
   "metadata": {},
   "outputs": [],
   "source": [
    "def trainModel(model, X_train, y_train, X_valid, y_valid, verbose, optim):\n",
    "  model.compile(loss=\"categorical_crossentropy\",\n",
    "    optimizer=optim,\n",
    "    metrics=[\"accuracy\"])\n",
    "  #track epoch loss history\n",
    "  if not verbose:\n",
    "    history = model.fit(X_train, y_train, epochs=epochs,verbose = 0,\n",
    "                        validation_data=(X_valid, y_valid))\n",
    "  else:\n",
    "    history = model.fit(X_train, y_train, epochs=epochs,\n",
    "                        validation_data=(X_valid, y_valid))\n",
    "  return history"
   ]
  },
  {
   "cell_type": "code",
   "execution_count": 36,
   "metadata": {},
   "outputs": [],
   "source": [
    "def doExperiment(model, dataset, optim, verbose=False, rand_permute=False, plot_hist=True):\n",
    "  X_train, y_train, X_test, y_test, X_valid, y_valid = split_train_test_valid(dataset, verbose, rand_permute)\n",
    "  print(\"--- Training Model ...\")\n",
    "  history = trainModel(model, X_train, y_train, X_valid, y_valid, verbose, optim)\n",
    "  if plot_hist == True:\n",
    "    print(\"--- History:\")\n",
    "    pltHistory(history)\n",
    "    print(\"--- Evaluation:\")\n",
    "  return model.evaluate(X_test, y_test)"
   ]
  },
  {
   "cell_type": "code",
   "execution_count": 37,
   "metadata": {},
   "outputs": [
    {
     "name": "stdout",
     "output_type": "stream",
     "text": [
      "-------  sgd  -------\n",
      "--- Training Model ...\n",
      "313/313 [==============================] - 1s 2ms/step - loss: 0.3260 - accuracy: 0.8808\n"
     ]
    },
    {
     "data": {
      "text/plain": [
       "[0.3260074555873871, 0.8808000087738037]"
      ]
     },
     "execution_count": 37,
     "metadata": {},
     "output_type": "execute_result"
    },
    {
     "name": "stdout",
     "output_type": "stream",
     "text": [
      "-------  Adam  -------\n",
      "--- Training Model ...\n",
      "313/313 [==============================] - 1s 3ms/step - loss: 0.3397 - accuracy: 0.8861\n"
     ]
    },
    {
     "data": {
      "text/plain": [
       "[0.3397250771522522, 0.8860999941825867]"
      ]
     },
     "execution_count": 37,
     "metadata": {},
     "output_type": "execute_result"
    },
    {
     "name": "stdout",
     "output_type": "stream",
     "text": [
      "-------  RMSprop  -------\n",
      "--- Training Model ...\n",
      "313/313 [==============================] - 1s 2ms/step - loss: 0.7364 - accuracy: 0.8659\n"
     ]
    },
    {
     "data": {
      "text/plain": [
       "[0.7363842725753784, 0.8658999800682068]"
      ]
     },
     "execution_count": 37,
     "metadata": {},
     "output_type": "execute_result"
    },
    {
     "name": "stdout",
     "output_type": "stream",
     "text": [
      "-------  Adamax  -------\n",
      "--- Training Model ...\n",
      "313/313 [==============================] - 1s 2ms/step - loss: 0.5542 - accuracy: 0.8912\n"
     ]
    },
    {
     "data": {
      "text/plain": [
       "[0.5542365312576294, 0.8912000060081482]"
      ]
     },
     "execution_count": 37,
     "metadata": {},
     "output_type": "execute_result"
    }
   ],
   "source": [
    "# mnist\n",
    "optims = ['sgd', 'Adam', 'RMSprop', 'Adamax']\n",
    "\n",
    "for optim in optims:\n",
    "    print('------- ', optim, ' -------')\n",
    "    doExperiment(mlp_model, fashion_mnist, verbose=False, plot_hist=False, optim=optim)"
   ]
  },
  {
   "cell_type": "code",
   "execution_count": 26,
   "metadata": {},
   "outputs": [
    {
     "name": "stdout",
     "output_type": "stream",
     "text": [
      "-------  sgd  -------\n",
      "--- Training Model ...\n",
      "313/313 [==============================] - 0s 1ms/step - loss: 0.3513 - accuracy: 0.9014\n"
     ]
    },
    {
     "data": {
      "text/plain": [
       "[0.35131603479385376, 0.9014000296592712]"
      ]
     },
     "execution_count": 26,
     "metadata": {},
     "output_type": "execute_result"
    },
    {
     "name": "stdout",
     "output_type": "stream",
     "text": [
      "-------  Adam  -------\n",
      "--- Training Model ...\n",
      "313/313 [==============================] - 1s 2ms/step - loss: 0.4026 - accuracy: 0.8939\n"
     ]
    },
    {
     "data": {
      "text/plain": [
       "[0.40260404348373413, 0.8938999772071838]"
      ]
     },
     "execution_count": 26,
     "metadata": {},
     "output_type": "execute_result"
    },
    {
     "name": "stdout",
     "output_type": "stream",
     "text": [
      "-------  RMSprop  -------\n",
      "--- Training Model ...\n",
      "313/313 [==============================] - 0s 1ms/step - loss: 0.7783 - accuracy: 0.8773\n"
     ]
    },
    {
     "data": {
      "text/plain": [
       "[0.7783331274986267, 0.8773000240325928]"
      ]
     },
     "execution_count": 26,
     "metadata": {},
     "output_type": "execute_result"
    },
    {
     "name": "stdout",
     "output_type": "stream",
     "text": [
      "-------  Adamax  -------\n",
      "--- Training Model ...\n",
      "313/313 [==============================] - 0s 1ms/step - loss: 0.7429 - accuracy: 0.8926\n"
     ]
    },
    {
     "data": {
      "text/plain": [
       "[0.7428655028343201, 0.8925999999046326]"
      ]
     },
     "execution_count": 26,
     "metadata": {},
     "output_type": "execute_result"
    }
   ],
   "source": [
    "# fmnist\n",
    "optims = ['sgd', 'Adam', 'RMSprop', 'Adamax']\n",
    "\n",
    "for optim in optims:\n",
    "    print('------- ', optim, ' -------')\n",
    "    doExperiment(mlp_model, fashion_mnist, verbose=False, plot_hist=False, optim=optim)"
   ]
  },
  {
   "cell_type": "code",
   "execution_count": 12,
   "metadata": {},
   "outputs": [],
   "source": [
    "def trainModel(model, X_train, y_train, X_valid, y_valid, verbose):\n",
    "  model.compile(loss=\"categorical_crossentropy\",\n",
    "    optimizer=\"adam\",\n",
    "    metrics=[\"accuracy\"])\n",
    "  #track epoch loss history\n",
    "  if not verbose:\n",
    "    history = model.fit(X_train, y_train, epochs=epochs,verbose = 0,\n",
    "                        validation_data=(X_valid, y_valid))\n",
    "  else:\n",
    "    history = model.fit(X_train, y_train, epochs=epochs,\n",
    "                        validation_data=(X_valid, y_valid))\n",
    "  return history"
   ]
  },
  {
   "cell_type": "code",
   "execution_count": 13,
   "metadata": {},
   "outputs": [
    {
     "name": "stdout",
     "output_type": "stream",
     "text": [
      "--- Training Model ...\n",
      "313/313 [==============================] - 0s 1ms/step - loss: 0.3718 - accuracy: 0.8862\n"
     ]
    },
    {
     "data": {
      "text/plain": [
       "[0.3717677593231201, 0.8862000107765198]"
      ]
     },
     "execution_count": 13,
     "metadata": {},
     "output_type": "execute_result"
    }
   ],
   "source": [
    "doExperiment(mlp_model, fashion_mnist, verbose=False, plot_hist=False)"
   ]
  },
  {
   "cell_type": "markdown",
   "metadata": {},
   "source": [
    "## CNN Experiments"
   ]
  },
  {
   "cell_type": "code",
   "execution_count": 17,
   "metadata": {},
   "outputs": [],
   "source": [
    "DefaultConv2D = partial(keras.layers.Conv2D, kernel_size=3, activation='relu', padding=\"SAME\")\n",
    "\n",
    "cnn_model = keras.models.Sequential([\n",
    "DefaultConv2D(filters=64, kernel_size=7, input_shape=[28, 28, 1]),\n",
    "keras.layers.MaxPooling2D(pool_size=2),\n",
    "DefaultConv2D(filters=128),\n",
    "DefaultConv2D(filters=128),\n",
    "keras.layers.MaxPooling2D(pool_size=2),\n",
    "DefaultConv2D(filters=256),\n",
    "DefaultConv2D(filters=256),\n",
    "keras.layers.MaxPooling2D(pool_size=2),\n",
    "keras.layers.Flatten(),\n",
    "keras.layers.Dense(units=128, activation='relu'),\n",
    "keras.layers.Dropout(0.5),\n",
    "keras.layers.Dense(units=64, activation='relu'),\n",
    "keras.layers.Dropout(0.5),\n",
    "keras.layers.Dense(units=10, activation='softmax'),\n",
    "])\n"
   ]
  },
  {
   "cell_type": "markdown",
   "metadata": {},
   "source": [
    "### mnist"
   ]
  },
  {
   "cell_type": "code",
   "execution_count": 18,
   "metadata": {},
   "outputs": [
    {
     "name": "stdout",
     "output_type": "stream",
     "text": [
      "--- Splitting Data ...\n",
      "(54000, 28, 28, 1) train samples\n",
      "(10000, 28, 28, 1) test samples\n",
      "(6000, 28, 28, 1) validation samples\n",
      "(54000, 10) train labels\n",
      "(10000, 10) test labels\n",
      "(6000, 10) validation labels\n",
      "--- Training Model ...\n",
      "Epoch 1/30\n",
      "1688/1688 [==============================] - 532s 315ms/step - loss: 1.8601 - accuracy: 0.3392 - val_loss: 0.1632 - val_accuracy: 0.9508\n",
      "Epoch 2/30\n",
      "1688/1688 [==============================] - 417s 247ms/step - loss: 0.3465 - accuracy: 0.8987 - val_loss: 0.0848 - val_accuracy: 0.9745\n",
      "Epoch 3/30\n",
      "1688/1688 [==============================] - 358s 212ms/step - loss: 0.2017 - accuracy: 0.9457 - val_loss: 0.0640 - val_accuracy: 0.9822\n",
      "Epoch 4/30\n",
      "1688/1688 [==============================] - 346s 205ms/step - loss: 0.1420 - accuracy: 0.9629 - val_loss: 0.0561 - val_accuracy: 0.9852\n",
      "Epoch 5/30\n",
      "1688/1688 [==============================] - 321s 190ms/step - loss: 0.1189 - accuracy: 0.9703 - val_loss: 0.0449 - val_accuracy: 0.9877\n",
      "Epoch 6/30\n",
      "1688/1688 [==============================] - 321s 190ms/step - loss: 0.0969 - accuracy: 0.9758 - val_loss: 0.0445 - val_accuracy: 0.9885\n",
      "Epoch 7/30\n",
      "1688/1688 [==============================] - 324s 192ms/step - loss: 0.0889 - accuracy: 0.9783 - val_loss: 0.0377 - val_accuracy: 0.9903\n",
      "Epoch 8/30\n",
      "1688/1688 [==============================] - 320s 190ms/step - loss: 0.0789 - accuracy: 0.9807 - val_loss: 0.0509 - val_accuracy: 0.9878\n",
      "Epoch 9/30\n",
      "1688/1688 [==============================] - 321s 190ms/step - loss: 0.0652 - accuracy: 0.9826 - val_loss: 0.0347 - val_accuracy: 0.9903\n",
      "Epoch 10/30\n",
      "1688/1688 [==============================] - 325s 193ms/step - loss: 0.0590 - accuracy: 0.9851 - val_loss: 0.0386 - val_accuracy: 0.9910\n",
      "Epoch 11/30\n",
      "1688/1688 [==============================] - 332s 197ms/step - loss: 0.0505 - accuracy: 0.9869 - val_loss: 0.0353 - val_accuracy: 0.9913\n",
      "Epoch 12/30\n",
      "1688/1688 [==============================] - 327s 194ms/step - loss: 0.0517 - accuracy: 0.9872 - val_loss: 0.0361 - val_accuracy: 0.9925\n",
      "Epoch 13/30\n",
      "1688/1688 [==============================] - 327s 194ms/step - loss: 0.0439 - accuracy: 0.9890 - val_loss: 0.0385 - val_accuracy: 0.9930\n",
      "Epoch 14/30\n",
      "1688/1688 [==============================] - 332s 197ms/step - loss: 0.0396 - accuracy: 0.9899 - val_loss: 0.0418 - val_accuracy: 0.9900\n",
      "Epoch 15/30\n",
      "1688/1688 [==============================] - 324s 192ms/step - loss: 0.0408 - accuracy: 0.9896 - val_loss: 0.0302 - val_accuracy: 0.9927\n",
      "Epoch 16/30\n",
      "1688/1688 [==============================] - 323s 191ms/step - loss: 0.0361 - accuracy: 0.9914 - val_loss: 0.0324 - val_accuracy: 0.9925\n",
      "Epoch 17/30\n",
      "1688/1688 [==============================] - 323s 191ms/step - loss: 0.0290 - accuracy: 0.9927 - val_loss: 0.0374 - val_accuracy: 0.9917\n",
      "Epoch 18/30\n",
      "1688/1688 [==============================] - 322s 191ms/step - loss: 0.0340 - accuracy: 0.9911 - val_loss: 0.0363 - val_accuracy: 0.9927\n",
      "Epoch 19/30\n",
      "1688/1688 [==============================] - 324s 192ms/step - loss: 0.0269 - accuracy: 0.9921 - val_loss: 0.0318 - val_accuracy: 0.9920\n",
      "Epoch 20/30\n",
      "1688/1688 [==============================] - 322s 191ms/step - loss: 0.0305 - accuracy: 0.9924 - val_loss: 0.0298 - val_accuracy: 0.9933\n",
      "Epoch 21/30\n",
      "1688/1688 [==============================] - 323s 192ms/step - loss: 0.0247 - accuracy: 0.9931 - val_loss: 0.0402 - val_accuracy: 0.9915\n",
      "Epoch 22/30\n",
      "1688/1688 [==============================] - 324s 192ms/step - loss: 0.0246 - accuracy: 0.9938 - val_loss: 0.0328 - val_accuracy: 0.9913\n",
      "Epoch 23/30\n",
      "1688/1688 [==============================] - 325s 192ms/step - loss: 0.0205 - accuracy: 0.9948 - val_loss: 0.0283 - val_accuracy: 0.9938\n",
      "Epoch 24/30\n",
      "1688/1688 [==============================] - 324s 192ms/step - loss: 0.0207 - accuracy: 0.9948 - val_loss: 0.0321 - val_accuracy: 0.9940\n",
      "Epoch 25/30\n",
      "1688/1688 [==============================] - 328s 194ms/step - loss: 0.0178 - accuracy: 0.9954 - val_loss: 0.0408 - val_accuracy: 0.9915\n",
      "Epoch 26/30\n",
      "1688/1688 [==============================] - 336s 199ms/step - loss: 0.0196 - accuracy: 0.9948 - val_loss: 0.0419 - val_accuracy: 0.9923\n",
      "Epoch 27/30\n",
      "1688/1688 [==============================] - ETA: 0s - loss: 0.0187 - accuracy: 0.9952"
     ]
    }
   ],
   "source": [
    "doExperiment(cnn_model, mnist, verbose=True)"
   ]
  },
  {
   "cell_type": "markdown",
   "metadata": {},
   "source": [
    "### fmnist"
   ]
  },
  {
   "cell_type": "code",
   "execution_count": null,
   "metadata": {},
   "outputs": [],
   "source": [
    "doExperiment(cnn_model, fmnist, verbose=True)"
   ]
  },
  {
   "cell_type": "markdown",
   "metadata": {},
   "source": [
    "### CNN settings"
   ]
  },
  {
   "cell_type": "code",
   "execution_count": null,
   "metadata": {},
   "outputs": [],
   "source": [
    "cnn_scores = {}\n",
    "\n",
    "for kernal_size in [0,1,2,3]:\n",
    "  for max_pooling_size in [0,1,2,3]:\n",
    "    DefaultConv2D = partial(keras.layers.Conv2D, kernel_size=3+ kernal_size, activation='relu', padding=\"SAME\")\n",
    "    if not max_pooling_size == 0:\n",
    "      cnn_model = keras.models.Sequential([\n",
    "          DefaultConv2D(filters=64, kernel_size=7+kernal_size, input_shape=[28, 28, 1]),\n",
    "          \n",
    "          keras.layers.MaxPooling2D(pool_size=max_pooling_size),\n",
    "          DefaultConv2D(filters=128),\n",
    "          DefaultConv2D(filters=128),\n",
    "          keras.layers.MaxPooling2D(pool_size=max_pooling_size),\n",
    "          DefaultConv2D(filters=256),\n",
    "          DefaultConv2D(filters=256),\n",
    "          keras.layers.MaxPooling2D(pool_size=max_pooling_size),\n",
    "          keras.layers.Flatten(),\n",
    "          keras.layers.Dense(units=128, activation='relu'),\n",
    "          keras.layers.Dropout(0.5),\n",
    "          keras.layers.Dense(units=64, activation='relu'),\n",
    "          keras.layers.Dropout(0.5),\n",
    "          keras.layers.Dense(units=10, activation='softmax'),\n",
    "          ])\n",
    "    else:\n",
    "      cnn_model = keras.models.Sequential([\n",
    "          DefaultConv2D(filters=64, kernel_size=7+kernal_size, input_shape=[28, 28, 1]),\n",
    "          DefaultConv2D(filters=128),\n",
    "          DefaultConv2D(filters=128),\n",
    "          DefaultConv2D(filters=256),\n",
    "          DefaultConv2D(filters=256),\n",
    "          keras.layers.Flatten(),\n",
    "          keras.layers.Dense(units=128, activation='relu'),\n",
    "          keras.layers.Dropout(0.5),\n",
    "          keras.layers.Dense(units=64, activation='relu'),\n",
    "          keras.layers.Dropout(0.5),\n",
    "          keras.layers.Dense(units=10, activation='softmax'),\n",
    "          ])\n",
    "    score = doExperiment(cnn_model, fashion_mnist, verbose=False)\n",
    "    cnn_scores[max_pooling_size,kernal_size] = score"
   ]
  },
  {
   "cell_type": "code",
   "execution_count": null,
   "metadata": {},
   "outputs": [],
   "source": [
    "cnn_scores2d = pd.DataFrame(columns = ['Max Pooling Size', 'Kernel Size', 'Accuracy'])\n",
    "for k,v in cnn_scores.items():\n",
    "    cnn_scores2d = cnn_scores2d.append({'Max Pooling Size': k[0], 'Kernel Size':k[1], 'Accuracy':v[1]}, ignore_index = True)"
   ]
  },
  {
   "cell_type": "code",
   "execution_count": null,
   "metadata": {},
   "outputs": [],
   "source": [
    "heatmapdf = cnn_scores2d.set_index(['Max Pooling Size','Kernel Size'])\n",
    "heatmapdf = heatmapdf.unstack(level=0)\n",
    "ax = sns.heatmap(heatmapdf, annot=True)"
   ]
  }
 ],
 "metadata": {
  "interpreter": {
   "hash": "40d3a090f54c6569ab1632332b64b2c03c39dcf918b08424e98f38b5ae0af88f"
  },
  "kernelspec": {
   "display_name": "Python 3",
   "language": "python",
   "name": "python3"
  },
  "language_info": {
   "codemirror_mode": {
    "name": "ipython",
    "version": 3
   },
   "file_extension": ".py",
   "mimetype": "text/x-python",
   "name": "python",
   "nbconvert_exporter": "python",
   "pygments_lexer": "ipython3",
   "version": "3.8.8"
  },
  "varInspector": {
   "cols": {
    "lenName": 16,
    "lenType": 16,
    "lenVar": 40
   },
   "kernels_config": {
    "python": {
     "delete_cmd_postfix": "",
     "delete_cmd_prefix": "del ",
     "library": "var_list.py",
     "varRefreshCmd": "print(var_dic_list())"
    },
    "r": {
     "delete_cmd_postfix": ") ",
     "delete_cmd_prefix": "rm(",
     "library": "var_list.r",
     "varRefreshCmd": "cat(var_dic_list()) "
    }
   },
   "types_to_exclude": [
    "module",
    "function",
    "builtin_function_or_method",
    "instance",
    "_Feature"
   ],
   "window_display": false
  }
 },
 "nbformat": 4,
 "nbformat_minor": 2
}
